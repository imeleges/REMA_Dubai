{
  "nbformat": 4,
  "nbformat_minor": 0,
  "metadata": {
    "colab": {
      "name": "bayut-dubai-difc-downtown.ipynb",
      "provenance": [],
      "collapsed_sections": [],
      "authorship_tag": "ABX9TyPqtZ/IeahKOO0nezMPyZ/g"
    },
    "kernelspec": {
      "name": "python3",
      "display_name": "Python 3"
    },
    "language_info": {
      "name": "python"
    }
  },
  "cells": [
    {
      "cell_type": "markdown",
      "source": [
        "# Analysis of apartments rent in Dubai, UAE\n",
        " For **DIFC** and **Downtown** area"
      ],
      "metadata": {
        "id": "3L3barxvaBQA"
      }
    },
    {
      "cell_type": "markdown",
      "source": [
        "All data was scraped from Bayut website on August 9 and saved as .CSV file.  \n",
        "First downloading .CSV file from Google Drive with command `! gdown`"
      ],
      "metadata": {
        "id": "YYhr70w2ahsq"
      }
    },
    {
      "cell_type": "code",
      "source": [
        "! gdown 1EMlXkq1MI4HqYwbcvTl93bKZ2BvRqDCy"
      ],
      "metadata": {
        "colab": {
          "base_uri": "https://localhost:8080/"
        },
        "id": "eqqdiZ_aRuoa",
        "outputId": "80159199-f0b0-4d03-fe78-a58d50b9f845"
      },
      "execution_count": 1,
      "outputs": [
        {
          "output_type": "stream",
          "name": "stdout",
          "text": [
            "Downloading...\n",
            "From: https://drive.google.com/uc?id=1EMlXkq1MI4HqYwbcvTl93bKZ2BvRqDCy\n",
            "To: /content/bayut-dubai-difc-downtown.csv\n",
            "\r  0% 0.00/8.85M [00:00<?, ?B/s]\r100% 8.85M/8.85M [00:00<00:00, 207MB/s]\n"
          ]
        }
      ]
    },
    {
      "cell_type": "markdown",
      "source": [
        "Importing all necessary libraries"
      ],
      "metadata": {
        "id": "WiSWiRVdbGjw"
      }
    },
    {
      "cell_type": "code",
      "execution_count": 2,
      "metadata": {
        "id": "Ry1slFkn4yzl"
      },
      "outputs": [],
      "source": [
        "import pandas as pd"
      ]
    },
    {
      "cell_type": "markdown",
      "source": [
        "Loading .CSV file with pandas using python engine and checking first 5 rows of data"
      ],
      "metadata": {
        "id": "MxUmpNoTbPIN"
      }
    },
    {
      "cell_type": "code",
      "source": [
        "data = pd.read_csv('bayut-dubai-difc-downtown.csv', engine='python')"
      ],
      "metadata": {
        "id": "DaECWJaJ5Fme"
      },
      "execution_count": 3,
      "outputs": []
    },
    {
      "cell_type": "code",
      "source": [
        "data.head(5)"
      ],
      "metadata": {
        "colab": {
          "base_uri": "https://localhost:8080/",
          "height": 739
        },
        "id": "j1pMPXsT5HMM",
        "outputId": "54732202-804b-4efa-d114-9c9afe367baa"
      },
      "execution_count": 4,
      "outputs": [
        {
          "output_type": "execute_result",
          "data": {
            "text/plain": [
              "  web-scraper-order                              web-scraper-start-url  \\\n",
              "0   1660037380-2176  https://www.bayut.com/to-rent/apartments/dubai...   \n",
              "1   1660040273-2805  https://www.bayut.com/to-rent/apartments/dubai...   \n",
              "2   1660036840-2061  https://www.bayut.com/to-rent/apartments/dubai...   \n",
              "3   1660042132-3219  https://www.bayut.com/to-rent/apartments/dubai...   \n",
              "4   1660045614-3922  https://www.bayut.com/to-rent/apartments/dubai...   \n",
              "\n",
              "                                          pagination  apartmet-link  \\\n",
              "0  https://www.bayut.com/to-rent/apartments/dubai...            NaN   \n",
              "1  https://www.bayut.com/to-rent/apartments/dubai...            NaN   \n",
              "2  https://www.bayut.com/to-rent/apartments/dubai...            NaN   \n",
              "3  https://www.bayut.com/to-rent/apartments/dubai...            NaN   \n",
              "4  https://www.bayut.com/to-rent/apartments/dubai...            NaN   \n",
              "\n",
              "                                  apartmet-link-href building    price  \\\n",
              "0  https://www.bayut.com/property/details-5975062...      NaN  190,000   \n",
              "1  https://www.bayut.com/property/details-5937929...      NaN  165,000   \n",
              "2  https://www.bayut.com/property/details-5577993...      NaN  290,000   \n",
              "3  https://www.bayut.com/property/details-5942993...      NaN  185,000   \n",
              "4  https://www.bayut.com/property/details-6196723...      NaN  130,000   \n",
              "\n",
              "  rent-frequency                                            address    beds  \\\n",
              "0         Yearly        The Address The Blvd, Downtown Dubai, Dubai   1 Bed   \n",
              "1         Yearly              Downtown Views, Downtown Dubai, Dubai  2 Beds   \n",
              "2         Yearly  BLVD Heights Tower 2, BLVD Heights, Downtown D...  2 Beds   \n",
              "3         Yearly        The Address The Blvd, Downtown Dubai, Dubai   1 Bed   \n",
              "4         Yearly              Downtown Views, Downtown Dubai, Dubai   1 Bed   \n",
              "\n",
              "   ...            reference-no     date-added balcony-size-sqft parking  \\\n",
              "0  ...    Bayut - BHM-R-556121    23 May 2022               NaN     NaN   \n",
              "1  ...  Bayut - MK-R-5701-07-P    10 May 2022               NaN     NaN   \n",
              "2  ...   Bayut - 879-Ap-R-1951    4 July 2022               NaN     NaN   \n",
              "3  ...    Bayut - BHM-R-555721    12 May 2022               NaN     NaN   \n",
              "4  ...      Bayut - MCC-R-5685  3 August 2022               NaN     NaN   \n",
              "\n",
              "  building-info-name building-info-floors building-info-year  \\\n",
              "0                NaN                  NaN                NaN   \n",
              "1                NaN                  NaN                NaN   \n",
              "2                NaN                  NaN                NaN   \n",
              "3                NaN                  NaN                NaN   \n",
              "4                NaN                  NaN                NaN   \n",
              "\n",
              "  building-info-area-sqft   furnishing         features-amenities  \n",
              "0                     NaN    Furnished  Centrally Air-Conditioned  \n",
              "1                     NaN    Furnished          Parking Spaces: 1  \n",
              "2                     NaN  Unfurnished              Swimming Pool  \n",
              "3                     NaN    Furnished  Centrally Air-Conditioned  \n",
              "4                     NaN    Furnished                        NaN  \n",
              "\n",
              "[5 rows x 24 columns]"
            ],
            "text/html": [
              "\n",
              "  <div id=\"df-53858265-2fac-48f4-98ea-d240dd3b318a\">\n",
              "    <div class=\"colab-df-container\">\n",
              "      <div>\n",
              "<style scoped>\n",
              "    .dataframe tbody tr th:only-of-type {\n",
              "        vertical-align: middle;\n",
              "    }\n",
              "\n",
              "    .dataframe tbody tr th {\n",
              "        vertical-align: top;\n",
              "    }\n",
              "\n",
              "    .dataframe thead th {\n",
              "        text-align: right;\n",
              "    }\n",
              "</style>\n",
              "<table border=\"1\" class=\"dataframe\">\n",
              "  <thead>\n",
              "    <tr style=\"text-align: right;\">\n",
              "      <th></th>\n",
              "      <th>web-scraper-order</th>\n",
              "      <th>web-scraper-start-url</th>\n",
              "      <th>pagination</th>\n",
              "      <th>apartmet-link</th>\n",
              "      <th>apartmet-link-href</th>\n",
              "      <th>building</th>\n",
              "      <th>price</th>\n",
              "      <th>rent-frequency</th>\n",
              "      <th>address</th>\n",
              "      <th>beds</th>\n",
              "      <th>...</th>\n",
              "      <th>reference-no</th>\n",
              "      <th>date-added</th>\n",
              "      <th>balcony-size-sqft</th>\n",
              "      <th>parking</th>\n",
              "      <th>building-info-name</th>\n",
              "      <th>building-info-floors</th>\n",
              "      <th>building-info-year</th>\n",
              "      <th>building-info-area-sqft</th>\n",
              "      <th>furnishing</th>\n",
              "      <th>features-amenities</th>\n",
              "    </tr>\n",
              "  </thead>\n",
              "  <tbody>\n",
              "    <tr>\n",
              "      <th>0</th>\n",
              "      <td>1660037380-2176</td>\n",
              "      <td>https://www.bayut.com/to-rent/apartments/dubai...</td>\n",
              "      <td>https://www.bayut.com/to-rent/apartments/dubai...</td>\n",
              "      <td>NaN</td>\n",
              "      <td>https://www.bayut.com/property/details-5975062...</td>\n",
              "      <td>NaN</td>\n",
              "      <td>190,000</td>\n",
              "      <td>Yearly</td>\n",
              "      <td>The Address The Blvd, Downtown Dubai, Dubai</td>\n",
              "      <td>1 Bed</td>\n",
              "      <td>...</td>\n",
              "      <td>Bayut - BHM-R-556121</td>\n",
              "      <td>23 May 2022</td>\n",
              "      <td>NaN</td>\n",
              "      <td>NaN</td>\n",
              "      <td>NaN</td>\n",
              "      <td>NaN</td>\n",
              "      <td>NaN</td>\n",
              "      <td>NaN</td>\n",
              "      <td>Furnished</td>\n",
              "      <td>Centrally Air-Conditioned</td>\n",
              "    </tr>\n",
              "    <tr>\n",
              "      <th>1</th>\n",
              "      <td>1660040273-2805</td>\n",
              "      <td>https://www.bayut.com/to-rent/apartments/dubai...</td>\n",
              "      <td>https://www.bayut.com/to-rent/apartments/dubai...</td>\n",
              "      <td>NaN</td>\n",
              "      <td>https://www.bayut.com/property/details-5937929...</td>\n",
              "      <td>NaN</td>\n",
              "      <td>165,000</td>\n",
              "      <td>Yearly</td>\n",
              "      <td>Downtown Views, Downtown Dubai, Dubai</td>\n",
              "      <td>2 Beds</td>\n",
              "      <td>...</td>\n",
              "      <td>Bayut - MK-R-5701-07-P</td>\n",
              "      <td>10 May 2022</td>\n",
              "      <td>NaN</td>\n",
              "      <td>NaN</td>\n",
              "      <td>NaN</td>\n",
              "      <td>NaN</td>\n",
              "      <td>NaN</td>\n",
              "      <td>NaN</td>\n",
              "      <td>Furnished</td>\n",
              "      <td>Parking Spaces: 1</td>\n",
              "    </tr>\n",
              "    <tr>\n",
              "      <th>2</th>\n",
              "      <td>1660036840-2061</td>\n",
              "      <td>https://www.bayut.com/to-rent/apartments/dubai...</td>\n",
              "      <td>https://www.bayut.com/to-rent/apartments/dubai...</td>\n",
              "      <td>NaN</td>\n",
              "      <td>https://www.bayut.com/property/details-5577993...</td>\n",
              "      <td>NaN</td>\n",
              "      <td>290,000</td>\n",
              "      <td>Yearly</td>\n",
              "      <td>BLVD Heights Tower 2, BLVD Heights, Downtown D...</td>\n",
              "      <td>2 Beds</td>\n",
              "      <td>...</td>\n",
              "      <td>Bayut - 879-Ap-R-1951</td>\n",
              "      <td>4 July 2022</td>\n",
              "      <td>NaN</td>\n",
              "      <td>NaN</td>\n",
              "      <td>NaN</td>\n",
              "      <td>NaN</td>\n",
              "      <td>NaN</td>\n",
              "      <td>NaN</td>\n",
              "      <td>Unfurnished</td>\n",
              "      <td>Swimming Pool</td>\n",
              "    </tr>\n",
              "    <tr>\n",
              "      <th>3</th>\n",
              "      <td>1660042132-3219</td>\n",
              "      <td>https://www.bayut.com/to-rent/apartments/dubai...</td>\n",
              "      <td>https://www.bayut.com/to-rent/apartments/dubai...</td>\n",
              "      <td>NaN</td>\n",
              "      <td>https://www.bayut.com/property/details-5942993...</td>\n",
              "      <td>NaN</td>\n",
              "      <td>185,000</td>\n",
              "      <td>Yearly</td>\n",
              "      <td>The Address The Blvd, Downtown Dubai, Dubai</td>\n",
              "      <td>1 Bed</td>\n",
              "      <td>...</td>\n",
              "      <td>Bayut - BHM-R-555721</td>\n",
              "      <td>12 May 2022</td>\n",
              "      <td>NaN</td>\n",
              "      <td>NaN</td>\n",
              "      <td>NaN</td>\n",
              "      <td>NaN</td>\n",
              "      <td>NaN</td>\n",
              "      <td>NaN</td>\n",
              "      <td>Furnished</td>\n",
              "      <td>Centrally Air-Conditioned</td>\n",
              "    </tr>\n",
              "    <tr>\n",
              "      <th>4</th>\n",
              "      <td>1660045614-3922</td>\n",
              "      <td>https://www.bayut.com/to-rent/apartments/dubai...</td>\n",
              "      <td>https://www.bayut.com/to-rent/apartments/dubai...</td>\n",
              "      <td>NaN</td>\n",
              "      <td>https://www.bayut.com/property/details-6196723...</td>\n",
              "      <td>NaN</td>\n",
              "      <td>130,000</td>\n",
              "      <td>Yearly</td>\n",
              "      <td>Downtown Views, Downtown Dubai, Dubai</td>\n",
              "      <td>1 Bed</td>\n",
              "      <td>...</td>\n",
              "      <td>Bayut - MCC-R-5685</td>\n",
              "      <td>3 August 2022</td>\n",
              "      <td>NaN</td>\n",
              "      <td>NaN</td>\n",
              "      <td>NaN</td>\n",
              "      <td>NaN</td>\n",
              "      <td>NaN</td>\n",
              "      <td>NaN</td>\n",
              "      <td>Furnished</td>\n",
              "      <td>NaN</td>\n",
              "    </tr>\n",
              "  </tbody>\n",
              "</table>\n",
              "<p>5 rows × 24 columns</p>\n",
              "</div>\n",
              "      <button class=\"colab-df-convert\" onclick=\"convertToInteractive('df-53858265-2fac-48f4-98ea-d240dd3b318a')\"\n",
              "              title=\"Convert this dataframe to an interactive table.\"\n",
              "              style=\"display:none;\">\n",
              "        \n",
              "  <svg xmlns=\"http://www.w3.org/2000/svg\" height=\"24px\"viewBox=\"0 0 24 24\"\n",
              "       width=\"24px\">\n",
              "    <path d=\"M0 0h24v24H0V0z\" fill=\"none\"/>\n",
              "    <path d=\"M18.56 5.44l.94 2.06.94-2.06 2.06-.94-2.06-.94-.94-2.06-.94 2.06-2.06.94zm-11 1L8.5 8.5l.94-2.06 2.06-.94-2.06-.94L8.5 2.5l-.94 2.06-2.06.94zm10 10l.94 2.06.94-2.06 2.06-.94-2.06-.94-.94-2.06-.94 2.06-2.06.94z\"/><path d=\"M17.41 7.96l-1.37-1.37c-.4-.4-.92-.59-1.43-.59-.52 0-1.04.2-1.43.59L10.3 9.45l-7.72 7.72c-.78.78-.78 2.05 0 2.83L4 21.41c.39.39.9.59 1.41.59.51 0 1.02-.2 1.41-.59l7.78-7.78 2.81-2.81c.8-.78.8-2.07 0-2.86zM5.41 20L4 18.59l7.72-7.72 1.47 1.35L5.41 20z\"/>\n",
              "  </svg>\n",
              "      </button>\n",
              "      \n",
              "  <style>\n",
              "    .colab-df-container {\n",
              "      display:flex;\n",
              "      flex-wrap:wrap;\n",
              "      gap: 12px;\n",
              "    }\n",
              "\n",
              "    .colab-df-convert {\n",
              "      background-color: #E8F0FE;\n",
              "      border: none;\n",
              "      border-radius: 50%;\n",
              "      cursor: pointer;\n",
              "      display: none;\n",
              "      fill: #1967D2;\n",
              "      height: 32px;\n",
              "      padding: 0 0 0 0;\n",
              "      width: 32px;\n",
              "    }\n",
              "\n",
              "    .colab-df-convert:hover {\n",
              "      background-color: #E2EBFA;\n",
              "      box-shadow: 0px 1px 2px rgba(60, 64, 67, 0.3), 0px 1px 3px 1px rgba(60, 64, 67, 0.15);\n",
              "      fill: #174EA6;\n",
              "    }\n",
              "\n",
              "    [theme=dark] .colab-df-convert {\n",
              "      background-color: #3B4455;\n",
              "      fill: #D2E3FC;\n",
              "    }\n",
              "\n",
              "    [theme=dark] .colab-df-convert:hover {\n",
              "      background-color: #434B5C;\n",
              "      box-shadow: 0px 1px 3px 1px rgba(0, 0, 0, 0.15);\n",
              "      filter: drop-shadow(0px 1px 2px rgba(0, 0, 0, 0.3));\n",
              "      fill: #FFFFFF;\n",
              "    }\n",
              "  </style>\n",
              "\n",
              "      <script>\n",
              "        const buttonEl =\n",
              "          document.querySelector('#df-53858265-2fac-48f4-98ea-d240dd3b318a button.colab-df-convert');\n",
              "        buttonEl.style.display =\n",
              "          google.colab.kernel.accessAllowed ? 'block' : 'none';\n",
              "\n",
              "        async function convertToInteractive(key) {\n",
              "          const element = document.querySelector('#df-53858265-2fac-48f4-98ea-d240dd3b318a');\n",
              "          const dataTable =\n",
              "            await google.colab.kernel.invokeFunction('convertToInteractive',\n",
              "                                                     [key], {});\n",
              "          if (!dataTable) return;\n",
              "\n",
              "          const docLinkHtml = 'Like what you see? Visit the ' +\n",
              "            '<a target=\"_blank\" href=https://colab.research.google.com/notebooks/data_table.ipynb>data table notebook</a>'\n",
              "            + ' to learn more about interactive tables.';\n",
              "          element.innerHTML = '';\n",
              "          dataTable['output_type'] = 'display_data';\n",
              "          await google.colab.output.renderOutput(dataTable, element);\n",
              "          const docLink = document.createElement('div');\n",
              "          docLink.innerHTML = docLinkHtml;\n",
              "          element.appendChild(docLink);\n",
              "        }\n",
              "      </script>\n",
              "    </div>\n",
              "  </div>\n",
              "  "
            ]
          },
          "metadata": {},
          "execution_count": 4
        }
      ]
    },
    {
      "cell_type": "markdown",
      "source": [
        "There's a few columns that is not valuable for future analysis such as links, IDs, rent frequency as its only contains annual rent options.  \n",
        "Let's drop those columns."
      ],
      "metadata": {
        "id": "YtPSzDTnbg-G"
      }
    },
    {
      "cell_type": "code",
      "source": [
        "data.drop(['apartmet-link-href','rent-frequency','web-scraper-order','web-scraper-start-url','pagination','apartmet-link', 'building'], axis=1, inplace=True)"
      ],
      "metadata": {
        "id": "HG_Mu_7R6ukL"
      },
      "execution_count": 5,
      "outputs": []
    },
    {
      "cell_type": "code",
      "source": [
        "# for col in data.columns:\n",
        "#     print(col)\n",
        "data.columns"
      ],
      "metadata": {
        "colab": {
          "base_uri": "https://localhost:8080/"
        },
        "id": "aqkNPNrc5vDa",
        "outputId": "e01a6a94-05dd-497c-fc19-3b8e77710056"
      },
      "execution_count": 6,
      "outputs": [
        {
          "output_type": "execute_result",
          "data": {
            "text/plain": [
              "Index(['price', 'address', 'beds', 'baths', 'area-sqft', 'description-title',\n",
              "       'description', 'reference-no', 'date-added', 'balcony-size-sqft',\n",
              "       'parking', 'building-info-name', 'building-info-floors',\n",
              "       'building-info-year', 'building-info-area-sqft', 'furnishing',\n",
              "       'features-amenities'],\n",
              "      dtype='object')"
            ]
          },
          "metadata": {},
          "execution_count": 6
        }
      ]
    },
    {
      "cell_type": "markdown",
      "source": [
        "First view on data info if there are anything odd or interesting insights"
      ],
      "metadata": {
        "id": "blJrpBrLdUmD"
      }
    },
    {
      "cell_type": "code",
      "source": [
        "data.info()"
      ],
      "metadata": {
        "colab": {
          "base_uri": "https://localhost:8080/"
        },
        "id": "m4tauIsI6nsg",
        "outputId": "8c0177ce-5fb1-43c0-c7b5-179fe415e470"
      },
      "execution_count": 7,
      "outputs": [
        {
          "output_type": "stream",
          "name": "stdout",
          "text": [
            "<class 'pandas.core.frame.DataFrame'>\n",
            "RangeIndex: 4824 entries, 0 to 4823\n",
            "Data columns (total 17 columns):\n",
            " #   Column                   Non-Null Count  Dtype  \n",
            "---  ------                   --------------  -----  \n",
            " 0   price                    4824 non-null   object \n",
            " 1   address                  4824 non-null   object \n",
            " 2   beds                     4824 non-null   object \n",
            " 3   baths                    4802 non-null   object \n",
            " 4   area-sqft                4824 non-null   object \n",
            " 5   description-title        4824 non-null   object \n",
            " 6   description              4824 non-null   object \n",
            " 7   reference-no             4824 non-null   object \n",
            " 8   date-added               4824 non-null   object \n",
            " 9   balcony-size-sqft        1069 non-null   object \n",
            " 10  parking                  1188 non-null   object \n",
            " 11  building-info-name       1184 non-null   object \n",
            " 12  building-info-floors     1184 non-null   float64\n",
            " 13  building-info-year       1184 non-null   float64\n",
            " 14  building-info-area-sqft  1038 non-null   object \n",
            " 15  furnishing               3304 non-null   object \n",
            " 16  features-amenities       4049 non-null   object \n",
            "dtypes: float64(2), object(15)\n",
            "memory usage: 640.8+ KB\n"
          ]
        }
      ]
    },
    {
      "cell_type": "markdown",
      "source": [
        "Price is an object, that should be changed as number of beds, baths and some othere data.  \n",
        "Some data are missing, we will deal with that later"
      ],
      "metadata": {
        "id": "mompV0aceE3r"
      }
    },
    {
      "cell_type": "code",
      "source": [
        "data.sample()"
      ],
      "metadata": {
        "colab": {
          "base_uri": "https://localhost:8080/",
          "height": 246
        },
        "id": "ocAsg_5q8lae",
        "outputId": "3aefd715-f65b-4f42-d606-140c697f5f6d"
      },
      "execution_count": 8,
      "outputs": [
        {
          "output_type": "execute_result",
          "data": {
            "text/plain": [
              "        price                              address    beds    baths  \\\n",
              "3212  440,000  Burj Khalifa, Downtown Dubai, Dubai  3 Beds  5 Baths   \n",
              "\n",
              "       area-sqft                        description-title  \\\n",
              "3212  2,923 sqft  Large 3Bedrooms+M | Sea View | 95th Flr   \n",
              "\n",
              "                                            description        reference-no  \\\n",
              "3212  Large 3 bedrooms apartment, only few units are...  Bayut - BNH-R-2545   \n",
              "\n",
              "        date-added balcony-size-sqft parking   building-info-name  \\\n",
              "3212  26 July 2022               NaN     Yes  Burj Khalifa Zone 4   \n",
              "\n",
              "      building-info-floors  building-info-year building-info-area-sqft  \\\n",
              "3212                  33.0              2012.0              2,923 sqft   \n",
              "\n",
              "       furnishing features-amenities  \n",
              "3212  Unfurnished      Swimming Pool  "
            ],
            "text/html": [
              "\n",
              "  <div id=\"df-fa18e0bd-4147-4e2f-8cd2-fab0406d30bb\">\n",
              "    <div class=\"colab-df-container\">\n",
              "      <div>\n",
              "<style scoped>\n",
              "    .dataframe tbody tr th:only-of-type {\n",
              "        vertical-align: middle;\n",
              "    }\n",
              "\n",
              "    .dataframe tbody tr th {\n",
              "        vertical-align: top;\n",
              "    }\n",
              "\n",
              "    .dataframe thead th {\n",
              "        text-align: right;\n",
              "    }\n",
              "</style>\n",
              "<table border=\"1\" class=\"dataframe\">\n",
              "  <thead>\n",
              "    <tr style=\"text-align: right;\">\n",
              "      <th></th>\n",
              "      <th>price</th>\n",
              "      <th>address</th>\n",
              "      <th>beds</th>\n",
              "      <th>baths</th>\n",
              "      <th>area-sqft</th>\n",
              "      <th>description-title</th>\n",
              "      <th>description</th>\n",
              "      <th>reference-no</th>\n",
              "      <th>date-added</th>\n",
              "      <th>balcony-size-sqft</th>\n",
              "      <th>parking</th>\n",
              "      <th>building-info-name</th>\n",
              "      <th>building-info-floors</th>\n",
              "      <th>building-info-year</th>\n",
              "      <th>building-info-area-sqft</th>\n",
              "      <th>furnishing</th>\n",
              "      <th>features-amenities</th>\n",
              "    </tr>\n",
              "  </thead>\n",
              "  <tbody>\n",
              "    <tr>\n",
              "      <th>3212</th>\n",
              "      <td>440,000</td>\n",
              "      <td>Burj Khalifa, Downtown Dubai, Dubai</td>\n",
              "      <td>3 Beds</td>\n",
              "      <td>5 Baths</td>\n",
              "      <td>2,923 sqft</td>\n",
              "      <td>Large 3Bedrooms+M | Sea View | 95th Flr</td>\n",
              "      <td>Large 3 bedrooms apartment, only few units are...</td>\n",
              "      <td>Bayut - BNH-R-2545</td>\n",
              "      <td>26 July 2022</td>\n",
              "      <td>NaN</td>\n",
              "      <td>Yes</td>\n",
              "      <td>Burj Khalifa Zone 4</td>\n",
              "      <td>33.0</td>\n",
              "      <td>2012.0</td>\n",
              "      <td>2,923 sqft</td>\n",
              "      <td>Unfurnished</td>\n",
              "      <td>Swimming Pool</td>\n",
              "    </tr>\n",
              "  </tbody>\n",
              "</table>\n",
              "</div>\n",
              "      <button class=\"colab-df-convert\" onclick=\"convertToInteractive('df-fa18e0bd-4147-4e2f-8cd2-fab0406d30bb')\"\n",
              "              title=\"Convert this dataframe to an interactive table.\"\n",
              "              style=\"display:none;\">\n",
              "        \n",
              "  <svg xmlns=\"http://www.w3.org/2000/svg\" height=\"24px\"viewBox=\"0 0 24 24\"\n",
              "       width=\"24px\">\n",
              "    <path d=\"M0 0h24v24H0V0z\" fill=\"none\"/>\n",
              "    <path d=\"M18.56 5.44l.94 2.06.94-2.06 2.06-.94-2.06-.94-.94-2.06-.94 2.06-2.06.94zm-11 1L8.5 8.5l.94-2.06 2.06-.94-2.06-.94L8.5 2.5l-.94 2.06-2.06.94zm10 10l.94 2.06.94-2.06 2.06-.94-2.06-.94-.94-2.06-.94 2.06-2.06.94z\"/><path d=\"M17.41 7.96l-1.37-1.37c-.4-.4-.92-.59-1.43-.59-.52 0-1.04.2-1.43.59L10.3 9.45l-7.72 7.72c-.78.78-.78 2.05 0 2.83L4 21.41c.39.39.9.59 1.41.59.51 0 1.02-.2 1.41-.59l7.78-7.78 2.81-2.81c.8-.78.8-2.07 0-2.86zM5.41 20L4 18.59l7.72-7.72 1.47 1.35L5.41 20z\"/>\n",
              "  </svg>\n",
              "      </button>\n",
              "      \n",
              "  <style>\n",
              "    .colab-df-container {\n",
              "      display:flex;\n",
              "      flex-wrap:wrap;\n",
              "      gap: 12px;\n",
              "    }\n",
              "\n",
              "    .colab-df-convert {\n",
              "      background-color: #E8F0FE;\n",
              "      border: none;\n",
              "      border-radius: 50%;\n",
              "      cursor: pointer;\n",
              "      display: none;\n",
              "      fill: #1967D2;\n",
              "      height: 32px;\n",
              "      padding: 0 0 0 0;\n",
              "      width: 32px;\n",
              "    }\n",
              "\n",
              "    .colab-df-convert:hover {\n",
              "      background-color: #E2EBFA;\n",
              "      box-shadow: 0px 1px 2px rgba(60, 64, 67, 0.3), 0px 1px 3px 1px rgba(60, 64, 67, 0.15);\n",
              "      fill: #174EA6;\n",
              "    }\n",
              "\n",
              "    [theme=dark] .colab-df-convert {\n",
              "      background-color: #3B4455;\n",
              "      fill: #D2E3FC;\n",
              "    }\n",
              "\n",
              "    [theme=dark] .colab-df-convert:hover {\n",
              "      background-color: #434B5C;\n",
              "      box-shadow: 0px 1px 3px 1px rgba(0, 0, 0, 0.15);\n",
              "      filter: drop-shadow(0px 1px 2px rgba(0, 0, 0, 0.3));\n",
              "      fill: #FFFFFF;\n",
              "    }\n",
              "  </style>\n",
              "\n",
              "      <script>\n",
              "        const buttonEl =\n",
              "          document.querySelector('#df-fa18e0bd-4147-4e2f-8cd2-fab0406d30bb button.colab-df-convert');\n",
              "        buttonEl.style.display =\n",
              "          google.colab.kernel.accessAllowed ? 'block' : 'none';\n",
              "\n",
              "        async function convertToInteractive(key) {\n",
              "          const element = document.querySelector('#df-fa18e0bd-4147-4e2f-8cd2-fab0406d30bb');\n",
              "          const dataTable =\n",
              "            await google.colab.kernel.invokeFunction('convertToInteractive',\n",
              "                                                     [key], {});\n",
              "          if (!dataTable) return;\n",
              "\n",
              "          const docLinkHtml = 'Like what you see? Visit the ' +\n",
              "            '<a target=\"_blank\" href=https://colab.research.google.com/notebooks/data_table.ipynb>data table notebook</a>'\n",
              "            + ' to learn more about interactive tables.';\n",
              "          element.innerHTML = '';\n",
              "          dataTable['output_type'] = 'display_data';\n",
              "          await google.colab.output.renderOutput(dataTable, element);\n",
              "          const docLink = document.createElement('div');\n",
              "          docLink.innerHTML = docLinkHtml;\n",
              "          element.appendChild(docLink);\n",
              "        }\n",
              "      </script>\n",
              "    </div>\n",
              "  </div>\n",
              "  "
            ]
          },
          "metadata": {},
          "execution_count": 8
        }
      ]
    },
    {
      "cell_type": "markdown",
      "source": [
        "For column with price converting it to data type int, but first removing comma."
      ],
      "metadata": {
        "id": "tMLyWMUGi2I2"
      }
    },
    {
      "cell_type": "code",
      "source": [
        "data['price'] = data['price'].str.replace(',','').astype(float).astype(int)\n",
        "data['price'].sample(5)"
      ],
      "metadata": {
        "colab": {
          "base_uri": "https://localhost:8080/"
        },
        "id": "bnQQM1_nepKC",
        "outputId": "7f7b06f5-004b-4e60-f5ba-f9b6327bc590"
      },
      "execution_count": 9,
      "outputs": [
        {
          "output_type": "execute_result",
          "data": {
            "text/plain": [
              "1226    160000\n",
              "1169    129990\n",
              "2851    100000\n",
              "1843    180000\n",
              "4450     65000\n",
              "Name: price, dtype: int64"
            ]
          },
          "metadata": {},
          "execution_count": 9
        }
      ]
    },
    {
      "cell_type": "markdown",
      "source": [
        "For column with number of bedrooms, let's see how many unique values are there and then replace it with a number, if that is a studio then replace it with 0."
      ],
      "metadata": {
        "id": "ldvYCmxmjccc"
      }
    },
    {
      "cell_type": "code",
      "source": [
        "data['beds'].unique()"
      ],
      "metadata": {
        "colab": {
          "base_uri": "https://localhost:8080/"
        },
        "id": "CjVwhh9j9MR7",
        "outputId": "68fe0a8a-29f5-424d-f9a1-e49931acbe1f"
      },
      "execution_count": 10,
      "outputs": [
        {
          "output_type": "execute_result",
          "data": {
            "text/plain": [
              "array(['1 Bed', '2 Beds', 'Studio', '3 Beds', '4 Beds', '5 Beds'],\n",
              "      dtype=object)"
            ]
          },
          "metadata": {},
          "execution_count": 10
        }
      ]
    },
    {
      "cell_type": "code",
      "source": [
        "data['beds'] = data['beds'].replace(\n",
        "    {'Studio': 0,\n",
        "     '1 Bed': 1,\n",
        "     '2 Beds': 2,\n",
        "     '3 Beds': 3,\n",
        "     '4 Beds': 4,\n",
        "     '5 Beds': 5,\n",
        "    }\n",
        "  )\n"
      ],
      "metadata": {
        "id": "y5IcYSfOBgSp"
      },
      "execution_count": 11,
      "outputs": []
    },
    {
      "cell_type": "markdown",
      "source": [
        "For column with address, it has name of the city, area, bulding name or even a complecs of buildings name.  \n",
        "We need it to be separated to diferent columns for future analysis. We can see that a bulding name is always goes first, city is always the last and before city is area name.  \n",
        "So, let's split the address and save each element to a new column."
      ],
      "metadata": {
        "id": "fdzQpTaJkR_Z"
      }
    },
    {
      "cell_type": "code",
      "source": [
        "data['address_city'] = data['address'].str.split(', ').str[-1]\n",
        "data['address_area'] = data['address'].str.split(', ').str[-2]\n",
        "data['address_building'] = data['address'].str.split(', ').str[0]"
      ],
      "metadata": {
        "id": "DX6cfizQE0Xd"
      },
      "execution_count": 12,
      "outputs": []
    },
    {
      "cell_type": "code",
      "source": [
        "data[['address', 'address_city', 'address_area', 'address_building']].sample(5)"
      ],
      "metadata": {
        "colab": {
          "base_uri": "https://localhost:8080/",
          "height": 204
        },
        "id": "opV7SY38FpsY",
        "outputId": "8eb3ea40-6df0-401f-ad6e-e2caf11a2927"
      },
      "execution_count": 13,
      "outputs": [
        {
          "output_type": "execute_result",
          "data": {
            "text/plain": [
              "                                                address address_city  \\\n",
              "38        The Address Dubai Mall, Downtown Dubai, Dubai        Dubai   \n",
              "2756              Downtown Views, Downtown Dubai, Dubai        Dubai   \n",
              "4378  The Address Sky View Tower 1, The Address Sky ...        Dubai   \n",
              "1176      The Address Dubai Mall, Downtown Dubai, Dubai        Dubai   \n",
              "531   The Address Fountain Views 3, The Address Resi...        Dubai   \n",
              "\n",
              "        address_area              address_building  \n",
              "38    Downtown Dubai        The Address Dubai Mall  \n",
              "2756  Downtown Dubai                Downtown Views  \n",
              "4378  Downtown Dubai  The Address Sky View Tower 1  \n",
              "1176  Downtown Dubai        The Address Dubai Mall  \n",
              "531   Downtown Dubai  The Address Fountain Views 3  "
            ],
            "text/html": [
              "\n",
              "  <div id=\"df-be776320-6cb0-4b0d-874c-1c40c97826f9\">\n",
              "    <div class=\"colab-df-container\">\n",
              "      <div>\n",
              "<style scoped>\n",
              "    .dataframe tbody tr th:only-of-type {\n",
              "        vertical-align: middle;\n",
              "    }\n",
              "\n",
              "    .dataframe tbody tr th {\n",
              "        vertical-align: top;\n",
              "    }\n",
              "\n",
              "    .dataframe thead th {\n",
              "        text-align: right;\n",
              "    }\n",
              "</style>\n",
              "<table border=\"1\" class=\"dataframe\">\n",
              "  <thead>\n",
              "    <tr style=\"text-align: right;\">\n",
              "      <th></th>\n",
              "      <th>address</th>\n",
              "      <th>address_city</th>\n",
              "      <th>address_area</th>\n",
              "      <th>address_building</th>\n",
              "    </tr>\n",
              "  </thead>\n",
              "  <tbody>\n",
              "    <tr>\n",
              "      <th>38</th>\n",
              "      <td>The Address Dubai Mall, Downtown Dubai, Dubai</td>\n",
              "      <td>Dubai</td>\n",
              "      <td>Downtown Dubai</td>\n",
              "      <td>The Address Dubai Mall</td>\n",
              "    </tr>\n",
              "    <tr>\n",
              "      <th>2756</th>\n",
              "      <td>Downtown Views, Downtown Dubai, Dubai</td>\n",
              "      <td>Dubai</td>\n",
              "      <td>Downtown Dubai</td>\n",
              "      <td>Downtown Views</td>\n",
              "    </tr>\n",
              "    <tr>\n",
              "      <th>4378</th>\n",
              "      <td>The Address Sky View Tower 1, The Address Sky ...</td>\n",
              "      <td>Dubai</td>\n",
              "      <td>Downtown Dubai</td>\n",
              "      <td>The Address Sky View Tower 1</td>\n",
              "    </tr>\n",
              "    <tr>\n",
              "      <th>1176</th>\n",
              "      <td>The Address Dubai Mall, Downtown Dubai, Dubai</td>\n",
              "      <td>Dubai</td>\n",
              "      <td>Downtown Dubai</td>\n",
              "      <td>The Address Dubai Mall</td>\n",
              "    </tr>\n",
              "    <tr>\n",
              "      <th>531</th>\n",
              "      <td>The Address Fountain Views 3, The Address Resi...</td>\n",
              "      <td>Dubai</td>\n",
              "      <td>Downtown Dubai</td>\n",
              "      <td>The Address Fountain Views 3</td>\n",
              "    </tr>\n",
              "  </tbody>\n",
              "</table>\n",
              "</div>\n",
              "      <button class=\"colab-df-convert\" onclick=\"convertToInteractive('df-be776320-6cb0-4b0d-874c-1c40c97826f9')\"\n",
              "              title=\"Convert this dataframe to an interactive table.\"\n",
              "              style=\"display:none;\">\n",
              "        \n",
              "  <svg xmlns=\"http://www.w3.org/2000/svg\" height=\"24px\"viewBox=\"0 0 24 24\"\n",
              "       width=\"24px\">\n",
              "    <path d=\"M0 0h24v24H0V0z\" fill=\"none\"/>\n",
              "    <path d=\"M18.56 5.44l.94 2.06.94-2.06 2.06-.94-2.06-.94-.94-2.06-.94 2.06-2.06.94zm-11 1L8.5 8.5l.94-2.06 2.06-.94-2.06-.94L8.5 2.5l-.94 2.06-2.06.94zm10 10l.94 2.06.94-2.06 2.06-.94-2.06-.94-.94-2.06-.94 2.06-2.06.94z\"/><path d=\"M17.41 7.96l-1.37-1.37c-.4-.4-.92-.59-1.43-.59-.52 0-1.04.2-1.43.59L10.3 9.45l-7.72 7.72c-.78.78-.78 2.05 0 2.83L4 21.41c.39.39.9.59 1.41.59.51 0 1.02-.2 1.41-.59l7.78-7.78 2.81-2.81c.8-.78.8-2.07 0-2.86zM5.41 20L4 18.59l7.72-7.72 1.47 1.35L5.41 20z\"/>\n",
              "  </svg>\n",
              "      </button>\n",
              "      \n",
              "  <style>\n",
              "    .colab-df-container {\n",
              "      display:flex;\n",
              "      flex-wrap:wrap;\n",
              "      gap: 12px;\n",
              "    }\n",
              "\n",
              "    .colab-df-convert {\n",
              "      background-color: #E8F0FE;\n",
              "      border: none;\n",
              "      border-radius: 50%;\n",
              "      cursor: pointer;\n",
              "      display: none;\n",
              "      fill: #1967D2;\n",
              "      height: 32px;\n",
              "      padding: 0 0 0 0;\n",
              "      width: 32px;\n",
              "    }\n",
              "\n",
              "    .colab-df-convert:hover {\n",
              "      background-color: #E2EBFA;\n",
              "      box-shadow: 0px 1px 2px rgba(60, 64, 67, 0.3), 0px 1px 3px 1px rgba(60, 64, 67, 0.15);\n",
              "      fill: #174EA6;\n",
              "    }\n",
              "\n",
              "    [theme=dark] .colab-df-convert {\n",
              "      background-color: #3B4455;\n",
              "      fill: #D2E3FC;\n",
              "    }\n",
              "\n",
              "    [theme=dark] .colab-df-convert:hover {\n",
              "      background-color: #434B5C;\n",
              "      box-shadow: 0px 1px 3px 1px rgba(0, 0, 0, 0.15);\n",
              "      filter: drop-shadow(0px 1px 2px rgba(0, 0, 0, 0.3));\n",
              "      fill: #FFFFFF;\n",
              "    }\n",
              "  </style>\n",
              "\n",
              "      <script>\n",
              "        const buttonEl =\n",
              "          document.querySelector('#df-be776320-6cb0-4b0d-874c-1c40c97826f9 button.colab-df-convert');\n",
              "        buttonEl.style.display =\n",
              "          google.colab.kernel.accessAllowed ? 'block' : 'none';\n",
              "\n",
              "        async function convertToInteractive(key) {\n",
              "          const element = document.querySelector('#df-be776320-6cb0-4b0d-874c-1c40c97826f9');\n",
              "          const dataTable =\n",
              "            await google.colab.kernel.invokeFunction('convertToInteractive',\n",
              "                                                     [key], {});\n",
              "          if (!dataTable) return;\n",
              "\n",
              "          const docLinkHtml = 'Like what you see? Visit the ' +\n",
              "            '<a target=\"_blank\" href=https://colab.research.google.com/notebooks/data_table.ipynb>data table notebook</a>'\n",
              "            + ' to learn more about interactive tables.';\n",
              "          element.innerHTML = '';\n",
              "          dataTable['output_type'] = 'display_data';\n",
              "          await google.colab.output.renderOutput(dataTable, element);\n",
              "          const docLink = document.createElement('div');\n",
              "          docLink.innerHTML = docLinkHtml;\n",
              "          element.appendChild(docLink);\n",
              "        }\n",
              "      </script>\n",
              "    </div>\n",
              "  </div>\n",
              "  "
            ]
          },
          "metadata": {},
          "execution_count": 13
        }
      ]
    },
    {
      "cell_type": "markdown",
      "source": [
        "We no longer needed column with address, let's drop it."
      ],
      "metadata": {
        "id": "_oyF17I8mlmB"
      }
    },
    {
      "cell_type": "code",
      "source": [
        "data.drop(['address'], axis=1, inplace=True)"
      ],
      "metadata": {
        "id": "MEZIJCEVZV6k"
      },
      "execution_count": 14,
      "outputs": []
    },
    {
      "cell_type": "code",
      "source": [
        ""
      ],
      "metadata": {
        "id": "8jydrLcVm4DJ"
      },
      "execution_count": 14,
      "outputs": []
    }
  ]
}