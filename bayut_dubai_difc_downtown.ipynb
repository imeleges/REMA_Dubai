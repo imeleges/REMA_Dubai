{
  "nbformat": 4,
  "nbformat_minor": 0,
  "metadata": {
    "colab": {
      "name": "bayut-dubai-difc-downtown.ipynb",
      "provenance": [],
      "collapsed_sections": [
        "9-4gCqb8eDkv"
      ],
      "toc_visible": true,
      "authorship_tag": "ABX9TyMNLaiGR5xluZB1wUvrqcfc"
    },
    "kernelspec": {
      "name": "python3",
      "display_name": "Python 3"
    },
    "language_info": {
      "name": "python"
    }
  },
  "cells": [
    {
      "cell_type": "markdown",
      "source": [
        "# Analysis of apartments rent in Dubai, UAE\n",
        " For **DIFC** and **Downtown** area"
      ],
      "metadata": {
        "id": "3L3barxvaBQA"
      }
    },
    {
      "cell_type": "markdown",
      "source": [
        "## Preparations"
      ],
      "metadata": {
        "id": "Hy1-Mb-ErclJ"
      }
    },
    {
      "cell_type": "markdown",
      "source": [
        "All data was scraped from Bayut website on August 9 and saved as .CSV file.  \n",
        "First downloading .CSV file from Google Drive with command `! gdown`"
      ],
      "metadata": {
        "id": "YYhr70w2ahsq"
      }
    },
    {
      "cell_type": "code",
      "source": [
        "! gdown 1EMlXkq1MI4HqYwbcvTl93bKZ2BvRqDCy"
      ],
      "metadata": {
        "colab": {
          "base_uri": "https://localhost:8080/"
        },
        "id": "eqqdiZ_aRuoa",
        "outputId": "1f4cf082-a134-4432-ce07-eabecdad5de2"
      },
      "execution_count": 1,
      "outputs": [
        {
          "output_type": "stream",
          "name": "stdout",
          "text": [
            "Downloading...\n",
            "From: https://drive.google.com/uc?id=1EMlXkq1MI4HqYwbcvTl93bKZ2BvRqDCy\n",
            "To: /content/bayut-dubai-difc-downtown.csv\n",
            "\r  0% 0.00/8.85M [00:00<?, ?B/s]\r100% 8.85M/8.85M [00:00<00:00, 229MB/s]\n"
          ]
        }
      ]
    },
    {
      "cell_type": "markdown",
      "source": [
        "Importing all necessary libraries"
      ],
      "metadata": {
        "id": "WiSWiRVdbGjw"
      }
    },
    {
      "cell_type": "code",
      "execution_count": 2,
      "metadata": {
        "id": "Ry1slFkn4yzl"
      },
      "outputs": [],
      "source": [
        "import pandas as pd\n",
        "import matplotlib.pyplot as plt\n",
        "import numpy as np"
      ]
    },
    {
      "cell_type": "markdown",
      "source": [
        "Loading .CSV file with pandas using python engine and checking first 5 rows of data"
      ],
      "metadata": {
        "id": "MxUmpNoTbPIN"
      }
    },
    {
      "cell_type": "code",
      "source": [
        "data = pd.read_csv('bayut-dubai-difc-downtown.csv', engine='python')"
      ],
      "metadata": {
        "id": "DaECWJaJ5Fme"
      },
      "execution_count": 3,
      "outputs": []
    },
    {
      "cell_type": "code",
      "source": [
        "data.head(5)"
      ],
      "metadata": {
        "colab": {
          "base_uri": "https://localhost:8080/",
          "height": 739
        },
        "id": "j1pMPXsT5HMM",
        "outputId": "9575160f-4b36-4637-d223-89dfea1d5786"
      },
      "execution_count": 4,
      "outputs": [
        {
          "output_type": "execute_result",
          "data": {
            "text/plain": [
              "  web-scraper-order                              web-scraper-start-url  \\\n",
              "0   1660037380-2176  https://www.bayut.com/to-rent/apartments/dubai...   \n",
              "1   1660040273-2805  https://www.bayut.com/to-rent/apartments/dubai...   \n",
              "2   1660036840-2061  https://www.bayut.com/to-rent/apartments/dubai...   \n",
              "3   1660042132-3219  https://www.bayut.com/to-rent/apartments/dubai...   \n",
              "4   1660045614-3922  https://www.bayut.com/to-rent/apartments/dubai...   \n",
              "\n",
              "                                          pagination  apartmet-link  \\\n",
              "0  https://www.bayut.com/to-rent/apartments/dubai...            NaN   \n",
              "1  https://www.bayut.com/to-rent/apartments/dubai...            NaN   \n",
              "2  https://www.bayut.com/to-rent/apartments/dubai...            NaN   \n",
              "3  https://www.bayut.com/to-rent/apartments/dubai...            NaN   \n",
              "4  https://www.bayut.com/to-rent/apartments/dubai...            NaN   \n",
              "\n",
              "                                  apartmet-link-href building    price  \\\n",
              "0  https://www.bayut.com/property/details-5975062...      NaN  190,000   \n",
              "1  https://www.bayut.com/property/details-5937929...      NaN  165,000   \n",
              "2  https://www.bayut.com/property/details-5577993...      NaN  290,000   \n",
              "3  https://www.bayut.com/property/details-5942993...      NaN  185,000   \n",
              "4  https://www.bayut.com/property/details-6196723...      NaN  130,000   \n",
              "\n",
              "  rent-frequency                                            address    beds  \\\n",
              "0         Yearly        The Address The Blvd, Downtown Dubai, Dubai   1 Bed   \n",
              "1         Yearly              Downtown Views, Downtown Dubai, Dubai  2 Beds   \n",
              "2         Yearly  BLVD Heights Tower 2, BLVD Heights, Downtown D...  2 Beds   \n",
              "3         Yearly        The Address The Blvd, Downtown Dubai, Dubai   1 Bed   \n",
              "4         Yearly              Downtown Views, Downtown Dubai, Dubai   1 Bed   \n",
              "\n",
              "   ...            reference-no     date-added balcony-size-sqft parking  \\\n",
              "0  ...    Bayut - BHM-R-556121    23 May 2022               NaN     NaN   \n",
              "1  ...  Bayut - MK-R-5701-07-P    10 May 2022               NaN     NaN   \n",
              "2  ...   Bayut - 879-Ap-R-1951    4 July 2022               NaN     NaN   \n",
              "3  ...    Bayut - BHM-R-555721    12 May 2022               NaN     NaN   \n",
              "4  ...      Bayut - MCC-R-5685  3 August 2022               NaN     NaN   \n",
              "\n",
              "  building-info-name building-info-floors building-info-year  \\\n",
              "0                NaN                  NaN                NaN   \n",
              "1                NaN                  NaN                NaN   \n",
              "2                NaN                  NaN                NaN   \n",
              "3                NaN                  NaN                NaN   \n",
              "4                NaN                  NaN                NaN   \n",
              "\n",
              "  building-info-area-sqft   furnishing         features-amenities  \n",
              "0                     NaN    Furnished  Centrally Air-Conditioned  \n",
              "1                     NaN    Furnished          Parking Spaces: 1  \n",
              "2                     NaN  Unfurnished              Swimming Pool  \n",
              "3                     NaN    Furnished  Centrally Air-Conditioned  \n",
              "4                     NaN    Furnished                        NaN  \n",
              "\n",
              "[5 rows x 24 columns]"
            ],
            "text/html": [
              "\n",
              "  <div id=\"df-bf08639b-3e6c-4c75-b7d6-a9966aec4203\">\n",
              "    <div class=\"colab-df-container\">\n",
              "      <div>\n",
              "<style scoped>\n",
              "    .dataframe tbody tr th:only-of-type {\n",
              "        vertical-align: middle;\n",
              "    }\n",
              "\n",
              "    .dataframe tbody tr th {\n",
              "        vertical-align: top;\n",
              "    }\n",
              "\n",
              "    .dataframe thead th {\n",
              "        text-align: right;\n",
              "    }\n",
              "</style>\n",
              "<table border=\"1\" class=\"dataframe\">\n",
              "  <thead>\n",
              "    <tr style=\"text-align: right;\">\n",
              "      <th></th>\n",
              "      <th>web-scraper-order</th>\n",
              "      <th>web-scraper-start-url</th>\n",
              "      <th>pagination</th>\n",
              "      <th>apartmet-link</th>\n",
              "      <th>apartmet-link-href</th>\n",
              "      <th>building</th>\n",
              "      <th>price</th>\n",
              "      <th>rent-frequency</th>\n",
              "      <th>address</th>\n",
              "      <th>beds</th>\n",
              "      <th>...</th>\n",
              "      <th>reference-no</th>\n",
              "      <th>date-added</th>\n",
              "      <th>balcony-size-sqft</th>\n",
              "      <th>parking</th>\n",
              "      <th>building-info-name</th>\n",
              "      <th>building-info-floors</th>\n",
              "      <th>building-info-year</th>\n",
              "      <th>building-info-area-sqft</th>\n",
              "      <th>furnishing</th>\n",
              "      <th>features-amenities</th>\n",
              "    </tr>\n",
              "  </thead>\n",
              "  <tbody>\n",
              "    <tr>\n",
              "      <th>0</th>\n",
              "      <td>1660037380-2176</td>\n",
              "      <td>https://www.bayut.com/to-rent/apartments/dubai...</td>\n",
              "      <td>https://www.bayut.com/to-rent/apartments/dubai...</td>\n",
              "      <td>NaN</td>\n",
              "      <td>https://www.bayut.com/property/details-5975062...</td>\n",
              "      <td>NaN</td>\n",
              "      <td>190,000</td>\n",
              "      <td>Yearly</td>\n",
              "      <td>The Address The Blvd, Downtown Dubai, Dubai</td>\n",
              "      <td>1 Bed</td>\n",
              "      <td>...</td>\n",
              "      <td>Bayut - BHM-R-556121</td>\n",
              "      <td>23 May 2022</td>\n",
              "      <td>NaN</td>\n",
              "      <td>NaN</td>\n",
              "      <td>NaN</td>\n",
              "      <td>NaN</td>\n",
              "      <td>NaN</td>\n",
              "      <td>NaN</td>\n",
              "      <td>Furnished</td>\n",
              "      <td>Centrally Air-Conditioned</td>\n",
              "    </tr>\n",
              "    <tr>\n",
              "      <th>1</th>\n",
              "      <td>1660040273-2805</td>\n",
              "      <td>https://www.bayut.com/to-rent/apartments/dubai...</td>\n",
              "      <td>https://www.bayut.com/to-rent/apartments/dubai...</td>\n",
              "      <td>NaN</td>\n",
              "      <td>https://www.bayut.com/property/details-5937929...</td>\n",
              "      <td>NaN</td>\n",
              "      <td>165,000</td>\n",
              "      <td>Yearly</td>\n",
              "      <td>Downtown Views, Downtown Dubai, Dubai</td>\n",
              "      <td>2 Beds</td>\n",
              "      <td>...</td>\n",
              "      <td>Bayut - MK-R-5701-07-P</td>\n",
              "      <td>10 May 2022</td>\n",
              "      <td>NaN</td>\n",
              "      <td>NaN</td>\n",
              "      <td>NaN</td>\n",
              "      <td>NaN</td>\n",
              "      <td>NaN</td>\n",
              "      <td>NaN</td>\n",
              "      <td>Furnished</td>\n",
              "      <td>Parking Spaces: 1</td>\n",
              "    </tr>\n",
              "    <tr>\n",
              "      <th>2</th>\n",
              "      <td>1660036840-2061</td>\n",
              "      <td>https://www.bayut.com/to-rent/apartments/dubai...</td>\n",
              "      <td>https://www.bayut.com/to-rent/apartments/dubai...</td>\n",
              "      <td>NaN</td>\n",
              "      <td>https://www.bayut.com/property/details-5577993...</td>\n",
              "      <td>NaN</td>\n",
              "      <td>290,000</td>\n",
              "      <td>Yearly</td>\n",
              "      <td>BLVD Heights Tower 2, BLVD Heights, Downtown D...</td>\n",
              "      <td>2 Beds</td>\n",
              "      <td>...</td>\n",
              "      <td>Bayut - 879-Ap-R-1951</td>\n",
              "      <td>4 July 2022</td>\n",
              "      <td>NaN</td>\n",
              "      <td>NaN</td>\n",
              "      <td>NaN</td>\n",
              "      <td>NaN</td>\n",
              "      <td>NaN</td>\n",
              "      <td>NaN</td>\n",
              "      <td>Unfurnished</td>\n",
              "      <td>Swimming Pool</td>\n",
              "    </tr>\n",
              "    <tr>\n",
              "      <th>3</th>\n",
              "      <td>1660042132-3219</td>\n",
              "      <td>https://www.bayut.com/to-rent/apartments/dubai...</td>\n",
              "      <td>https://www.bayut.com/to-rent/apartments/dubai...</td>\n",
              "      <td>NaN</td>\n",
              "      <td>https://www.bayut.com/property/details-5942993...</td>\n",
              "      <td>NaN</td>\n",
              "      <td>185,000</td>\n",
              "      <td>Yearly</td>\n",
              "      <td>The Address The Blvd, Downtown Dubai, Dubai</td>\n",
              "      <td>1 Bed</td>\n",
              "      <td>...</td>\n",
              "      <td>Bayut - BHM-R-555721</td>\n",
              "      <td>12 May 2022</td>\n",
              "      <td>NaN</td>\n",
              "      <td>NaN</td>\n",
              "      <td>NaN</td>\n",
              "      <td>NaN</td>\n",
              "      <td>NaN</td>\n",
              "      <td>NaN</td>\n",
              "      <td>Furnished</td>\n",
              "      <td>Centrally Air-Conditioned</td>\n",
              "    </tr>\n",
              "    <tr>\n",
              "      <th>4</th>\n",
              "      <td>1660045614-3922</td>\n",
              "      <td>https://www.bayut.com/to-rent/apartments/dubai...</td>\n",
              "      <td>https://www.bayut.com/to-rent/apartments/dubai...</td>\n",
              "      <td>NaN</td>\n",
              "      <td>https://www.bayut.com/property/details-6196723...</td>\n",
              "      <td>NaN</td>\n",
              "      <td>130,000</td>\n",
              "      <td>Yearly</td>\n",
              "      <td>Downtown Views, Downtown Dubai, Dubai</td>\n",
              "      <td>1 Bed</td>\n",
              "      <td>...</td>\n",
              "      <td>Bayut - MCC-R-5685</td>\n",
              "      <td>3 August 2022</td>\n",
              "      <td>NaN</td>\n",
              "      <td>NaN</td>\n",
              "      <td>NaN</td>\n",
              "      <td>NaN</td>\n",
              "      <td>NaN</td>\n",
              "      <td>NaN</td>\n",
              "      <td>Furnished</td>\n",
              "      <td>NaN</td>\n",
              "    </tr>\n",
              "  </tbody>\n",
              "</table>\n",
              "<p>5 rows × 24 columns</p>\n",
              "</div>\n",
              "      <button class=\"colab-df-convert\" onclick=\"convertToInteractive('df-bf08639b-3e6c-4c75-b7d6-a9966aec4203')\"\n",
              "              title=\"Convert this dataframe to an interactive table.\"\n",
              "              style=\"display:none;\">\n",
              "        \n",
              "  <svg xmlns=\"http://www.w3.org/2000/svg\" height=\"24px\"viewBox=\"0 0 24 24\"\n",
              "       width=\"24px\">\n",
              "    <path d=\"M0 0h24v24H0V0z\" fill=\"none\"/>\n",
              "    <path d=\"M18.56 5.44l.94 2.06.94-2.06 2.06-.94-2.06-.94-.94-2.06-.94 2.06-2.06.94zm-11 1L8.5 8.5l.94-2.06 2.06-.94-2.06-.94L8.5 2.5l-.94 2.06-2.06.94zm10 10l.94 2.06.94-2.06 2.06-.94-2.06-.94-.94-2.06-.94 2.06-2.06.94z\"/><path d=\"M17.41 7.96l-1.37-1.37c-.4-.4-.92-.59-1.43-.59-.52 0-1.04.2-1.43.59L10.3 9.45l-7.72 7.72c-.78.78-.78 2.05 0 2.83L4 21.41c.39.39.9.59 1.41.59.51 0 1.02-.2 1.41-.59l7.78-7.78 2.81-2.81c.8-.78.8-2.07 0-2.86zM5.41 20L4 18.59l7.72-7.72 1.47 1.35L5.41 20z\"/>\n",
              "  </svg>\n",
              "      </button>\n",
              "      \n",
              "  <style>\n",
              "    .colab-df-container {\n",
              "      display:flex;\n",
              "      flex-wrap:wrap;\n",
              "      gap: 12px;\n",
              "    }\n",
              "\n",
              "    .colab-df-convert {\n",
              "      background-color: #E8F0FE;\n",
              "      border: none;\n",
              "      border-radius: 50%;\n",
              "      cursor: pointer;\n",
              "      display: none;\n",
              "      fill: #1967D2;\n",
              "      height: 32px;\n",
              "      padding: 0 0 0 0;\n",
              "      width: 32px;\n",
              "    }\n",
              "\n",
              "    .colab-df-convert:hover {\n",
              "      background-color: #E2EBFA;\n",
              "      box-shadow: 0px 1px 2px rgba(60, 64, 67, 0.3), 0px 1px 3px 1px rgba(60, 64, 67, 0.15);\n",
              "      fill: #174EA6;\n",
              "    }\n",
              "\n",
              "    [theme=dark] .colab-df-convert {\n",
              "      background-color: #3B4455;\n",
              "      fill: #D2E3FC;\n",
              "    }\n",
              "\n",
              "    [theme=dark] .colab-df-convert:hover {\n",
              "      background-color: #434B5C;\n",
              "      box-shadow: 0px 1px 3px 1px rgba(0, 0, 0, 0.15);\n",
              "      filter: drop-shadow(0px 1px 2px rgba(0, 0, 0, 0.3));\n",
              "      fill: #FFFFFF;\n",
              "    }\n",
              "  </style>\n",
              "\n",
              "      <script>\n",
              "        const buttonEl =\n",
              "          document.querySelector('#df-bf08639b-3e6c-4c75-b7d6-a9966aec4203 button.colab-df-convert');\n",
              "        buttonEl.style.display =\n",
              "          google.colab.kernel.accessAllowed ? 'block' : 'none';\n",
              "\n",
              "        async function convertToInteractive(key) {\n",
              "          const element = document.querySelector('#df-bf08639b-3e6c-4c75-b7d6-a9966aec4203');\n",
              "          const dataTable =\n",
              "            await google.colab.kernel.invokeFunction('convertToInteractive',\n",
              "                                                     [key], {});\n",
              "          if (!dataTable) return;\n",
              "\n",
              "          const docLinkHtml = 'Like what you see? Visit the ' +\n",
              "            '<a target=\"_blank\" href=https://colab.research.google.com/notebooks/data_table.ipynb>data table notebook</a>'\n",
              "            + ' to learn more about interactive tables.';\n",
              "          element.innerHTML = '';\n",
              "          dataTable['output_type'] = 'display_data';\n",
              "          await google.colab.output.renderOutput(dataTable, element);\n",
              "          const docLink = document.createElement('div');\n",
              "          docLink.innerHTML = docLinkHtml;\n",
              "          element.appendChild(docLink);\n",
              "        }\n",
              "      </script>\n",
              "    </div>\n",
              "  </div>\n",
              "  "
            ]
          },
          "metadata": {},
          "execution_count": 4
        }
      ]
    },
    {
      "cell_type": "markdown",
      "source": [
        "There's a few columns that is not valuable for future analysis such as links, IDs, rent frequency as its only contains annual rent options.  \n",
        "Let's drop those columns."
      ],
      "metadata": {
        "id": "YtPSzDTnbg-G"
      }
    },
    {
      "cell_type": "code",
      "source": [
        "data.drop(['apartmet-link-href','rent-frequency','web-scraper-order','web-scraper-start-url','pagination','apartmet-link', 'building'], axis=1, inplace=True)"
      ],
      "metadata": {
        "id": "HG_Mu_7R6ukL"
      },
      "execution_count": 5,
      "outputs": []
    },
    {
      "cell_type": "code",
      "source": [
        "# for col in data.columns:\n",
        "#     print(col)\n",
        "data.columns"
      ],
      "metadata": {
        "colab": {
          "base_uri": "https://localhost:8080/"
        },
        "id": "aqkNPNrc5vDa",
        "outputId": "54efe3ae-8647-4c87-c172-dd09177ab1e7"
      },
      "execution_count": 6,
      "outputs": [
        {
          "output_type": "execute_result",
          "data": {
            "text/plain": [
              "Index(['price', 'address', 'beds', 'baths', 'area-sqft', 'description-title',\n",
              "       'description', 'reference-no', 'date-added', 'balcony-size-sqft',\n",
              "       'parking', 'building-info-name', 'building-info-floors',\n",
              "       'building-info-year', 'building-info-area-sqft', 'furnishing',\n",
              "       'features-amenities'],\n",
              "      dtype='object')"
            ]
          },
          "metadata": {},
          "execution_count": 6
        }
      ]
    },
    {
      "cell_type": "markdown",
      "source": [
        "First view on data info if there are anything odd or interesting insights"
      ],
      "metadata": {
        "id": "blJrpBrLdUmD"
      }
    },
    {
      "cell_type": "code",
      "source": [
        "data.info()"
      ],
      "metadata": {
        "colab": {
          "base_uri": "https://localhost:8080/"
        },
        "id": "m4tauIsI6nsg",
        "outputId": "5fd229d8-238f-4243-89f3-2cd8899f9558"
      },
      "execution_count": 7,
      "outputs": [
        {
          "output_type": "stream",
          "name": "stdout",
          "text": [
            "<class 'pandas.core.frame.DataFrame'>\n",
            "RangeIndex: 4824 entries, 0 to 4823\n",
            "Data columns (total 17 columns):\n",
            " #   Column                   Non-Null Count  Dtype  \n",
            "---  ------                   --------------  -----  \n",
            " 0   price                    4824 non-null   object \n",
            " 1   address                  4824 non-null   object \n",
            " 2   beds                     4824 non-null   object \n",
            " 3   baths                    4802 non-null   object \n",
            " 4   area-sqft                4824 non-null   object \n",
            " 5   description-title        4824 non-null   object \n",
            " 6   description              4824 non-null   object \n",
            " 7   reference-no             4824 non-null   object \n",
            " 8   date-added               4824 non-null   object \n",
            " 9   balcony-size-sqft        1069 non-null   object \n",
            " 10  parking                  1188 non-null   object \n",
            " 11  building-info-name       1184 non-null   object \n",
            " 12  building-info-floors     1184 non-null   float64\n",
            " 13  building-info-year       1184 non-null   float64\n",
            " 14  building-info-area-sqft  1038 non-null   object \n",
            " 15  furnishing               3304 non-null   object \n",
            " 16  features-amenities       4049 non-null   object \n",
            "dtypes: float64(2), object(15)\n",
            "memory usage: 640.8+ KB\n"
          ]
        }
      ]
    },
    {
      "cell_type": "markdown",
      "source": [
        "Price is an object, that should be changed as number of beds, baths and some othere data.  \n",
        "Some data are missing, we will deal with that later"
      ],
      "metadata": {
        "id": "mompV0aceE3r"
      }
    },
    {
      "cell_type": "code",
      "source": [
        "data.sample()"
      ],
      "metadata": {
        "colab": {
          "base_uri": "https://localhost:8080/",
          "height": 263
        },
        "id": "ocAsg_5q8lae",
        "outputId": "0a348c6b-1ee7-4e29-d302-805e9d4421d5"
      },
      "execution_count": 8,
      "outputs": [
        {
          "output_type": "execute_result",
          "data": {
            "text/plain": [
              "       price                                            address   beds  \\\n",
              "1084  98,000  29 Boulevard 1, 29 Boulevard, Downtown Dubai, ...  1 Bed   \n",
              "\n",
              "        baths area-sqft                                  description-title  \\\n",
              "1084  2 Baths  877 sqft  Burj khalifa community || Fully Furnished 1BHK...   \n",
              "\n",
              "                                            description       reference-no  \\\n",
              "1084  About Spot Light Real Estate Broker\\n\\n\\nWe ar...  Bayut - SF-29B-98   \n",
              "\n",
              "        date-added balcony-size-sqft parking building-info-name  \\\n",
              "1084  25 July 2022               NaN     NaN                NaN   \n",
              "\n",
              "      building-info-floors  building-info-year building-info-area-sqft  \\\n",
              "1084                   NaN                 NaN                     NaN   \n",
              "\n",
              "     furnishing features-amenities  \n",
              "1084  Furnished          Furnished  "
            ],
            "text/html": [
              "\n",
              "  <div id=\"df-7ee6694c-473d-4140-ba09-b75187f0e149\">\n",
              "    <div class=\"colab-df-container\">\n",
              "      <div>\n",
              "<style scoped>\n",
              "    .dataframe tbody tr th:only-of-type {\n",
              "        vertical-align: middle;\n",
              "    }\n",
              "\n",
              "    .dataframe tbody tr th {\n",
              "        vertical-align: top;\n",
              "    }\n",
              "\n",
              "    .dataframe thead th {\n",
              "        text-align: right;\n",
              "    }\n",
              "</style>\n",
              "<table border=\"1\" class=\"dataframe\">\n",
              "  <thead>\n",
              "    <tr style=\"text-align: right;\">\n",
              "      <th></th>\n",
              "      <th>price</th>\n",
              "      <th>address</th>\n",
              "      <th>beds</th>\n",
              "      <th>baths</th>\n",
              "      <th>area-sqft</th>\n",
              "      <th>description-title</th>\n",
              "      <th>description</th>\n",
              "      <th>reference-no</th>\n",
              "      <th>date-added</th>\n",
              "      <th>balcony-size-sqft</th>\n",
              "      <th>parking</th>\n",
              "      <th>building-info-name</th>\n",
              "      <th>building-info-floors</th>\n",
              "      <th>building-info-year</th>\n",
              "      <th>building-info-area-sqft</th>\n",
              "      <th>furnishing</th>\n",
              "      <th>features-amenities</th>\n",
              "    </tr>\n",
              "  </thead>\n",
              "  <tbody>\n",
              "    <tr>\n",
              "      <th>1084</th>\n",
              "      <td>98,000</td>\n",
              "      <td>29 Boulevard 1, 29 Boulevard, Downtown Dubai, ...</td>\n",
              "      <td>1 Bed</td>\n",
              "      <td>2 Baths</td>\n",
              "      <td>877 sqft</td>\n",
              "      <td>Burj khalifa community || Fully Furnished 1BHK...</td>\n",
              "      <td>About Spot Light Real Estate Broker\\n\\n\\nWe ar...</td>\n",
              "      <td>Bayut - SF-29B-98</td>\n",
              "      <td>25 July 2022</td>\n",
              "      <td>NaN</td>\n",
              "      <td>NaN</td>\n",
              "      <td>NaN</td>\n",
              "      <td>NaN</td>\n",
              "      <td>NaN</td>\n",
              "      <td>NaN</td>\n",
              "      <td>Furnished</td>\n",
              "      <td>Furnished</td>\n",
              "    </tr>\n",
              "  </tbody>\n",
              "</table>\n",
              "</div>\n",
              "      <button class=\"colab-df-convert\" onclick=\"convertToInteractive('df-7ee6694c-473d-4140-ba09-b75187f0e149')\"\n",
              "              title=\"Convert this dataframe to an interactive table.\"\n",
              "              style=\"display:none;\">\n",
              "        \n",
              "  <svg xmlns=\"http://www.w3.org/2000/svg\" height=\"24px\"viewBox=\"0 0 24 24\"\n",
              "       width=\"24px\">\n",
              "    <path d=\"M0 0h24v24H0V0z\" fill=\"none\"/>\n",
              "    <path d=\"M18.56 5.44l.94 2.06.94-2.06 2.06-.94-2.06-.94-.94-2.06-.94 2.06-2.06.94zm-11 1L8.5 8.5l.94-2.06 2.06-.94-2.06-.94L8.5 2.5l-.94 2.06-2.06.94zm10 10l.94 2.06.94-2.06 2.06-.94-2.06-.94-.94-2.06-.94 2.06-2.06.94z\"/><path d=\"M17.41 7.96l-1.37-1.37c-.4-.4-.92-.59-1.43-.59-.52 0-1.04.2-1.43.59L10.3 9.45l-7.72 7.72c-.78.78-.78 2.05 0 2.83L4 21.41c.39.39.9.59 1.41.59.51 0 1.02-.2 1.41-.59l7.78-7.78 2.81-2.81c.8-.78.8-2.07 0-2.86zM5.41 20L4 18.59l7.72-7.72 1.47 1.35L5.41 20z\"/>\n",
              "  </svg>\n",
              "      </button>\n",
              "      \n",
              "  <style>\n",
              "    .colab-df-container {\n",
              "      display:flex;\n",
              "      flex-wrap:wrap;\n",
              "      gap: 12px;\n",
              "    }\n",
              "\n",
              "    .colab-df-convert {\n",
              "      background-color: #E8F0FE;\n",
              "      border: none;\n",
              "      border-radius: 50%;\n",
              "      cursor: pointer;\n",
              "      display: none;\n",
              "      fill: #1967D2;\n",
              "      height: 32px;\n",
              "      padding: 0 0 0 0;\n",
              "      width: 32px;\n",
              "    }\n",
              "\n",
              "    .colab-df-convert:hover {\n",
              "      background-color: #E2EBFA;\n",
              "      box-shadow: 0px 1px 2px rgba(60, 64, 67, 0.3), 0px 1px 3px 1px rgba(60, 64, 67, 0.15);\n",
              "      fill: #174EA6;\n",
              "    }\n",
              "\n",
              "    [theme=dark] .colab-df-convert {\n",
              "      background-color: #3B4455;\n",
              "      fill: #D2E3FC;\n",
              "    }\n",
              "\n",
              "    [theme=dark] .colab-df-convert:hover {\n",
              "      background-color: #434B5C;\n",
              "      box-shadow: 0px 1px 3px 1px rgba(0, 0, 0, 0.15);\n",
              "      filter: drop-shadow(0px 1px 2px rgba(0, 0, 0, 0.3));\n",
              "      fill: #FFFFFF;\n",
              "    }\n",
              "  </style>\n",
              "\n",
              "      <script>\n",
              "        const buttonEl =\n",
              "          document.querySelector('#df-7ee6694c-473d-4140-ba09-b75187f0e149 button.colab-df-convert');\n",
              "        buttonEl.style.display =\n",
              "          google.colab.kernel.accessAllowed ? 'block' : 'none';\n",
              "\n",
              "        async function convertToInteractive(key) {\n",
              "          const element = document.querySelector('#df-7ee6694c-473d-4140-ba09-b75187f0e149');\n",
              "          const dataTable =\n",
              "            await google.colab.kernel.invokeFunction('convertToInteractive',\n",
              "                                                     [key], {});\n",
              "          if (!dataTable) return;\n",
              "\n",
              "          const docLinkHtml = 'Like what you see? Visit the ' +\n",
              "            '<a target=\"_blank\" href=https://colab.research.google.com/notebooks/data_table.ipynb>data table notebook</a>'\n",
              "            + ' to learn more about interactive tables.';\n",
              "          element.innerHTML = '';\n",
              "          dataTable['output_type'] = 'display_data';\n",
              "          await google.colab.output.renderOutput(dataTable, element);\n",
              "          const docLink = document.createElement('div');\n",
              "          docLink.innerHTML = docLinkHtml;\n",
              "          element.appendChild(docLink);\n",
              "        }\n",
              "      </script>\n",
              "    </div>\n",
              "  </div>\n",
              "  "
            ]
          },
          "metadata": {},
          "execution_count": 8
        }
      ]
    },
    {
      "cell_type": "markdown",
      "source": [
        "## Data Preprocessing"
      ],
      "metadata": {
        "id": "Smpbqem5sacB"
      }
    },
    {
      "cell_type": "markdown",
      "source": [
        "### Price column"
      ],
      "metadata": {
        "id": "JtJW1HcJtI8E"
      }
    },
    {
      "cell_type": "markdown",
      "source": [
        "For column with price converting it to data type int, but first removing comma."
      ],
      "metadata": {
        "id": "tMLyWMUGi2I2"
      }
    },
    {
      "cell_type": "code",
      "source": [
        "data['price'] = data['price'].str.replace(',','').astype(float).astype(int)\n",
        "data['price'].sample(5)"
      ],
      "metadata": {
        "colab": {
          "base_uri": "https://localhost:8080/"
        },
        "id": "bnQQM1_nepKC",
        "outputId": "d05e6248-0dee-44e6-9aa5-2c806d69dd7a"
      },
      "execution_count": 9,
      "outputs": [
        {
          "output_type": "execute_result",
          "data": {
            "text/plain": [
              "2729    129990\n",
              "4169    320000\n",
              "1291    300000\n",
              "879     320000\n",
              "4535    205000\n",
              "Name: price, dtype: int64"
            ]
          },
          "metadata": {},
          "execution_count": 9
        }
      ]
    },
    {
      "cell_type": "markdown",
      "source": [
        "### Bedrooms column"
      ],
      "metadata": {
        "id": "pdNDbWwStNdN"
      }
    },
    {
      "cell_type": "markdown",
      "source": [
        "For column with number of bedrooms, let's see how many unique values are there and then replace it with a number, if that is a studio then replace it with 0."
      ],
      "metadata": {
        "id": "ldvYCmxmjccc"
      }
    },
    {
      "cell_type": "code",
      "source": [
        "data['beds'].unique()"
      ],
      "metadata": {
        "colab": {
          "base_uri": "https://localhost:8080/"
        },
        "id": "CjVwhh9j9MR7",
        "outputId": "a381dc02-f631-4b42-c2ba-1dcc53223760"
      },
      "execution_count": 10,
      "outputs": [
        {
          "output_type": "execute_result",
          "data": {
            "text/plain": [
              "array(['1 Bed', '2 Beds', 'Studio', '3 Beds', '4 Beds', '5 Beds'],\n",
              "      dtype=object)"
            ]
          },
          "metadata": {},
          "execution_count": 10
        }
      ]
    },
    {
      "cell_type": "code",
      "source": [
        "data['beds'] = data['beds'].replace(\n",
        "    {'Studio': 0,\n",
        "     '1 Bed': 1,\n",
        "     '2 Beds': 2,\n",
        "     '3 Beds': 3,\n",
        "     '4 Beds': 4,\n",
        "     '5 Beds': 5,\n",
        "    }\n",
        "  )\n"
      ],
      "metadata": {
        "id": "y5IcYSfOBgSp"
      },
      "execution_count": 11,
      "outputs": []
    },
    {
      "cell_type": "markdown",
      "source": [
        "### Address column"
      ],
      "metadata": {
        "id": "jGPAt0batbDJ"
      }
    },
    {
      "cell_type": "markdown",
      "source": [
        "For column with address, it has name of the city, area, bulding name or even a complecs of buildings name.  \n",
        "We need it to be separated to diferent columns for future analysis. We can see that a bulding name is always goes first, city is always the last and before city is area name.  \n",
        "So, let's split the address and save each element to a new column."
      ],
      "metadata": {
        "id": "fdzQpTaJkR_Z"
      }
    },
    {
      "cell_type": "code",
      "source": [
        "data['address_city'] = data['address'].str.split(', ').str[-1]\n",
        "data['address_area'] = data['address'].str.split(', ').str[-2]\n",
        "data['address_building'] = data['address'].str.split(', ').str[0]"
      ],
      "metadata": {
        "id": "DX6cfizQE0Xd"
      },
      "execution_count": 12,
      "outputs": []
    },
    {
      "cell_type": "code",
      "source": [
        "data[['address', 'address_city', 'address_area', 'address_building']].sample(5)"
      ],
      "metadata": {
        "colab": {
          "base_uri": "https://localhost:8080/",
          "height": 204
        },
        "id": "opV7SY38FpsY",
        "outputId": "a32f1977-9d64-4a53-8e0c-19ca92ae2a76"
      },
      "execution_count": 13,
      "outputs": [
        {
          "output_type": "execute_result",
          "data": {
            "text/plain": [
              "                                                address address_city  \\\n",
              "2161  South Ridge 2, South Ridge Towers, Downtown Du...        Dubai   \n",
              "3994  Damac Maison Dubai Mall Street, Downtown Dubai...        Dubai   \n",
              "1947  The Address Sky View Tower 2, The Address Sky ...        Dubai   \n",
              "3746  The Address Residence Fountain Views, Downtown...        Dubai   \n",
              "2954  The Address Fountain Views 2, The Address Resi...        Dubai   \n",
              "\n",
              "        address_area                      address_building  \n",
              "2161  Downtown Dubai                         South Ridge 2  \n",
              "3994  Downtown Dubai        Damac Maison Dubai Mall Street  \n",
              "1947  Downtown Dubai          The Address Sky View Tower 2  \n",
              "3746  Downtown Dubai  The Address Residence Fountain Views  \n",
              "2954  Downtown Dubai          The Address Fountain Views 2  "
            ],
            "text/html": [
              "\n",
              "  <div id=\"df-59b6b4c2-89c7-4ffc-a97b-a85b340637ad\">\n",
              "    <div class=\"colab-df-container\">\n",
              "      <div>\n",
              "<style scoped>\n",
              "    .dataframe tbody tr th:only-of-type {\n",
              "        vertical-align: middle;\n",
              "    }\n",
              "\n",
              "    .dataframe tbody tr th {\n",
              "        vertical-align: top;\n",
              "    }\n",
              "\n",
              "    .dataframe thead th {\n",
              "        text-align: right;\n",
              "    }\n",
              "</style>\n",
              "<table border=\"1\" class=\"dataframe\">\n",
              "  <thead>\n",
              "    <tr style=\"text-align: right;\">\n",
              "      <th></th>\n",
              "      <th>address</th>\n",
              "      <th>address_city</th>\n",
              "      <th>address_area</th>\n",
              "      <th>address_building</th>\n",
              "    </tr>\n",
              "  </thead>\n",
              "  <tbody>\n",
              "    <tr>\n",
              "      <th>2161</th>\n",
              "      <td>South Ridge 2, South Ridge Towers, Downtown Du...</td>\n",
              "      <td>Dubai</td>\n",
              "      <td>Downtown Dubai</td>\n",
              "      <td>South Ridge 2</td>\n",
              "    </tr>\n",
              "    <tr>\n",
              "      <th>3994</th>\n",
              "      <td>Damac Maison Dubai Mall Street, Downtown Dubai...</td>\n",
              "      <td>Dubai</td>\n",
              "      <td>Downtown Dubai</td>\n",
              "      <td>Damac Maison Dubai Mall Street</td>\n",
              "    </tr>\n",
              "    <tr>\n",
              "      <th>1947</th>\n",
              "      <td>The Address Sky View Tower 2, The Address Sky ...</td>\n",
              "      <td>Dubai</td>\n",
              "      <td>Downtown Dubai</td>\n",
              "      <td>The Address Sky View Tower 2</td>\n",
              "    </tr>\n",
              "    <tr>\n",
              "      <th>3746</th>\n",
              "      <td>The Address Residence Fountain Views, Downtown...</td>\n",
              "      <td>Dubai</td>\n",
              "      <td>Downtown Dubai</td>\n",
              "      <td>The Address Residence Fountain Views</td>\n",
              "    </tr>\n",
              "    <tr>\n",
              "      <th>2954</th>\n",
              "      <td>The Address Fountain Views 2, The Address Resi...</td>\n",
              "      <td>Dubai</td>\n",
              "      <td>Downtown Dubai</td>\n",
              "      <td>The Address Fountain Views 2</td>\n",
              "    </tr>\n",
              "  </tbody>\n",
              "</table>\n",
              "</div>\n",
              "      <button class=\"colab-df-convert\" onclick=\"convertToInteractive('df-59b6b4c2-89c7-4ffc-a97b-a85b340637ad')\"\n",
              "              title=\"Convert this dataframe to an interactive table.\"\n",
              "              style=\"display:none;\">\n",
              "        \n",
              "  <svg xmlns=\"http://www.w3.org/2000/svg\" height=\"24px\"viewBox=\"0 0 24 24\"\n",
              "       width=\"24px\">\n",
              "    <path d=\"M0 0h24v24H0V0z\" fill=\"none\"/>\n",
              "    <path d=\"M18.56 5.44l.94 2.06.94-2.06 2.06-.94-2.06-.94-.94-2.06-.94 2.06-2.06.94zm-11 1L8.5 8.5l.94-2.06 2.06-.94-2.06-.94L8.5 2.5l-.94 2.06-2.06.94zm10 10l.94 2.06.94-2.06 2.06-.94-2.06-.94-.94-2.06-.94 2.06-2.06.94z\"/><path d=\"M17.41 7.96l-1.37-1.37c-.4-.4-.92-.59-1.43-.59-.52 0-1.04.2-1.43.59L10.3 9.45l-7.72 7.72c-.78.78-.78 2.05 0 2.83L4 21.41c.39.39.9.59 1.41.59.51 0 1.02-.2 1.41-.59l7.78-7.78 2.81-2.81c.8-.78.8-2.07 0-2.86zM5.41 20L4 18.59l7.72-7.72 1.47 1.35L5.41 20z\"/>\n",
              "  </svg>\n",
              "      </button>\n",
              "      \n",
              "  <style>\n",
              "    .colab-df-container {\n",
              "      display:flex;\n",
              "      flex-wrap:wrap;\n",
              "      gap: 12px;\n",
              "    }\n",
              "\n",
              "    .colab-df-convert {\n",
              "      background-color: #E8F0FE;\n",
              "      border: none;\n",
              "      border-radius: 50%;\n",
              "      cursor: pointer;\n",
              "      display: none;\n",
              "      fill: #1967D2;\n",
              "      height: 32px;\n",
              "      padding: 0 0 0 0;\n",
              "      width: 32px;\n",
              "    }\n",
              "\n",
              "    .colab-df-convert:hover {\n",
              "      background-color: #E2EBFA;\n",
              "      box-shadow: 0px 1px 2px rgba(60, 64, 67, 0.3), 0px 1px 3px 1px rgba(60, 64, 67, 0.15);\n",
              "      fill: #174EA6;\n",
              "    }\n",
              "\n",
              "    [theme=dark] .colab-df-convert {\n",
              "      background-color: #3B4455;\n",
              "      fill: #D2E3FC;\n",
              "    }\n",
              "\n",
              "    [theme=dark] .colab-df-convert:hover {\n",
              "      background-color: #434B5C;\n",
              "      box-shadow: 0px 1px 3px 1px rgba(0, 0, 0, 0.15);\n",
              "      filter: drop-shadow(0px 1px 2px rgba(0, 0, 0, 0.3));\n",
              "      fill: #FFFFFF;\n",
              "    }\n",
              "  </style>\n",
              "\n",
              "      <script>\n",
              "        const buttonEl =\n",
              "          document.querySelector('#df-59b6b4c2-89c7-4ffc-a97b-a85b340637ad button.colab-df-convert');\n",
              "        buttonEl.style.display =\n",
              "          google.colab.kernel.accessAllowed ? 'block' : 'none';\n",
              "\n",
              "        async function convertToInteractive(key) {\n",
              "          const element = document.querySelector('#df-59b6b4c2-89c7-4ffc-a97b-a85b340637ad');\n",
              "          const dataTable =\n",
              "            await google.colab.kernel.invokeFunction('convertToInteractive',\n",
              "                                                     [key], {});\n",
              "          if (!dataTable) return;\n",
              "\n",
              "          const docLinkHtml = 'Like what you see? Visit the ' +\n",
              "            '<a target=\"_blank\" href=https://colab.research.google.com/notebooks/data_table.ipynb>data table notebook</a>'\n",
              "            + ' to learn more about interactive tables.';\n",
              "          element.innerHTML = '';\n",
              "          dataTable['output_type'] = 'display_data';\n",
              "          await google.colab.output.renderOutput(dataTable, element);\n",
              "          const docLink = document.createElement('div');\n",
              "          docLink.innerHTML = docLinkHtml;\n",
              "          element.appendChild(docLink);\n",
              "        }\n",
              "      </script>\n",
              "    </div>\n",
              "  </div>\n",
              "  "
            ]
          },
          "metadata": {},
          "execution_count": 13
        }
      ]
    },
    {
      "cell_type": "markdown",
      "source": [
        "We no longer needed column with address, let's drop it."
      ],
      "metadata": {
        "id": "_oyF17I8mlmB"
      }
    },
    {
      "cell_type": "code",
      "source": [
        "data.drop(['address'], axis=1, inplace=True)"
      ],
      "metadata": {
        "id": "MEZIJCEVZV6k"
      },
      "execution_count": 14,
      "outputs": []
    },
    {
      "cell_type": "markdown",
      "source": [
        "### Bathrooms column"
      ],
      "metadata": {
        "id": "6Pctn7ketixh"
      }
    },
    {
      "cell_type": "markdown",
      "source": [
        "Similar to bedrooms column first checking unique values and then will replace it with numbers to have it as an int data type. Also there are 22 missing values."
      ],
      "metadata": {
        "id": "L-_48Khetvnu"
      }
    },
    {
      "cell_type": "code",
      "source": [
        "data['baths'].unique()"
      ],
      "metadata": {
        "colab": {
          "base_uri": "https://localhost:8080/"
        },
        "id": "7VMEHKH_t-_d",
        "outputId": "6815e89c-eaa2-4529-a073-97b40fd2d064"
      },
      "execution_count": 15,
      "outputs": [
        {
          "output_type": "execute_result",
          "data": {
            "text/plain": [
              "array(['2 Baths', '3 Baths', '1 Bath', '5 Baths', '4 Baths', nan,\n",
              "       '6 Baths'], dtype=object)"
            ]
          },
          "metadata": {},
          "execution_count": 15
        }
      ]
    },
    {
      "cell_type": "code",
      "source": [
        "data[data['baths'].isnull()]"
      ],
      "metadata": {
        "colab": {
          "base_uri": "https://localhost:8080/",
          "height": 1000
        },
        "id": "r6sfsVTOzhy-",
        "outputId": "cacf4d4d-3a55-41eb-a734-8cfcb4551042"
      },
      "execution_count": 16,
      "outputs": [
        {
          "output_type": "execute_result",
          "data": {
            "text/plain": [
              "       price  beds baths   area-sqft  \\\n",
              "156   250000     3   NaN  1,610 sqft   \n",
              "192    88000     2   NaN  1,490 sqft   \n",
              "204   109500     1   NaN    922 sqft   \n",
              "253    50000     0   NaN    475 sqft   \n",
              "593   310000     2   NaN  1,336 sqft   \n",
              "613   310000     2   NaN  1,336 sqft   \n",
              "975   310000     2   NaN  1,336 sqft   \n",
              "1145  275000     2   NaN  1,343 sqft   \n",
              "1205  109500     1   NaN    922 sqft   \n",
              "1269  275000     2   NaN  1,343 sqft   \n",
              "1663  300000     2   NaN  1,271 sqft   \n",
              "1865   90000     1   NaN  1,007 sqft   \n",
              "2554  275000     2   NaN  1,343 sqft   \n",
              "2842  109500     1   NaN    922 sqft   \n",
              "3091  180000     2   NaN  1,737 sqft   \n",
              "3312  198000     1   NaN    796 sqft   \n",
              "4147  250000     3   NaN  1,610 sqft   \n",
              "4156   88000     2   NaN  1,490 sqft   \n",
              "4418  250000     3   NaN  1,610 sqft   \n",
              "4644  240000     2   NaN  1,737 sqft   \n",
              "4675   85000     1   NaN    920 sqft   \n",
              "4699   88000     2   NaN  1,490 sqft   \n",
              "\n",
              "                                      description-title  \\\n",
              "156   LARGE 3 BEDROOM APARTMENT|| FULLY FURNISHED|| ...   \n",
              "192       Hot Deal Bright 2 BR For rent in Najoom tower   \n",
              "204              Available Now | Brand New | High Floor   \n",
              "253                   Fully Furnished Studio | Call now   \n",
              "593            Best Priced|High Floor|Burj Khalifa View   \n",
              "613            Best Priced|High Floor|Burj Khalifa View   \n",
              "975            Best Priced|High Floor|Burj Khalifa View   \n",
              "1145  Burj Khalifa View | Furnished and Spacious Uni...   \n",
              "1205             Available Now | Brand New | High Floor   \n",
              "1269  Burj Khalifa View | Furnished and Spacious Uni...   \n",
              "1663  Full Fountain and Burj Khalifa View | High Flo...   \n",
              "1865    Elite Downtown Residence, Downtown Dubai, Dubai   \n",
              "2554  Burj Khalifa View | Furnished and Spacious Uni...   \n",
              "2842             Available Now | Brand New | High Floor   \n",
              "3091  Huge living space with a very beautiful view o...   \n",
              "3312  High Floor/Burj Khalifa View/One bedroom for Rent   \n",
              "4147  LARGE 3 BEDROOM APARTMENT|| FULLY FURNISHED|| ...   \n",
              "4156      Hot Deal Bright 2 BR For rent in Najoom tower   \n",
              "4418  LARGE 3 BEDROOM APARTMENT|| FULLY FURNISHED|| ...   \n",
              "4644        Ready to move-in l Middle Floor l Brand New   \n",
              "4675    Spacious|Luxurious|Next to Dubai Mall|Best Deal   \n",
              "4699      Hot Deal Bright 2 BR For rent in Najoom tower   \n",
              "\n",
              "                                            description  \\\n",
              "156   GREETINGS FROM LEADING PROPERTIES\\nLEADING rea...   \n",
              "192   Burj Al Nujoom A stylish development within Do...   \n",
              "204   LuxFolio Real Estate are delighted to present ...   \n",
              "253   DNL Properties are pleased to offer you an ama...   \n",
              "593   Engel & Voelkers proudly offers for rent this ...   \n",
              "613   Engel & Voelkers proudly offers for rent this ...   \n",
              "975   Engel & Voelkers proudly offers for rent this ...   \n",
              "1145  A&B Realty Real Estate is pleased to offer thi...   \n",
              "1205  LuxFolio Real Estate are delighted to present ...   \n",
              "1269  A&B Realty Real Estate is pleased to offer thi...   \n",
              "1663  Brought to you by Richie Real Estate this luxu...   \n",
              "1865  1 Bedroom Fully Furnished | Brand NewStudio an...   \n",
              "2554  A&B Realty Real Estate is pleased to offer thi...   \n",
              "2842  LuxFolio Real Estate are delighted to present ...   \n",
              "3091  Your search begins and ends with this property...   \n",
              "3312  High floor! 47th floor! Right in the front of ...   \n",
              "4147  GREETINGS FROM LEADING PROPERTIES\\nLEADING rea...   \n",
              "4156  Burj Al Nujoom A stylish development within Do...   \n",
              "4418  GREETINGS FROM LEADING PROPERTIES\\nLEADING rea...   \n",
              "4644  Good Reputation Real Estate proudly presents t...   \n",
              "4675  Silver Oak Propeties LLC is proud to present t...   \n",
              "4699  Burj Al Nujoom A stylish development within Do...   \n",
              "\n",
              "                reference-no        date-added balcony-size-sqft parking  \\\n",
              "156   Bayut - 3305-Ap-R-0067      16 June 2022               NaN     NaN   \n",
              "192      Bayut - ab_najoom_2     29 March 2022               NaN     NaN   \n",
              "204      Bayut - LXF-R-11388      26 July 2022               NaN     NaN   \n",
              "253       Bayut - DNL-R-5797     8 August 2022               NaN     NaN   \n",
              "593      Bayut - EVO-R-23435     1 August 2022               NaN     NaN   \n",
              "613      Bayut - EVO-R-23435     1 August 2022               NaN     NaN   \n",
              "975      Bayut - EVO-R-23435     1 August 2022               NaN     NaN   \n",
              "1145      Bayut - OR-FV1-2br       10 May 2022               NaN     NaN   \n",
              "1205     Bayut - LXF-R-11388      26 July 2022               NaN     NaN   \n",
              "1269      Bayut - OR-FV1-2br       10 May 2022               NaN     NaN   \n",
              "1663  Bayut - 2577-Ap-R-0204   2 February 2022               NaN     NaN   \n",
              "1865  Bayut - 2506-Ap-R-0032     16 April 2022               NaN     NaN   \n",
              "2554      Bayut - OR-FV1-2br       10 May 2022               NaN     NaN   \n",
              "2842     Bayut - LXF-R-11388      26 July 2022               NaN     NaN   \n",
              "3091  Bayut - 3526-Ap-R-0074      21 June 2022               NaN     NaN   \n",
              "3312  Bayut - 2059-Ap-R-0920     5 August 2022               NaN     NaN   \n",
              "4147  Bayut - 3305-Ap-R-0067      16 June 2022               NaN     NaN   \n",
              "4156     Bayut - ab_najoom_2     29 March 2022               NaN     NaN   \n",
              "4418  Bayut - 3305-Ap-R-0067      16 June 2022               NaN     NaN   \n",
              "4644   Bayut - MMBH-0222-2BR  26 February 2022               NaN     NaN   \n",
              "4675  Bayut - 2212-Ap-R-0108   2 February 2022               NaN     NaN   \n",
              "4699     Bayut - ab_najoom_2     29 March 2022               NaN     NaN   \n",
              "\n",
              "     building-info-name  building-info-floors  building-info-year  \\\n",
              "156                 NaN                   NaN                 NaN   \n",
              "192                 NaN                   NaN                 NaN   \n",
              "204                 NaN                   NaN                 NaN   \n",
              "253                 NaN                   NaN                 NaN   \n",
              "593                 NaN                   NaN                 NaN   \n",
              "613                 NaN                   NaN                 NaN   \n",
              "975                 NaN                   NaN                 NaN   \n",
              "1145                NaN                   NaN                 NaN   \n",
              "1205                NaN                   NaN                 NaN   \n",
              "1269                NaN                   NaN                 NaN   \n",
              "1663                NaN                   NaN                 NaN   \n",
              "1865                NaN                   NaN                 NaN   \n",
              "2554                NaN                   NaN                 NaN   \n",
              "2842                NaN                   NaN                 NaN   \n",
              "3091                NaN                   NaN                 NaN   \n",
              "3312                NaN                   NaN                 NaN   \n",
              "4147                NaN                   NaN                 NaN   \n",
              "4156                NaN                   NaN                 NaN   \n",
              "4418                NaN                   NaN                 NaN   \n",
              "4644                NaN                   NaN                 NaN   \n",
              "4675                NaN                   NaN                 NaN   \n",
              "4699                NaN                   NaN                 NaN   \n",
              "\n",
              "     building-info-area-sqft   furnishing  features-amenities address_city  \\\n",
              "156                      NaN    Furnished      Shared Kitchen        Dubai   \n",
              "192                      NaN  Unfurnished             Jacuzzi        Dubai   \n",
              "204                      NaN          NaN  Balcony or Terrace        Dubai   \n",
              "253                      NaN    Furnished                 NaN        Dubai   \n",
              "593                      NaN    Furnished      Parking Spaces        Dubai   \n",
              "613                      NaN    Furnished  Balcony or Terrace        Dubai   \n",
              "975                      NaN    Furnished           Furnished        Dubai   \n",
              "1145                     NaN    Furnished           Furnished        Dubai   \n",
              "1205                     NaN          NaN       Swimming Pool        Dubai   \n",
              "1269                     NaN    Furnished  Balcony or Terrace        Dubai   \n",
              "1663                     NaN    Furnished           Furnished        Dubai   \n",
              "1865                     NaN  Unfurnished                 NaN        Dubai   \n",
              "2554                     NaN    Furnished   Parking Spaces: 1        Dubai   \n",
              "2842                     NaN          NaN      Parking Spaces        Dubai   \n",
              "3091                     NaN  Unfurnished                 NaN        Dubai   \n",
              "3312                     NaN          NaN                 NaN        Dubai   \n",
              "4147                     NaN    Furnished           Furnished        Dubai   \n",
              "4156                     NaN  Unfurnished  Balcony or Terrace        Dubai   \n",
              "4418                     NaN    Furnished  Balcony or Terrace        Dubai   \n",
              "4644                     NaN          NaN                 NaN        Dubai   \n",
              "4675                     NaN    Furnished           Furnished        Dubai   \n",
              "4699                     NaN  Unfurnished       Swimming Pool        Dubai   \n",
              "\n",
              "        address_area                         address_building  \n",
              "156   Downtown Dubai                 Elite Downtown Residence  \n",
              "192   Downtown Dubai                           Burj Al Nujoom  \n",
              "204   Downtown Dubai                          Boulevard Point  \n",
              "253   Downtown Dubai                           Burj Al Nujoom  \n",
              "593   Downtown Dubai             The Address Fountain Views 1  \n",
              "613   Downtown Dubai             The Address Fountain Views 1  \n",
              "975   Downtown Dubai             The Address Fountain Views 1  \n",
              "1145  Downtown Dubai             The Address Fountain Views 1  \n",
              "1205  Downtown Dubai                          Boulevard Point  \n",
              "1269  Downtown Dubai             The Address Fountain Views 1  \n",
              "1663  Downtown Dubai                     The Address The Blvd  \n",
              "1865  Downtown Dubai                 Elite Downtown Residence  \n",
              "2554  Downtown Dubai             The Address Fountain Views 1  \n",
              "2842  Downtown Dubai                          Boulevard Point  \n",
              "3091  Downtown Dubai                             BLVD Heights  \n",
              "3312  Downtown Dubai  The Address Downtown Hotel (Lake Hotel)  \n",
              "4147  Downtown Dubai                 Elite Downtown Residence  \n",
              "4156  Downtown Dubai                           Burj Al Nujoom  \n",
              "4418  Downtown Dubai                 Elite Downtown Residence  \n",
              "4644  Downtown Dubai                     BLVD Heights Tower 2  \n",
              "4675  Downtown Dubai           Damac Maison Dubai Mall Street  \n",
              "4699  Downtown Dubai                           Burj Al Nujoom  "
            ],
            "text/html": [
              "\n",
              "  <div id=\"df-d31c38c7-b2d6-4362-9df7-a45a652a04a6\">\n",
              "    <div class=\"colab-df-container\">\n",
              "      <div>\n",
              "<style scoped>\n",
              "    .dataframe tbody tr th:only-of-type {\n",
              "        vertical-align: middle;\n",
              "    }\n",
              "\n",
              "    .dataframe tbody tr th {\n",
              "        vertical-align: top;\n",
              "    }\n",
              "\n",
              "    .dataframe thead th {\n",
              "        text-align: right;\n",
              "    }\n",
              "</style>\n",
              "<table border=\"1\" class=\"dataframe\">\n",
              "  <thead>\n",
              "    <tr style=\"text-align: right;\">\n",
              "      <th></th>\n",
              "      <th>price</th>\n",
              "      <th>beds</th>\n",
              "      <th>baths</th>\n",
              "      <th>area-sqft</th>\n",
              "      <th>description-title</th>\n",
              "      <th>description</th>\n",
              "      <th>reference-no</th>\n",
              "      <th>date-added</th>\n",
              "      <th>balcony-size-sqft</th>\n",
              "      <th>parking</th>\n",
              "      <th>building-info-name</th>\n",
              "      <th>building-info-floors</th>\n",
              "      <th>building-info-year</th>\n",
              "      <th>building-info-area-sqft</th>\n",
              "      <th>furnishing</th>\n",
              "      <th>features-amenities</th>\n",
              "      <th>address_city</th>\n",
              "      <th>address_area</th>\n",
              "      <th>address_building</th>\n",
              "    </tr>\n",
              "  </thead>\n",
              "  <tbody>\n",
              "    <tr>\n",
              "      <th>156</th>\n",
              "      <td>250000</td>\n",
              "      <td>3</td>\n",
              "      <td>NaN</td>\n",
              "      <td>1,610 sqft</td>\n",
              "      <td>LARGE 3 BEDROOM APARTMENT|| FULLY FURNISHED|| ...</td>\n",
              "      <td>GREETINGS FROM LEADING PROPERTIES\\nLEADING rea...</td>\n",
              "      <td>Bayut - 3305-Ap-R-0067</td>\n",
              "      <td>16 June 2022</td>\n",
              "      <td>NaN</td>\n",
              "      <td>NaN</td>\n",
              "      <td>NaN</td>\n",
              "      <td>NaN</td>\n",
              "      <td>NaN</td>\n",
              "      <td>NaN</td>\n",
              "      <td>Furnished</td>\n",
              "      <td>Shared Kitchen</td>\n",
              "      <td>Dubai</td>\n",
              "      <td>Downtown Dubai</td>\n",
              "      <td>Elite Downtown Residence</td>\n",
              "    </tr>\n",
              "    <tr>\n",
              "      <th>192</th>\n",
              "      <td>88000</td>\n",
              "      <td>2</td>\n",
              "      <td>NaN</td>\n",
              "      <td>1,490 sqft</td>\n",
              "      <td>Hot Deal Bright 2 BR For rent in Najoom tower</td>\n",
              "      <td>Burj Al Nujoom A stylish development within Do...</td>\n",
              "      <td>Bayut - ab_najoom_2</td>\n",
              "      <td>29 March 2022</td>\n",
              "      <td>NaN</td>\n",
              "      <td>NaN</td>\n",
              "      <td>NaN</td>\n",
              "      <td>NaN</td>\n",
              "      <td>NaN</td>\n",
              "      <td>NaN</td>\n",
              "      <td>Unfurnished</td>\n",
              "      <td>Jacuzzi</td>\n",
              "      <td>Dubai</td>\n",
              "      <td>Downtown Dubai</td>\n",
              "      <td>Burj Al Nujoom</td>\n",
              "    </tr>\n",
              "    <tr>\n",
              "      <th>204</th>\n",
              "      <td>109500</td>\n",
              "      <td>1</td>\n",
              "      <td>NaN</td>\n",
              "      <td>922 sqft</td>\n",
              "      <td>Available Now | Brand New | High Floor</td>\n",
              "      <td>LuxFolio Real Estate are delighted to present ...</td>\n",
              "      <td>Bayut - LXF-R-11388</td>\n",
              "      <td>26 July 2022</td>\n",
              "      <td>NaN</td>\n",
              "      <td>NaN</td>\n",
              "      <td>NaN</td>\n",
              "      <td>NaN</td>\n",
              "      <td>NaN</td>\n",
              "      <td>NaN</td>\n",
              "      <td>NaN</td>\n",
              "      <td>Balcony or Terrace</td>\n",
              "      <td>Dubai</td>\n",
              "      <td>Downtown Dubai</td>\n",
              "      <td>Boulevard Point</td>\n",
              "    </tr>\n",
              "    <tr>\n",
              "      <th>253</th>\n",
              "      <td>50000</td>\n",
              "      <td>0</td>\n",
              "      <td>NaN</td>\n",
              "      <td>475 sqft</td>\n",
              "      <td>Fully Furnished Studio | Call now</td>\n",
              "      <td>DNL Properties are pleased to offer you an ama...</td>\n",
              "      <td>Bayut - DNL-R-5797</td>\n",
              "      <td>8 August 2022</td>\n",
              "      <td>NaN</td>\n",
              "      <td>NaN</td>\n",
              "      <td>NaN</td>\n",
              "      <td>NaN</td>\n",
              "      <td>NaN</td>\n",
              "      <td>NaN</td>\n",
              "      <td>Furnished</td>\n",
              "      <td>NaN</td>\n",
              "      <td>Dubai</td>\n",
              "      <td>Downtown Dubai</td>\n",
              "      <td>Burj Al Nujoom</td>\n",
              "    </tr>\n",
              "    <tr>\n",
              "      <th>593</th>\n",
              "      <td>310000</td>\n",
              "      <td>2</td>\n",
              "      <td>NaN</td>\n",
              "      <td>1,336 sqft</td>\n",
              "      <td>Best Priced|High Floor|Burj Khalifa View</td>\n",
              "      <td>Engel &amp; Voelkers proudly offers for rent this ...</td>\n",
              "      <td>Bayut - EVO-R-23435</td>\n",
              "      <td>1 August 2022</td>\n",
              "      <td>NaN</td>\n",
              "      <td>NaN</td>\n",
              "      <td>NaN</td>\n",
              "      <td>NaN</td>\n",
              "      <td>NaN</td>\n",
              "      <td>NaN</td>\n",
              "      <td>Furnished</td>\n",
              "      <td>Parking Spaces</td>\n",
              "      <td>Dubai</td>\n",
              "      <td>Downtown Dubai</td>\n",
              "      <td>The Address Fountain Views 1</td>\n",
              "    </tr>\n",
              "    <tr>\n",
              "      <th>613</th>\n",
              "      <td>310000</td>\n",
              "      <td>2</td>\n",
              "      <td>NaN</td>\n",
              "      <td>1,336 sqft</td>\n",
              "      <td>Best Priced|High Floor|Burj Khalifa View</td>\n",
              "      <td>Engel &amp; Voelkers proudly offers for rent this ...</td>\n",
              "      <td>Bayut - EVO-R-23435</td>\n",
              "      <td>1 August 2022</td>\n",
              "      <td>NaN</td>\n",
              "      <td>NaN</td>\n",
              "      <td>NaN</td>\n",
              "      <td>NaN</td>\n",
              "      <td>NaN</td>\n",
              "      <td>NaN</td>\n",
              "      <td>Furnished</td>\n",
              "      <td>Balcony or Terrace</td>\n",
              "      <td>Dubai</td>\n",
              "      <td>Downtown Dubai</td>\n",
              "      <td>The Address Fountain Views 1</td>\n",
              "    </tr>\n",
              "    <tr>\n",
              "      <th>975</th>\n",
              "      <td>310000</td>\n",
              "      <td>2</td>\n",
              "      <td>NaN</td>\n",
              "      <td>1,336 sqft</td>\n",
              "      <td>Best Priced|High Floor|Burj Khalifa View</td>\n",
              "      <td>Engel &amp; Voelkers proudly offers for rent this ...</td>\n",
              "      <td>Bayut - EVO-R-23435</td>\n",
              "      <td>1 August 2022</td>\n",
              "      <td>NaN</td>\n",
              "      <td>NaN</td>\n",
              "      <td>NaN</td>\n",
              "      <td>NaN</td>\n",
              "      <td>NaN</td>\n",
              "      <td>NaN</td>\n",
              "      <td>Furnished</td>\n",
              "      <td>Furnished</td>\n",
              "      <td>Dubai</td>\n",
              "      <td>Downtown Dubai</td>\n",
              "      <td>The Address Fountain Views 1</td>\n",
              "    </tr>\n",
              "    <tr>\n",
              "      <th>1145</th>\n",
              "      <td>275000</td>\n",
              "      <td>2</td>\n",
              "      <td>NaN</td>\n",
              "      <td>1,343 sqft</td>\n",
              "      <td>Burj Khalifa View | Furnished and Spacious Uni...</td>\n",
              "      <td>A&amp;B Realty Real Estate is pleased to offer thi...</td>\n",
              "      <td>Bayut - OR-FV1-2br</td>\n",
              "      <td>10 May 2022</td>\n",
              "      <td>NaN</td>\n",
              "      <td>NaN</td>\n",
              "      <td>NaN</td>\n",
              "      <td>NaN</td>\n",
              "      <td>NaN</td>\n",
              "      <td>NaN</td>\n",
              "      <td>Furnished</td>\n",
              "      <td>Furnished</td>\n",
              "      <td>Dubai</td>\n",
              "      <td>Downtown Dubai</td>\n",
              "      <td>The Address Fountain Views 1</td>\n",
              "    </tr>\n",
              "    <tr>\n",
              "      <th>1205</th>\n",
              "      <td>109500</td>\n",
              "      <td>1</td>\n",
              "      <td>NaN</td>\n",
              "      <td>922 sqft</td>\n",
              "      <td>Available Now | Brand New | High Floor</td>\n",
              "      <td>LuxFolio Real Estate are delighted to present ...</td>\n",
              "      <td>Bayut - LXF-R-11388</td>\n",
              "      <td>26 July 2022</td>\n",
              "      <td>NaN</td>\n",
              "      <td>NaN</td>\n",
              "      <td>NaN</td>\n",
              "      <td>NaN</td>\n",
              "      <td>NaN</td>\n",
              "      <td>NaN</td>\n",
              "      <td>NaN</td>\n",
              "      <td>Swimming Pool</td>\n",
              "      <td>Dubai</td>\n",
              "      <td>Downtown Dubai</td>\n",
              "      <td>Boulevard Point</td>\n",
              "    </tr>\n",
              "    <tr>\n",
              "      <th>1269</th>\n",
              "      <td>275000</td>\n",
              "      <td>2</td>\n",
              "      <td>NaN</td>\n",
              "      <td>1,343 sqft</td>\n",
              "      <td>Burj Khalifa View | Furnished and Spacious Uni...</td>\n",
              "      <td>A&amp;B Realty Real Estate is pleased to offer thi...</td>\n",
              "      <td>Bayut - OR-FV1-2br</td>\n",
              "      <td>10 May 2022</td>\n",
              "      <td>NaN</td>\n",
              "      <td>NaN</td>\n",
              "      <td>NaN</td>\n",
              "      <td>NaN</td>\n",
              "      <td>NaN</td>\n",
              "      <td>NaN</td>\n",
              "      <td>Furnished</td>\n",
              "      <td>Balcony or Terrace</td>\n",
              "      <td>Dubai</td>\n",
              "      <td>Downtown Dubai</td>\n",
              "      <td>The Address Fountain Views 1</td>\n",
              "    </tr>\n",
              "    <tr>\n",
              "      <th>1663</th>\n",
              "      <td>300000</td>\n",
              "      <td>2</td>\n",
              "      <td>NaN</td>\n",
              "      <td>1,271 sqft</td>\n",
              "      <td>Full Fountain and Burj Khalifa View | High Flo...</td>\n",
              "      <td>Brought to you by Richie Real Estate this luxu...</td>\n",
              "      <td>Bayut - 2577-Ap-R-0204</td>\n",
              "      <td>2 February 2022</td>\n",
              "      <td>NaN</td>\n",
              "      <td>NaN</td>\n",
              "      <td>NaN</td>\n",
              "      <td>NaN</td>\n",
              "      <td>NaN</td>\n",
              "      <td>NaN</td>\n",
              "      <td>Furnished</td>\n",
              "      <td>Furnished</td>\n",
              "      <td>Dubai</td>\n",
              "      <td>Downtown Dubai</td>\n",
              "      <td>The Address The Blvd</td>\n",
              "    </tr>\n",
              "    <tr>\n",
              "      <th>1865</th>\n",
              "      <td>90000</td>\n",
              "      <td>1</td>\n",
              "      <td>NaN</td>\n",
              "      <td>1,007 sqft</td>\n",
              "      <td>Elite Downtown Residence, Downtown Dubai, Dubai</td>\n",
              "      <td>1 Bedroom Fully Furnished | Brand NewStudio an...</td>\n",
              "      <td>Bayut - 2506-Ap-R-0032</td>\n",
              "      <td>16 April 2022</td>\n",
              "      <td>NaN</td>\n",
              "      <td>NaN</td>\n",
              "      <td>NaN</td>\n",
              "      <td>NaN</td>\n",
              "      <td>NaN</td>\n",
              "      <td>NaN</td>\n",
              "      <td>Unfurnished</td>\n",
              "      <td>NaN</td>\n",
              "      <td>Dubai</td>\n",
              "      <td>Downtown Dubai</td>\n",
              "      <td>Elite Downtown Residence</td>\n",
              "    </tr>\n",
              "    <tr>\n",
              "      <th>2554</th>\n",
              "      <td>275000</td>\n",
              "      <td>2</td>\n",
              "      <td>NaN</td>\n",
              "      <td>1,343 sqft</td>\n",
              "      <td>Burj Khalifa View | Furnished and Spacious Uni...</td>\n",
              "      <td>A&amp;B Realty Real Estate is pleased to offer thi...</td>\n",
              "      <td>Bayut - OR-FV1-2br</td>\n",
              "      <td>10 May 2022</td>\n",
              "      <td>NaN</td>\n",
              "      <td>NaN</td>\n",
              "      <td>NaN</td>\n",
              "      <td>NaN</td>\n",
              "      <td>NaN</td>\n",
              "      <td>NaN</td>\n",
              "      <td>Furnished</td>\n",
              "      <td>Parking Spaces: 1</td>\n",
              "      <td>Dubai</td>\n",
              "      <td>Downtown Dubai</td>\n",
              "      <td>The Address Fountain Views 1</td>\n",
              "    </tr>\n",
              "    <tr>\n",
              "      <th>2842</th>\n",
              "      <td>109500</td>\n",
              "      <td>1</td>\n",
              "      <td>NaN</td>\n",
              "      <td>922 sqft</td>\n",
              "      <td>Available Now | Brand New | High Floor</td>\n",
              "      <td>LuxFolio Real Estate are delighted to present ...</td>\n",
              "      <td>Bayut - LXF-R-11388</td>\n",
              "      <td>26 July 2022</td>\n",
              "      <td>NaN</td>\n",
              "      <td>NaN</td>\n",
              "      <td>NaN</td>\n",
              "      <td>NaN</td>\n",
              "      <td>NaN</td>\n",
              "      <td>NaN</td>\n",
              "      <td>NaN</td>\n",
              "      <td>Parking Spaces</td>\n",
              "      <td>Dubai</td>\n",
              "      <td>Downtown Dubai</td>\n",
              "      <td>Boulevard Point</td>\n",
              "    </tr>\n",
              "    <tr>\n",
              "      <th>3091</th>\n",
              "      <td>180000</td>\n",
              "      <td>2</td>\n",
              "      <td>NaN</td>\n",
              "      <td>1,737 sqft</td>\n",
              "      <td>Huge living space with a very beautiful view o...</td>\n",
              "      <td>Your search begins and ends with this property...</td>\n",
              "      <td>Bayut - 3526-Ap-R-0074</td>\n",
              "      <td>21 June 2022</td>\n",
              "      <td>NaN</td>\n",
              "      <td>NaN</td>\n",
              "      <td>NaN</td>\n",
              "      <td>NaN</td>\n",
              "      <td>NaN</td>\n",
              "      <td>NaN</td>\n",
              "      <td>Unfurnished</td>\n",
              "      <td>NaN</td>\n",
              "      <td>Dubai</td>\n",
              "      <td>Downtown Dubai</td>\n",
              "      <td>BLVD Heights</td>\n",
              "    </tr>\n",
              "    <tr>\n",
              "      <th>3312</th>\n",
              "      <td>198000</td>\n",
              "      <td>1</td>\n",
              "      <td>NaN</td>\n",
              "      <td>796 sqft</td>\n",
              "      <td>High Floor/Burj Khalifa View/One bedroom for Rent</td>\n",
              "      <td>High floor! 47th floor! Right in the front of ...</td>\n",
              "      <td>Bayut - 2059-Ap-R-0920</td>\n",
              "      <td>5 August 2022</td>\n",
              "      <td>NaN</td>\n",
              "      <td>NaN</td>\n",
              "      <td>NaN</td>\n",
              "      <td>NaN</td>\n",
              "      <td>NaN</td>\n",
              "      <td>NaN</td>\n",
              "      <td>NaN</td>\n",
              "      <td>NaN</td>\n",
              "      <td>Dubai</td>\n",
              "      <td>Downtown Dubai</td>\n",
              "      <td>The Address Downtown Hotel (Lake Hotel)</td>\n",
              "    </tr>\n",
              "    <tr>\n",
              "      <th>4147</th>\n",
              "      <td>250000</td>\n",
              "      <td>3</td>\n",
              "      <td>NaN</td>\n",
              "      <td>1,610 sqft</td>\n",
              "      <td>LARGE 3 BEDROOM APARTMENT|| FULLY FURNISHED|| ...</td>\n",
              "      <td>GREETINGS FROM LEADING PROPERTIES\\nLEADING rea...</td>\n",
              "      <td>Bayut - 3305-Ap-R-0067</td>\n",
              "      <td>16 June 2022</td>\n",
              "      <td>NaN</td>\n",
              "      <td>NaN</td>\n",
              "      <td>NaN</td>\n",
              "      <td>NaN</td>\n",
              "      <td>NaN</td>\n",
              "      <td>NaN</td>\n",
              "      <td>Furnished</td>\n",
              "      <td>Furnished</td>\n",
              "      <td>Dubai</td>\n",
              "      <td>Downtown Dubai</td>\n",
              "      <td>Elite Downtown Residence</td>\n",
              "    </tr>\n",
              "    <tr>\n",
              "      <th>4156</th>\n",
              "      <td>88000</td>\n",
              "      <td>2</td>\n",
              "      <td>NaN</td>\n",
              "      <td>1,490 sqft</td>\n",
              "      <td>Hot Deal Bright 2 BR For rent in Najoom tower</td>\n",
              "      <td>Burj Al Nujoom A stylish development within Do...</td>\n",
              "      <td>Bayut - ab_najoom_2</td>\n",
              "      <td>29 March 2022</td>\n",
              "      <td>NaN</td>\n",
              "      <td>NaN</td>\n",
              "      <td>NaN</td>\n",
              "      <td>NaN</td>\n",
              "      <td>NaN</td>\n",
              "      <td>NaN</td>\n",
              "      <td>Unfurnished</td>\n",
              "      <td>Balcony or Terrace</td>\n",
              "      <td>Dubai</td>\n",
              "      <td>Downtown Dubai</td>\n",
              "      <td>Burj Al Nujoom</td>\n",
              "    </tr>\n",
              "    <tr>\n",
              "      <th>4418</th>\n",
              "      <td>250000</td>\n",
              "      <td>3</td>\n",
              "      <td>NaN</td>\n",
              "      <td>1,610 sqft</td>\n",
              "      <td>LARGE 3 BEDROOM APARTMENT|| FULLY FURNISHED|| ...</td>\n",
              "      <td>GREETINGS FROM LEADING PROPERTIES\\nLEADING rea...</td>\n",
              "      <td>Bayut - 3305-Ap-R-0067</td>\n",
              "      <td>16 June 2022</td>\n",
              "      <td>NaN</td>\n",
              "      <td>NaN</td>\n",
              "      <td>NaN</td>\n",
              "      <td>NaN</td>\n",
              "      <td>NaN</td>\n",
              "      <td>NaN</td>\n",
              "      <td>Furnished</td>\n",
              "      <td>Balcony or Terrace</td>\n",
              "      <td>Dubai</td>\n",
              "      <td>Downtown Dubai</td>\n",
              "      <td>Elite Downtown Residence</td>\n",
              "    </tr>\n",
              "    <tr>\n",
              "      <th>4644</th>\n",
              "      <td>240000</td>\n",
              "      <td>2</td>\n",
              "      <td>NaN</td>\n",
              "      <td>1,737 sqft</td>\n",
              "      <td>Ready to move-in l Middle Floor l Brand New</td>\n",
              "      <td>Good Reputation Real Estate proudly presents t...</td>\n",
              "      <td>Bayut - MMBH-0222-2BR</td>\n",
              "      <td>26 February 2022</td>\n",
              "      <td>NaN</td>\n",
              "      <td>NaN</td>\n",
              "      <td>NaN</td>\n",
              "      <td>NaN</td>\n",
              "      <td>NaN</td>\n",
              "      <td>NaN</td>\n",
              "      <td>NaN</td>\n",
              "      <td>NaN</td>\n",
              "      <td>Dubai</td>\n",
              "      <td>Downtown Dubai</td>\n",
              "      <td>BLVD Heights Tower 2</td>\n",
              "    </tr>\n",
              "    <tr>\n",
              "      <th>4675</th>\n",
              "      <td>85000</td>\n",
              "      <td>1</td>\n",
              "      <td>NaN</td>\n",
              "      <td>920 sqft</td>\n",
              "      <td>Spacious|Luxurious|Next to Dubai Mall|Best Deal</td>\n",
              "      <td>Silver Oak Propeties LLC is proud to present t...</td>\n",
              "      <td>Bayut - 2212-Ap-R-0108</td>\n",
              "      <td>2 February 2022</td>\n",
              "      <td>NaN</td>\n",
              "      <td>NaN</td>\n",
              "      <td>NaN</td>\n",
              "      <td>NaN</td>\n",
              "      <td>NaN</td>\n",
              "      <td>NaN</td>\n",
              "      <td>Furnished</td>\n",
              "      <td>Furnished</td>\n",
              "      <td>Dubai</td>\n",
              "      <td>Downtown Dubai</td>\n",
              "      <td>Damac Maison Dubai Mall Street</td>\n",
              "    </tr>\n",
              "    <tr>\n",
              "      <th>4699</th>\n",
              "      <td>88000</td>\n",
              "      <td>2</td>\n",
              "      <td>NaN</td>\n",
              "      <td>1,490 sqft</td>\n",
              "      <td>Hot Deal Bright 2 BR For rent in Najoom tower</td>\n",
              "      <td>Burj Al Nujoom A stylish development within Do...</td>\n",
              "      <td>Bayut - ab_najoom_2</td>\n",
              "      <td>29 March 2022</td>\n",
              "      <td>NaN</td>\n",
              "      <td>NaN</td>\n",
              "      <td>NaN</td>\n",
              "      <td>NaN</td>\n",
              "      <td>NaN</td>\n",
              "      <td>NaN</td>\n",
              "      <td>Unfurnished</td>\n",
              "      <td>Swimming Pool</td>\n",
              "      <td>Dubai</td>\n",
              "      <td>Downtown Dubai</td>\n",
              "      <td>Burj Al Nujoom</td>\n",
              "    </tr>\n",
              "  </tbody>\n",
              "</table>\n",
              "</div>\n",
              "      <button class=\"colab-df-convert\" onclick=\"convertToInteractive('df-d31c38c7-b2d6-4362-9df7-a45a652a04a6')\"\n",
              "              title=\"Convert this dataframe to an interactive table.\"\n",
              "              style=\"display:none;\">\n",
              "        \n",
              "  <svg xmlns=\"http://www.w3.org/2000/svg\" height=\"24px\"viewBox=\"0 0 24 24\"\n",
              "       width=\"24px\">\n",
              "    <path d=\"M0 0h24v24H0V0z\" fill=\"none\"/>\n",
              "    <path d=\"M18.56 5.44l.94 2.06.94-2.06 2.06-.94-2.06-.94-.94-2.06-.94 2.06-2.06.94zm-11 1L8.5 8.5l.94-2.06 2.06-.94-2.06-.94L8.5 2.5l-.94 2.06-2.06.94zm10 10l.94 2.06.94-2.06 2.06-.94-2.06-.94-.94-2.06-.94 2.06-2.06.94z\"/><path d=\"M17.41 7.96l-1.37-1.37c-.4-.4-.92-.59-1.43-.59-.52 0-1.04.2-1.43.59L10.3 9.45l-7.72 7.72c-.78.78-.78 2.05 0 2.83L4 21.41c.39.39.9.59 1.41.59.51 0 1.02-.2 1.41-.59l7.78-7.78 2.81-2.81c.8-.78.8-2.07 0-2.86zM5.41 20L4 18.59l7.72-7.72 1.47 1.35L5.41 20z\"/>\n",
              "  </svg>\n",
              "      </button>\n",
              "      \n",
              "  <style>\n",
              "    .colab-df-container {\n",
              "      display:flex;\n",
              "      flex-wrap:wrap;\n",
              "      gap: 12px;\n",
              "    }\n",
              "\n",
              "    .colab-df-convert {\n",
              "      background-color: #E8F0FE;\n",
              "      border: none;\n",
              "      border-radius: 50%;\n",
              "      cursor: pointer;\n",
              "      display: none;\n",
              "      fill: #1967D2;\n",
              "      height: 32px;\n",
              "      padding: 0 0 0 0;\n",
              "      width: 32px;\n",
              "    }\n",
              "\n",
              "    .colab-df-convert:hover {\n",
              "      background-color: #E2EBFA;\n",
              "      box-shadow: 0px 1px 2px rgba(60, 64, 67, 0.3), 0px 1px 3px 1px rgba(60, 64, 67, 0.15);\n",
              "      fill: #174EA6;\n",
              "    }\n",
              "\n",
              "    [theme=dark] .colab-df-convert {\n",
              "      background-color: #3B4455;\n",
              "      fill: #D2E3FC;\n",
              "    }\n",
              "\n",
              "    [theme=dark] .colab-df-convert:hover {\n",
              "      background-color: #434B5C;\n",
              "      box-shadow: 0px 1px 3px 1px rgba(0, 0, 0, 0.15);\n",
              "      filter: drop-shadow(0px 1px 2px rgba(0, 0, 0, 0.3));\n",
              "      fill: #FFFFFF;\n",
              "    }\n",
              "  </style>\n",
              "\n",
              "      <script>\n",
              "        const buttonEl =\n",
              "          document.querySelector('#df-d31c38c7-b2d6-4362-9df7-a45a652a04a6 button.colab-df-convert');\n",
              "        buttonEl.style.display =\n",
              "          google.colab.kernel.accessAllowed ? 'block' : 'none';\n",
              "\n",
              "        async function convertToInteractive(key) {\n",
              "          const element = document.querySelector('#df-d31c38c7-b2d6-4362-9df7-a45a652a04a6');\n",
              "          const dataTable =\n",
              "            await google.colab.kernel.invokeFunction('convertToInteractive',\n",
              "                                                     [key], {});\n",
              "          if (!dataTable) return;\n",
              "\n",
              "          const docLinkHtml = 'Like what you see? Visit the ' +\n",
              "            '<a target=\"_blank\" href=https://colab.research.google.com/notebooks/data_table.ipynb>data table notebook</a>'\n",
              "            + ' to learn more about interactive tables.';\n",
              "          element.innerHTML = '';\n",
              "          dataTable['output_type'] = 'display_data';\n",
              "          await google.colab.output.renderOutput(dataTable, element);\n",
              "          const docLink = document.createElement('div');\n",
              "          docLink.innerHTML = docLinkHtml;\n",
              "          element.appendChild(docLink);\n",
              "        }\n",
              "      </script>\n",
              "    </div>\n",
              "  </div>\n",
              "  "
            ]
          },
          "metadata": {},
          "execution_count": 16
        }
      ]
    },
    {
      "cell_type": "markdown",
      "source": [
        "As we can see there's many apartments with huge area and a few bedrooms, at least it should have 1 bathrom.  \n",
        "However, if we will fill mising values with 1 it might confuse our next analysis.  As it is only 22 missings we can just drop it. \n",
        "But, maybe later will comback to this and try to extract info from other columns such as description column.\n",
        "\n",
        "On the next step will drop missing values, replace strings to numbers and check unique values."
      ],
      "metadata": {
        "id": "FgdTE2qY1w_M"
      }
    },
    {
      "cell_type": "code",
      "source": [
        "data.dropna(subset=['baths'], inplace=True)"
      ],
      "metadata": {
        "id": "ufSXwauq3PdA"
      },
      "execution_count": 17,
      "outputs": []
    },
    {
      "cell_type": "code",
      "source": [
        "data['baths'] = data['baths'].replace(\n",
        "    {'1 Bath': 1,\n",
        "     '2 Baths': 2,\n",
        "     '3 Baths': 3,\n",
        "     '4 Baths': 4,\n",
        "     '5 Baths': 5,\n",
        "     '6 Baths': 6,\n",
        "    }\n",
        "  ).astype(int)"
      ],
      "metadata": {
        "id": "wFQBUdG_thRk"
      },
      "execution_count": 18,
      "outputs": []
    },
    {
      "cell_type": "code",
      "source": [
        "data['baths'].unique()"
      ],
      "metadata": {
        "colab": {
          "base_uri": "https://localhost:8080/"
        },
        "id": "gF0O5nu63r68",
        "outputId": "f8f2a650-7311-4757-974f-fd158157cef1"
      },
      "execution_count": 19,
      "outputs": [
        {
          "output_type": "execute_result",
          "data": {
            "text/plain": [
              "array([2, 3, 1, 5, 4, 6])"
            ]
          },
          "metadata": {},
          "execution_count": 19
        }
      ]
    },
    {
      "cell_type": "markdown",
      "source": [
        "### Area (sqft) column"
      ],
      "metadata": {
        "id": "tT99BK735miw"
      }
    },
    {
      "cell_type": "markdown",
      "source": [
        "Replace commas and sqft then convert to int data type. Check first 5 rows."
      ],
      "metadata": {
        "id": "osg0r-PJ6z-9"
      }
    },
    {
      "cell_type": "code",
      "source": [
        "data['area-sqft'] = (\n",
        "    data['area-sqft']\n",
        "    .str.replace('sqft','')\n",
        "    .str.replace(',','')\n",
        "    .astype(float)\n",
        "    .astype(int)\n",
        "    )\n",
        "data['area-sqft'].head(5)"
      ],
      "metadata": {
        "colab": {
          "base_uri": "https://localhost:8080/"
        },
        "id": "XjqcxES-4ihn",
        "outputId": "4774e6aa-265e-44d9-a4c4-264a87e63f86"
      },
      "execution_count": 20,
      "outputs": [
        {
          "output_type": "execute_result",
          "data": {
            "text/plain": [
              "0     905\n",
              "1    1250\n",
              "2    1759\n",
              "3     905\n",
              "4     861\n",
              "Name: area-sqft, dtype: int64"
            ]
          },
          "metadata": {},
          "execution_count": 20
        }
      ]
    },
    {
      "cell_type": "markdown",
      "source": [
        "### Date column"
      ],
      "metadata": {
        "id": "T9QMbMLH8hpl"
      }
    },
    {
      "cell_type": "markdown",
      "source": [
        "Converting column with date to datetime format"
      ],
      "metadata": {
        "id": "WCBPlMMfAcd3"
      }
    },
    {
      "cell_type": "code",
      "source": [
        "data['date-added'] = pd.to_datetime(data['date-added'], format = \"%d %B %Y\")"
      ],
      "metadata": {
        "id": "qhvdje5S6SCE"
      },
      "execution_count": 21,
      "outputs": []
    },
    {
      "cell_type": "markdown",
      "source": [
        "Adding four new columns with year, month, day and weekday"
      ],
      "metadata": {
        "id": "Vo7bYUZG_46U"
      }
    },
    {
      "cell_type": "code",
      "source": [
        "data['year'] = pd.DatetimeIndex(data['date-added']).year \n",
        "data['month'] = pd.DatetimeIndex(data['date-added']).month \n",
        "data['day'] = pd.DatetimeIndex(data['date-added']).day\n",
        "data['weekday'] = pd.DatetimeIndex(data['date-added']).weekday"
      ],
      "metadata": {
        "id": "1JCq4l5Q_jdK"
      },
      "execution_count": 22,
      "outputs": []
    },
    {
      "cell_type": "code",
      "source": [
        "data[['date-added', 'year', 'day', 'month', 'weekday']].head(5)"
      ],
      "metadata": {
        "colab": {
          "base_uri": "https://localhost:8080/",
          "height": 204
        },
        "id": "T4d8iQc0ABqu",
        "outputId": "4f7bb49f-086f-4bad-99b4-3af0fa170bcc"
      },
      "execution_count": 23,
      "outputs": [
        {
          "output_type": "execute_result",
          "data": {
            "text/plain": [
              "  date-added  year  day  month  weekday\n",
              "0 2022-05-23  2022   23      5        0\n",
              "1 2022-05-10  2022   10      5        1\n",
              "2 2022-07-04  2022    4      7        0\n",
              "3 2022-05-12  2022   12      5        3\n",
              "4 2022-08-03  2022    3      8        2"
            ],
            "text/html": [
              "\n",
              "  <div id=\"df-e963c5ce-3efd-4892-b23d-0123dacaaa54\">\n",
              "    <div class=\"colab-df-container\">\n",
              "      <div>\n",
              "<style scoped>\n",
              "    .dataframe tbody tr th:only-of-type {\n",
              "        vertical-align: middle;\n",
              "    }\n",
              "\n",
              "    .dataframe tbody tr th {\n",
              "        vertical-align: top;\n",
              "    }\n",
              "\n",
              "    .dataframe thead th {\n",
              "        text-align: right;\n",
              "    }\n",
              "</style>\n",
              "<table border=\"1\" class=\"dataframe\">\n",
              "  <thead>\n",
              "    <tr style=\"text-align: right;\">\n",
              "      <th></th>\n",
              "      <th>date-added</th>\n",
              "      <th>year</th>\n",
              "      <th>day</th>\n",
              "      <th>month</th>\n",
              "      <th>weekday</th>\n",
              "    </tr>\n",
              "  </thead>\n",
              "  <tbody>\n",
              "    <tr>\n",
              "      <th>0</th>\n",
              "      <td>2022-05-23</td>\n",
              "      <td>2022</td>\n",
              "      <td>23</td>\n",
              "      <td>5</td>\n",
              "      <td>0</td>\n",
              "    </tr>\n",
              "    <tr>\n",
              "      <th>1</th>\n",
              "      <td>2022-05-10</td>\n",
              "      <td>2022</td>\n",
              "      <td>10</td>\n",
              "      <td>5</td>\n",
              "      <td>1</td>\n",
              "    </tr>\n",
              "    <tr>\n",
              "      <th>2</th>\n",
              "      <td>2022-07-04</td>\n",
              "      <td>2022</td>\n",
              "      <td>4</td>\n",
              "      <td>7</td>\n",
              "      <td>0</td>\n",
              "    </tr>\n",
              "    <tr>\n",
              "      <th>3</th>\n",
              "      <td>2022-05-12</td>\n",
              "      <td>2022</td>\n",
              "      <td>12</td>\n",
              "      <td>5</td>\n",
              "      <td>3</td>\n",
              "    </tr>\n",
              "    <tr>\n",
              "      <th>4</th>\n",
              "      <td>2022-08-03</td>\n",
              "      <td>2022</td>\n",
              "      <td>3</td>\n",
              "      <td>8</td>\n",
              "      <td>2</td>\n",
              "    </tr>\n",
              "  </tbody>\n",
              "</table>\n",
              "</div>\n",
              "      <button class=\"colab-df-convert\" onclick=\"convertToInteractive('df-e963c5ce-3efd-4892-b23d-0123dacaaa54')\"\n",
              "              title=\"Convert this dataframe to an interactive table.\"\n",
              "              style=\"display:none;\">\n",
              "        \n",
              "  <svg xmlns=\"http://www.w3.org/2000/svg\" height=\"24px\"viewBox=\"0 0 24 24\"\n",
              "       width=\"24px\">\n",
              "    <path d=\"M0 0h24v24H0V0z\" fill=\"none\"/>\n",
              "    <path d=\"M18.56 5.44l.94 2.06.94-2.06 2.06-.94-2.06-.94-.94-2.06-.94 2.06-2.06.94zm-11 1L8.5 8.5l.94-2.06 2.06-.94-2.06-.94L8.5 2.5l-.94 2.06-2.06.94zm10 10l.94 2.06.94-2.06 2.06-.94-2.06-.94-.94-2.06-.94 2.06-2.06.94z\"/><path d=\"M17.41 7.96l-1.37-1.37c-.4-.4-.92-.59-1.43-.59-.52 0-1.04.2-1.43.59L10.3 9.45l-7.72 7.72c-.78.78-.78 2.05 0 2.83L4 21.41c.39.39.9.59 1.41.59.51 0 1.02-.2 1.41-.59l7.78-7.78 2.81-2.81c.8-.78.8-2.07 0-2.86zM5.41 20L4 18.59l7.72-7.72 1.47 1.35L5.41 20z\"/>\n",
              "  </svg>\n",
              "      </button>\n",
              "      \n",
              "  <style>\n",
              "    .colab-df-container {\n",
              "      display:flex;\n",
              "      flex-wrap:wrap;\n",
              "      gap: 12px;\n",
              "    }\n",
              "\n",
              "    .colab-df-convert {\n",
              "      background-color: #E8F0FE;\n",
              "      border: none;\n",
              "      border-radius: 50%;\n",
              "      cursor: pointer;\n",
              "      display: none;\n",
              "      fill: #1967D2;\n",
              "      height: 32px;\n",
              "      padding: 0 0 0 0;\n",
              "      width: 32px;\n",
              "    }\n",
              "\n",
              "    .colab-df-convert:hover {\n",
              "      background-color: #E2EBFA;\n",
              "      box-shadow: 0px 1px 2px rgba(60, 64, 67, 0.3), 0px 1px 3px 1px rgba(60, 64, 67, 0.15);\n",
              "      fill: #174EA6;\n",
              "    }\n",
              "\n",
              "    [theme=dark] .colab-df-convert {\n",
              "      background-color: #3B4455;\n",
              "      fill: #D2E3FC;\n",
              "    }\n",
              "\n",
              "    [theme=dark] .colab-df-convert:hover {\n",
              "      background-color: #434B5C;\n",
              "      box-shadow: 0px 1px 3px 1px rgba(0, 0, 0, 0.15);\n",
              "      filter: drop-shadow(0px 1px 2px rgba(0, 0, 0, 0.3));\n",
              "      fill: #FFFFFF;\n",
              "    }\n",
              "  </style>\n",
              "\n",
              "      <script>\n",
              "        const buttonEl =\n",
              "          document.querySelector('#df-e963c5ce-3efd-4892-b23d-0123dacaaa54 button.colab-df-convert');\n",
              "        buttonEl.style.display =\n",
              "          google.colab.kernel.accessAllowed ? 'block' : 'none';\n",
              "\n",
              "        async function convertToInteractive(key) {\n",
              "          const element = document.querySelector('#df-e963c5ce-3efd-4892-b23d-0123dacaaa54');\n",
              "          const dataTable =\n",
              "            await google.colab.kernel.invokeFunction('convertToInteractive',\n",
              "                                                     [key], {});\n",
              "          if (!dataTable) return;\n",
              "\n",
              "          const docLinkHtml = 'Like what you see? Visit the ' +\n",
              "            '<a target=\"_blank\" href=https://colab.research.google.com/notebooks/data_table.ipynb>data table notebook</a>'\n",
              "            + ' to learn more about interactive tables.';\n",
              "          element.innerHTML = '';\n",
              "          dataTable['output_type'] = 'display_data';\n",
              "          await google.colab.output.renderOutput(dataTable, element);\n",
              "          const docLink = document.createElement('div');\n",
              "          docLink.innerHTML = docLinkHtml;\n",
              "          element.appendChild(docLink);\n",
              "        }\n",
              "      </script>\n",
              "    </div>\n",
              "  </div>\n",
              "  "
            ]
          },
          "metadata": {},
          "execution_count": 23
        }
      ]
    },
    {
      "cell_type": "markdown",
      "source": [
        "### Furnishing column"
      ],
      "metadata": {
        "id": "CIllZkcOCmjU"
      }
    },
    {
      "cell_type": "code",
      "source": [
        "data['furnishing'].unique()"
      ],
      "metadata": {
        "colab": {
          "base_uri": "https://localhost:8080/"
        },
        "id": "_o97n4oQBEx6",
        "outputId": "1ef303fd-dc15-4830-a198-0852232a9e65"
      },
      "execution_count": 24,
      "outputs": [
        {
          "output_type": "execute_result",
          "data": {
            "text/plain": [
              "array(['Furnished', 'Unfurnished', nan], dtype=object)"
            ]
          },
          "metadata": {},
          "execution_count": 24
        }
      ]
    },
    {
      "cell_type": "code",
      "source": [
        "data['furnishing'].value_counts().sum()"
      ],
      "metadata": {
        "colab": {
          "base_uri": "https://localhost:8080/"
        },
        "id": "UjCY2QGpCERV",
        "outputId": "e5e63807-8f5b-4906-cf4d-abb6cfc1c2bd"
      },
      "execution_count": 25,
      "outputs": [
        {
          "output_type": "execute_result",
          "data": {
            "text/plain": [
              "3287"
            ]
          },
          "metadata": {},
          "execution_count": 25
        }
      ]
    },
    {
      "cell_type": "markdown",
      "source": [
        "## Exploratory Data Analysis (EDA)"
      ],
      "metadata": {
        "id": "O7C_0uiYDL_Q"
      }
    },
    {
      "cell_type": "markdown",
      "source": [
        "Defining some functions for future use in analysis"
      ],
      "metadata": {
        "id": "l4USaUVRLNJ4"
      }
    },
    {
      "cell_type": "code",
      "source": [
        "def whiskers_limits(series):\n",
        "    q1 = np.percentile(series, 25)  # Q1\n",
        "    q2 = np.percentile(series, 50)  # Q2 (Median)\n",
        "    q3 = np.percentile(series, 75)  # Q3\n",
        "    whisker_maximum = round(q3 + ((q3 - q1) * 1.5), 2) # “maximum”: Q3 + 1.5 * IQR \n",
        "    whisker_minimum = round(q1 - ((q3 - q1) / 1.5), 2) # “minimum”: Q1 - 1.5 * IQR\n",
        "    above_whisker_maximum = data.query('@series > @whisker_maximum')[series.name].count()\n",
        "    total_amount = data[series.name].count()\n",
        "    \n",
        "    print(f\"{whisker_minimum} - Minimum value for left 'whisker'\\n\"\n",
        "          f\"{whisker_maximum} - Max value for right 'whisker',\\n\"\n",
        "          f\"{above_whisker_maximum} (or {round(above_whisker_maximum / total_amount * 100, 2)}%)\"\n",
        "          f\" of {total_amount} - N elements after the right 'whisker'\")"
      ],
      "metadata": {
        "id": "eIQYsOR8FVdi"
      },
      "execution_count": 26,
      "outputs": []
    },
    {
      "cell_type": "markdown",
      "source": [
        "### Price"
      ],
      "metadata": {
        "id": "eyFzmE9IDqKn"
      }
    },
    {
      "cell_type": "markdown",
      "source": [
        "Let's see how prices vary for all listings"
      ],
      "metadata": {
        "id": "zP6HjVKALgQH"
      }
    },
    {
      "cell_type": "code",
      "source": [
        "data['price'].plot(\n",
        "    kind = 'hist',\n",
        "    bins = 100,\n",
        "    # range = (0, 25_000_000),\n",
        "    title = \"Price Histogram\",\n",
        "    figsize = (15, 5),\n",
        "    grid = True,\n",
        "    legend = True,\n",
        "    color = '#2c3e50',\n",
        ")\n",
        "plt.ylabel('Number of listings')\n",
        "plt.xlabel('Price in AED')\n",
        "plt.ticklabel_format(axis='x', style='plain')\n",
        "# plt.xticks(np.arange(0, 600_000, 10_000))\n",
        "plt.show()"
      ],
      "metadata": {
        "colab": {
          "base_uri": "https://localhost:8080/",
          "height": 350
        },
        "id": "g2Qpq7wyCLNM",
        "outputId": "92decd82-1bac-479a-f99d-7005fd3af15d"
      },
      "execution_count": 27,
      "outputs": [
        {
          "output_type": "display_data",
          "data": {
            "text/plain": [
              "<Figure size 1080x360 with 1 Axes>"
            ],
            "image/png": "[encoded data removed]"
          },
          "metadata": {
            "needs_background": "light"
          }
        }
      ]
    },
    {
      "cell_type": "markdown",
      "source": [
        "We can see outliers messing all data starting from price 500,000 and up. Most likely it's huge apartment with many rooms and more luxurious.  \n",
        "We would need to look into more common range of prices."
      ],
      "metadata": {
        "id": "cU5oax1ILxK7"
      }
    },
    {
      "cell_type": "code",
      "source": [
        "pd.options.display.float_format = '{:.2f}'.format\n",
        "# pd.reset_option('display.float_format')"
      ],
      "metadata": {
        "id": "8UjOV9ztIET4"
      },
      "execution_count": 28,
      "outputs": []
    },
    {
      "cell_type": "code",
      "source": [
        "data['price'].describe()"
      ],
      "metadata": {
        "colab": {
          "base_uri": "https://localhost:8080/"
        },
        "id": "WsgOM45gD2AV",
        "outputId": "9e970435-e66a-4048-ec10-209a1241aefd"
      },
      "execution_count": 29,
      "outputs": [
        {
          "output_type": "execute_result",
          "data": {
            "text/plain": [
              "count      4802.00\n",
              "mean     228229.83\n",
              "std      171535.69\n",
              "min       40000.00\n",
              "25%      120000.00\n",
              "50%      180000.00\n",
              "75%      295000.00\n",
              "max     3000000.00\n",
              "Name: price, dtype: float64"
            ]
          },
          "metadata": {},
          "execution_count": 29
        }
      ]
    },
    {
      "cell_type": "markdown",
      "source": [
        "Using method describe it's easy to see that all prices start as minimum 40,000. Enormous difference between third quartile and max value."
      ],
      "metadata": {
        "id": "2BtGZ0LfMVSV"
      }
    },
    {
      "cell_type": "code",
      "source": [
        "data['price'].plot(\n",
        "    kind='box',\n",
        "    title = \"Price boxplot\",\n",
        "    figsize = (15, 5),\n",
        "    grid = True,\n",
        "    vert = False,\n",
        ")\n",
        "plt.xlim(0, 600_000)\n",
        "plt.xlabel('Price in AED')\n",
        "plt.show()"
      ],
      "metadata": {
        "colab": {
          "base_uri": "https://localhost:8080/",
          "height": 350
        },
        "id": "bGnvcJLWHRRU",
        "outputId": "f603f3d7-ddb4-46d9-85af-fe61071036cd"
      },
      "execution_count": 30,
      "outputs": [
        {
          "output_type": "display_data",
          "data": {
            "text/plain": [
              "<Figure size 1080x360 with 1 Axes>"
            ],
            "image/png": "[encoded data removed]"
          },
          "metadata": {
            "needs_background": "light"
          }
        }
      ]
    },
    {
      "cell_type": "code",
      "source": [
        "whiskers_limits(data['price'])"
      ],
      "metadata": {
        "colab": {
          "base_uri": "https://localhost:8080/"
        },
        "id": "IkDuOCWOIaFb",
        "outputId": "1a45c668-9679-44b0-dd6c-66df6967de5d"
      },
      "execution_count": 31,
      "outputs": [
        {
          "output_type": "stream",
          "name": "stdout",
          "text": [
            "3333.33 - Minimum value for left 'whisker'\n",
            "557500.0 - Max value for right 'whisker',\n",
            "126 (or 2.62%) of 4802 - N elements after the right 'whisker'\n"
          ]
        }
      ]
    },
    {
      "cell_type": "code",
      "source": [
        "data['price'].plot(\n",
        "    kind = 'hist',\n",
        "    bins = 50,\n",
        "    range = (30_000, 600_000),\n",
        "    title = \"Price Histogram\",\n",
        "    figsize = (15, 5),\n",
        "    grid = True,\n",
        "    legend = True,\n",
        "    color = '#2c3e50',\n",
        ")\n",
        "plt.ylabel('Number of listings')\n",
        "plt.xlabel('Price in AED')\n",
        "plt.ticklabel_format(axis='x', style='plain')\n",
        "# plt.xticks(np.arange(30_000, 600_000, 10_000))\n",
        "plt.show()"
      ],
      "metadata": {
        "colab": {
          "base_uri": "https://localhost:8080/",
          "height": 350
        },
        "id": "JrmLAX_XKyff",
        "outputId": "33b0b5cb-e728-4657-d270-4a04aa3a13f6"
      },
      "execution_count": 32,
      "outputs": [
        {
          "output_type": "display_data",
          "data": {
            "text/plain": [
              "<Figure size 1080x360 with 1 Axes>"
            ],
            "image/png": "[encoded data removed]"
          },
          "metadata": {
            "needs_background": "light"
          }
        }
      ]
    },
    {
      "cell_type": "markdown",
      "source": [
        "### Number of bedrooms"
      ],
      "metadata": {
        "id": "0UtaOQ3qYM-r"
      }
    },
    {
      "cell_type": "code",
      "source": [
        "data['beds'].plot(\n",
        "    kind = 'hist',\n",
        "    title = \"Bedrooms Histogram\",\n",
        "    bins = 6,\n",
        "    figsize = (15, 5),\n",
        "    grid = True,\n",
        "    legend = True,\n",
        "    color = '#2c3e50',\n",
        ")\n",
        "plt.ylabel('Number of listings')\n",
        "plt.xlabel('Number of rooms, 0 - is Studio')\n",
        "plt.ticklabel_format(axis='x', style='plain')\n",
        "plt.show()"
      ],
      "metadata": {
        "colab": {
          "base_uri": "https://localhost:8080/",
          "height": 350
        },
        "id": "f_r3446BX4Of",
        "outputId": "53116b43-4b05-4ca2-ed0c-0b8e3b381af5"
      },
      "execution_count": 33,
      "outputs": [
        {
          "output_type": "display_data",
          "data": {
            "text/plain": [
              "<Figure size 1080x360 with 1 Axes>"
            ],
            "image/png": "[encoded data removed]"
          },
          "metadata": {
            "needs_background": "light"
          }
        }
      ]
    },
    {
      "cell_type": "code",
      "source": [
        "data['beds'].value_counts()"
      ],
      "metadata": {
        "colab": {
          "base_uri": "https://localhost:8080/"
        },
        "id": "hnsJ0EucYeeP",
        "outputId": "47c3afb2-fbb6-4438-dc35-641b25bf2f33"
      },
      "execution_count": 34,
      "outputs": [
        {
          "output_type": "execute_result",
          "data": {
            "text/plain": [
              "2    1983\n",
              "1    1474\n",
              "3     832\n",
              "0     435\n",
              "4      75\n",
              "5       3\n",
              "Name: beds, dtype: int64"
            ]
          },
          "metadata": {},
          "execution_count": 34
        }
      ]
    },
    {
      "cell_type": "markdown",
      "source": [
        "More listings of two bedroom apartemnts followed by one bedroom"
      ],
      "metadata": {
        "id": "WF5-f8vUa030"
      }
    },
    {
      "cell_type": "markdown",
      "source": [
        "#### One bedroom apartments (1BDR)"
      ],
      "metadata": {
        "id": "9-4gCqb8eDkv"
      }
    },
    {
      "cell_type": "code",
      "source": [
        "data_1BDR = data.query('beds == 1')"
      ],
      "metadata": {
        "id": "iOR5dSl8Z72u"
      },
      "execution_count": 35,
      "outputs": []
    },
    {
      "cell_type": "code",
      "source": [
        "data_1BDR['price'].plot(\n",
        "    kind = 'hist',\n",
        "    bins = 20,\n",
        "    # range = (30_000, 600_000),\n",
        "    title = \"Price Histogram for 1BDR\",\n",
        "    figsize = (15, 5),\n",
        "    grid = True,\n",
        "    legend = True,\n",
        "    color = '#2c3e50',\n",
        ")\n",
        "plt.ylabel('Number of listings')\n",
        "plt.xlabel('Price in AED')\n",
        "plt.ticklabel_format(axis='x', style='plain')\n",
        "plt.show()"
      ],
      "metadata": {
        "colab": {
          "base_uri": "https://localhost:8080/",
          "height": 54
        },
        "id": "CWJ3aiq2cH_O",
        "outputId": "658b07a0-caec-4673-c7f3-2000286f84cb"
      },
      "execution_count": 36,
      "outputs": [
        {
          "output_type": "display_data",
          "data": {
            "text/plain": [
              "<Figure size 1080x360 with 1 Axes>"
            ],
            "image/png": "[encoded data removed]"
          },
          "metadata": {
            "needs_background": "light"
          }
        }
      ]
    },
    {
      "cell_type": "code",
      "source": [
        "data_1BDR['price'].describe()"
      ],
      "metadata": {
        "colab": {
          "base_uri": "https://localhost:8080/"
        },
        "id": "gkjxV4Hwc5mT",
        "outputId": "8bdd76e5-59e8-4e04-e1b3-3bf0a372a691"
      },
      "execution_count": 37,
      "outputs": [
        {
          "output_type": "execute_result",
          "data": {
            "text/plain": [
              "count     1474.00\n",
              "mean    128599.18\n",
              "std      42612.28\n",
              "min      59998.00\n",
              "25%      95000.00\n",
              "50%     115000.00\n",
              "75%     160000.00\n",
              "max     280000.00\n",
              "Name: price, dtype: float64"
            ]
          },
          "metadata": {},
          "execution_count": 37
        }
      ]
    },
    {
      "cell_type": "code",
      "source": [
        "data_1BDR[['price', 'area-sqft', 'baths']].corr()"
      ],
      "metadata": {
        "colab": {
          "base_uri": "https://localhost:8080/",
          "height": 240
        },
        "id": "OgiAjAhsenqV",
        "outputId": "428dbdd0-6cbd-4d86-f214-6ececff8c3f7"
      },
      "execution_count": 38,
      "outputs": [
        {
          "output_type": "execute_result",
          "data": {
            "text/plain": [
              "           price  area-sqft  baths\n",
              "price       1.00       0.05   0.07\n",
              "area-sqft   0.05       1.00   0.21\n",
              "baths       0.07       0.21   1.00"
            ],
            "text/html": [
              "\n",
              "  <div id=\"df-c9fdd729-0f15-46ff-b18c-085dd2c05e8d\">\n",
              "    <div class=\"colab-df-container\">\n",
              "      <div>\n",
              "<style scoped>\n",
              "    .dataframe tbody tr th:only-of-type {\n",
              "        vertical-align: middle;\n",
              "    }\n",
              "\n",
              "    .dataframe tbody tr th {\n",
              "        vertical-align: top;\n",
              "    }\n",
              "\n",
              "    .dataframe thead th {\n",
              "        text-align: right;\n",
              "    }\n",
              "</style>\n",
              "<table border=\"1\" class=\"dataframe\">\n",
              "  <thead>\n",
              "    <tr style=\"text-align: right;\">\n",
              "      <th></th>\n",
              "      <th>price</th>\n",
              "      <th>area-sqft</th>\n",
              "      <th>baths</th>\n",
              "    </tr>\n",
              "  </thead>\n",
              "  <tbody>\n",
              "    <tr>\n",
              "      <th>price</th>\n",
              "      <td>1.00</td>\n",
              "      <td>0.05</td>\n",
              "      <td>0.07</td>\n",
              "    </tr>\n",
              "    <tr>\n",
              "      <th>area-sqft</th>\n",
              "      <td>0.05</td>\n",
              "      <td>1.00</td>\n",
              "      <td>0.21</td>\n",
              "    </tr>\n",
              "    <tr>\n",
              "      <th>baths</th>\n",
              "      <td>0.07</td>\n",
              "      <td>0.21</td>\n",
              "      <td>1.00</td>\n",
              "    </tr>\n",
              "  </tbody>\n",
              "</table>\n",
              "</div>\n",
              "      <button class=\"colab-df-convert\" onclick=\"convertToInteractive('df-c9fdd729-0f15-46ff-b18c-085dd2c05e8d')\"\n",
              "              title=\"Convert this dataframe to an interactive table.\"\n",
              "              style=\"display:none;\">\n",
              "        \n",
              "  <svg xmlns=\"http://www.w3.org/2000/svg\" height=\"24px\"viewBox=\"0 0 24 24\"\n",
              "       width=\"24px\">\n",
              "    <path d=\"M0 0h24v24H0V0z\" fill=\"none\"/>\n",
              "    <path d=\"M18.56 5.44l.94 2.06.94-2.06 2.06-.94-2.06-.94-.94-2.06-.94 2.06-2.06.94zm-11 1L8.5 8.5l.94-2.06 2.06-.94-2.06-.94L8.5 2.5l-.94 2.06-2.06.94zm10 10l.94 2.06.94-2.06 2.06-.94-2.06-.94-.94-2.06-.94 2.06-2.06.94z\"/><path d=\"M17.41 7.96l-1.37-1.37c-.4-.4-.92-.59-1.43-.59-.52 0-1.04.2-1.43.59L10.3 9.45l-7.72 7.72c-.78.78-.78 2.05 0 2.83L4 21.41c.39.39.9.59 1.41.59.51 0 1.02-.2 1.41-.59l7.78-7.78 2.81-2.81c.8-.78.8-2.07 0-2.86zM5.41 20L4 18.59l7.72-7.72 1.47 1.35L5.41 20z\"/>\n",
              "  </svg>\n",
              "      </button>\n",
              "      \n",
              "  <style>\n",
              "    .colab-df-container {\n",
              "      display:flex;\n",
              "      flex-wrap:wrap;\n",
              "      gap: 12px;\n",
              "    }\n",
              "\n",
              "    .colab-df-convert {\n",
              "      background-color: #E8F0FE;\n",
              "      border: none;\n",
              "      border-radius: 50%;\n",
              "      cursor: pointer;\n",
              "      display: none;\n",
              "      fill: #1967D2;\n",
              "      height: 32px;\n",
              "      padding: 0 0 0 0;\n",
              "      width: 32px;\n",
              "    }\n",
              "\n",
              "    .colab-df-convert:hover {\n",
              "      background-color: #E2EBFA;\n",
              "      box-shadow: 0px 1px 2px rgba(60, 64, 67, 0.3), 0px 1px 3px 1px rgba(60, 64, 67, 0.15);\n",
              "      fill: #174EA6;\n",
              "    }\n",
              "\n",
              "    [theme=dark] .colab-df-convert {\n",
              "      background-color: #3B4455;\n",
              "      fill: #D2E3FC;\n",
              "    }\n",
              "\n",
              "    [theme=dark] .colab-df-convert:hover {\n",
              "      background-color: #434B5C;\n",
              "      box-shadow: 0px 1px 3px 1px rgba(0, 0, 0, 0.15);\n",
              "      filter: drop-shadow(0px 1px 2px rgba(0, 0, 0, 0.3));\n",
              "      fill: #FFFFFF;\n",
              "    }\n",
              "  </style>\n",
              "\n",
              "      <script>\n",
              "        const buttonEl =\n",
              "          document.querySelector('#df-c9fdd729-0f15-46ff-b18c-085dd2c05e8d button.colab-df-convert');\n",
              "        buttonEl.style.display =\n",
              "          google.colab.kernel.accessAllowed ? 'block' : 'none';\n",
              "\n",
              "        async function convertToInteractive(key) {\n",
              "          const element = document.querySelector('#df-c9fdd729-0f15-46ff-b18c-085dd2c05e8d');\n",
              "          const dataTable =\n",
              "            await google.colab.kernel.invokeFunction('convertToInteractive',\n",
              "                                                     [key], {});\n",
              "          if (!dataTable) return;\n",
              "\n",
              "          const docLinkHtml = 'Like what you see? Visit the ' +\n",
              "            '<a target=\"_blank\" href=https://colab.research.google.com/notebooks/data_table.ipynb>data table notebook</a>'\n",
              "            + ' to learn more about interactive tables.';\n",
              "          element.innerHTML = '';\n",
              "          dataTable['output_type'] = 'display_data';\n",
              "          await google.colab.output.renderOutput(dataTable, element);\n",
              "          const docLink = document.createElement('div');\n",
              "          docLink.innerHTML = docLinkHtml;\n",
              "          element.appendChild(docLink);\n",
              "        }\n",
              "      </script>\n",
              "    </div>\n",
              "  </div>\n",
              "  "
            ]
          },
          "metadata": {},
          "execution_count": 38
        }
      ]
    },
    {
      "cell_type": "code",
      "source": [
        ""
      ],
      "metadata": {
        "id": "mDPM3MpJfRob"
      },
      "execution_count": 38,
      "outputs": []
    },
    {
      "cell_type": "markdown",
      "source": [
        "### Area "
      ],
      "metadata": {
        "id": "o2UZPerVgrL-"
      }
    },
    {
      "cell_type": "code",
      "source": [
        "data['area-sqft'].plot(\n",
        "    kind = 'hist',\n",
        "    bins = 100,\n",
        "    # range = (0, 25_000_000),\n",
        "    title = \"Area in sqft Histogram\",\n",
        "    figsize = (15, 5),\n",
        "    grid = True,\n",
        "    legend = True,\n",
        "    color = '#2c3e50',\n",
        ")\n",
        "plt.ylabel('Number of listings')\n",
        "plt.xlabel('sqft')\n",
        "plt.ticklabel_format(axis='x', style='plain')\n",
        "# plt.xticks(np.arange(0, 600_000, 10_000))\n",
        "plt.show()"
      ],
      "metadata": {
        "colab": {
          "base_uri": "https://localhost:8080/",
          "height": 350
        },
        "id": "bCody3lYg0AB",
        "outputId": "c87511c4-6c16-4eea-a154-3e7496647b52"
      },
      "execution_count": 39,
      "outputs": [
        {
          "output_type": "display_data",
          "data": {
            "text/plain": [
              "<Figure size 1080x360 with 1 Axes>"
            ],
            "image/png": "[encoded data removed]"
          },
          "metadata": {
            "needs_background": "light"
          }
        }
      ]
    },
    {
      "cell_type": "code",
      "source": [
        ""
      ],
      "metadata": {
        "id": "4_c7id_pg7SH"
      },
      "execution_count": 39,
      "outputs": []
    }
  ]
}