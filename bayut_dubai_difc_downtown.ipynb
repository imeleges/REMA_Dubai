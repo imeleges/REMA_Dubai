{
  "nbformat": 4,
  "nbformat_minor": 0,
  "metadata": {
    "colab": {
      "name": "bayut-dubai-difc-downtown.ipynb",
      "provenance": [],
      "collapsed_sections": [
        "Smpbqem5sacB",
        "0UtaOQ3qYM-r",
        "9-4gCqb8eDkv",
        "o2UZPerVgrL-"
      ],
      "toc_visible": true,
      "authorship_tag": "ABX9TyNilDefL8mIB189q7p8lQgl"
    },
    "kernelspec": {
      "name": "python3",
      "display_name": "Python 3"
    },
    "language_info": {
      "name": "python"
    }
  },
  "cells": [
    {
      "cell_type": "markdown",
      "source": [
        "# Analysis of apartments rent in Dubai, UAE\n",
        " For **DIFC** and **Downtown** area"
      ],
      "metadata": {
        "id": "3L3barxvaBQA"
      }
    },
    {
      "cell_type": "markdown",
      "source": [
        "## Preparations"
      ],
      "metadata": {
        "id": "Hy1-Mb-ErclJ"
      }
    },
    {
      "cell_type": "markdown",
      "source": [
        "All data was scraped from Bayut website on August 9 and saved as .CSV file.  \n",
        "First downloading .CSV file from Google Drive with command `! gdown`"
      ],
      "metadata": {
        "id": "YYhr70w2ahsq"
      }
    },
    {
      "cell_type": "code",
      "source": [
        "! gdown 1EMlXkq1MI4HqYwbcvTl93bKZ2BvRqDCy"
      ],
      "metadata": {
        "colab": {
          "base_uri": "https://localhost:8080/"
        },
        "id": "eqqdiZ_aRuoa",
        "outputId": "9b2bba7e-3749-4ca1-cb0d-fb3fcb2baeac"
      },
      "execution_count": 89,
      "outputs": [
        {
          "output_type": "stream",
          "name": "stdout",
          "text": [
            "Downloading...\n",
            "From: https://drive.google.com/uc?id=1EMlXkq1MI4HqYwbcvTl93bKZ2BvRqDCy\n",
            "To: /content/bayut-dubai-difc-downtown.csv\n",
            "\r  0% 0.00/8.85M [00:00<?, ?B/s]\r100% 8.85M/8.85M [00:00<00:00, 117MB/s]\n"
          ]
        }
      ]
    },
    {
      "cell_type": "markdown",
      "source": [
        "Importing all necessary libraries"
      ],
      "metadata": {
        "id": "WiSWiRVdbGjw"
      }
    },
    {
      "cell_type": "code",
      "execution_count": 90,
      "metadata": {
        "id": "Ry1slFkn4yzl"
      },
      "outputs": [],
      "source": [
        "import pandas as pd\n",
        "import matplotlib.pyplot as plt\n",
        "import numpy as np\n",
        "import seaborn as sns"
      ]
    },
    {
      "cell_type": "code",
      "source": [
        "sns.set_style('darkgrid')"
      ],
      "metadata": {
        "id": "n5WkyVlkCZjg"
      },
      "execution_count": 91,
      "outputs": []
    },
    {
      "cell_type": "markdown",
      "source": [
        "Loading .CSV file with pandas using python engine and checking first 5 rows of data"
      ],
      "metadata": {
        "id": "MxUmpNoTbPIN"
      }
    },
    {
      "cell_type": "code",
      "source": [
        "data = pd.read_csv('bayut-dubai-difc-downtown.csv', engine='python')"
      ],
      "metadata": {
        "id": "DaECWJaJ5Fme"
      },
      "execution_count": 92,
      "outputs": []
    },
    {
      "cell_type": "code",
      "source": [
        "pd.set_option(\"display.max_columns\", None)"
      ],
      "metadata": {
        "id": "cgS9mHnjBtu5"
      },
      "execution_count": 93,
      "outputs": []
    },
    {
      "cell_type": "code",
      "source": [
        "data.head(5)"
      ],
      "metadata": {
        "colab": {
          "base_uri": "https://localhost:8080/",
          "height": 710
        },
        "id": "j1pMPXsT5HMM",
        "outputId": "eb5f41b4-5cbe-4372-893e-6ca1edbb89eb"
      },
      "execution_count": 94,
      "outputs": [
        {
          "output_type": "execute_result",
          "data": {
            "text/plain": [
              "  web-scraper-order                              web-scraper-start-url  \\\n",
              "0   1660037380-2176  https://www.bayut.com/to-rent/apartments/dubai...   \n",
              "1   1660040273-2805  https://www.bayut.com/to-rent/apartments/dubai...   \n",
              "2   1660036840-2061  https://www.bayut.com/to-rent/apartments/dubai...   \n",
              "3   1660042132-3219  https://www.bayut.com/to-rent/apartments/dubai...   \n",
              "4   1660045614-3922  https://www.bayut.com/to-rent/apartments/dubai...   \n",
              "\n",
              "                                          pagination  apartmet-link  \\\n",
              "0  https://www.bayut.com/to-rent/apartments/dubai...            NaN   \n",
              "1  https://www.bayut.com/to-rent/apartments/dubai...            NaN   \n",
              "2  https://www.bayut.com/to-rent/apartments/dubai...            NaN   \n",
              "3  https://www.bayut.com/to-rent/apartments/dubai...            NaN   \n",
              "4  https://www.bayut.com/to-rent/apartments/dubai...            NaN   \n",
              "\n",
              "                                  apartmet-link-href building    price  \\\n",
              "0  https://www.bayut.com/property/details-5975062...      NaN  190,000   \n",
              "1  https://www.bayut.com/property/details-5937929...      NaN  165,000   \n",
              "2  https://www.bayut.com/property/details-5577993...      NaN  290,000   \n",
              "3  https://www.bayut.com/property/details-5942993...      NaN  185,000   \n",
              "4  https://www.bayut.com/property/details-6196723...      NaN  130,000   \n",
              "\n",
              "  rent-frequency                                            address    beds  \\\n",
              "0         Yearly        The Address The Blvd, Downtown Dubai, Dubai   1 Bed   \n",
              "1         Yearly              Downtown Views, Downtown Dubai, Dubai  2 Beds   \n",
              "2         Yearly  BLVD Heights Tower 2, BLVD Heights, Downtown D...  2 Beds   \n",
              "3         Yearly        The Address The Blvd, Downtown Dubai, Dubai   1 Bed   \n",
              "4         Yearly              Downtown Views, Downtown Dubai, Dubai   1 Bed   \n",
              "\n",
              "     baths   area-sqft                                  description-title  \\\n",
              "0  2 Baths    905 sqft      1 BR Luxury Unit | Serviced | Fully Furnished   \n",
              "1  3 Baths  1,250 sqft  All Inclusive 15K Monthly | High Floor |  Full...   \n",
              "2  3 Baths  1,759 sqft          AVAILABLE NOW | DUPLEX UNIT |  HIGH FLOOR   \n",
              "3  2 Baths    905 sqft        DIFC View | Vacant | Fully Furnished | 1 BR   \n",
              "4  2 Baths    861 sqft        Available Now | Fully Furnished | Brand New   \n",
              "\n",
              "                                         description            reference-no  \\\n",
              "0  Betterhomes are proud to present this stunning...    Bayut - BHM-R-556121   \n",
              "1  We are delighted to present this fully furnish...  Bayut - MK-R-5701-07-P   \n",
              "2  Housess Global Real Estate is pleased to offer...   Bayut - 879-Ap-R-1951   \n",
              "3  Features:\\n- 1 bed,\\n- 24/7 Security,\\n- Pool,...    Bayut - BHM-R-555721   \n",
              "4  Brought to you by McCone Properties Properties...      Bayut - MCC-R-5685   \n",
              "\n",
              "      date-added balcony-size-sqft parking building-info-name  \\\n",
              "0    23 May 2022               NaN     NaN                NaN   \n",
              "1    10 May 2022               NaN     NaN                NaN   \n",
              "2    4 July 2022               NaN     NaN                NaN   \n",
              "3    12 May 2022               NaN     NaN                NaN   \n",
              "4  3 August 2022               NaN     NaN                NaN   \n",
              "\n",
              "   building-info-floors  building-info-year building-info-area-sqft  \\\n",
              "0                   NaN                 NaN                     NaN   \n",
              "1                   NaN                 NaN                     NaN   \n",
              "2                   NaN                 NaN                     NaN   \n",
              "3                   NaN                 NaN                     NaN   \n",
              "4                   NaN                 NaN                     NaN   \n",
              "\n",
              "    furnishing         features-amenities  \n",
              "0    Furnished  Centrally Air-Conditioned  \n",
              "1    Furnished          Parking Spaces: 1  \n",
              "2  Unfurnished              Swimming Pool  \n",
              "3    Furnished  Centrally Air-Conditioned  \n",
              "4    Furnished                        NaN  "
            ],
            "text/html": [
              "\n",
              "  <div id=\"df-eea0fe5d-2a06-4592-9240-0abe249ffb14\">\n",
              "    <div class=\"colab-df-container\">\n",
              "      <div>\n",
              "<style scoped>\n",
              "    .dataframe tbody tr th:only-of-type {\n",
              "        vertical-align: middle;\n",
              "    }\n",
              "\n",
              "    .dataframe tbody tr th {\n",
              "        vertical-align: top;\n",
              "    }\n",
              "\n",
              "    .dataframe thead th {\n",
              "        text-align: right;\n",
              "    }\n",
              "</style>\n",
              "<table border=\"1\" class=\"dataframe\">\n",
              "  <thead>\n",
              "    <tr style=\"text-align: right;\">\n",
              "      <th></th>\n",
              "      <th>web-scraper-order</th>\n",
              "      <th>web-scraper-start-url</th>\n",
              "      <th>pagination</th>\n",
              "      <th>apartmet-link</th>\n",
              "      <th>apartmet-link-href</th>\n",
              "      <th>building</th>\n",
              "      <th>price</th>\n",
              "      <th>rent-frequency</th>\n",
              "      <th>address</th>\n",
              "      <th>beds</th>\n",
              "      <th>baths</th>\n",
              "      <th>area-sqft</th>\n",
              "      <th>description-title</th>\n",
              "      <th>description</th>\n",
              "      <th>reference-no</th>\n",
              "      <th>date-added</th>\n",
              "      <th>balcony-size-sqft</th>\n",
              "      <th>parking</th>\n",
              "      <th>building-info-name</th>\n",
              "      <th>building-info-floors</th>\n",
              "      <th>building-info-year</th>\n",
              "      <th>building-info-area-sqft</th>\n",
              "      <th>furnishing</th>\n",
              "      <th>features-amenities</th>\n",
              "    </tr>\n",
              "  </thead>\n",
              "  <tbody>\n",
              "    <tr>\n",
              "      <th>0</th>\n",
              "      <td>1660037380-2176</td>\n",
              "      <td>https://www.bayut.com/to-rent/apartments/dubai...</td>\n",
              "      <td>https://www.bayut.com/to-rent/apartments/dubai...</td>\n",
              "      <td>NaN</td>\n",
              "      <td>https://www.bayut.com/property/details-5975062...</td>\n",
              "      <td>NaN</td>\n",
              "      <td>190,000</td>\n",
              "      <td>Yearly</td>\n",
              "      <td>The Address The Blvd, Downtown Dubai, Dubai</td>\n",
              "      <td>1 Bed</td>\n",
              "      <td>2 Baths</td>\n",
              "      <td>905 sqft</td>\n",
              "      <td>1 BR Luxury Unit | Serviced | Fully Furnished</td>\n",
              "      <td>Betterhomes are proud to present this stunning...</td>\n",
              "      <td>Bayut - BHM-R-556121</td>\n",
              "      <td>23 May 2022</td>\n",
              "      <td>NaN</td>\n",
              "      <td>NaN</td>\n",
              "      <td>NaN</td>\n",
              "      <td>NaN</td>\n",
              "      <td>NaN</td>\n",
              "      <td>NaN</td>\n",
              "      <td>Furnished</td>\n",
              "      <td>Centrally Air-Conditioned</td>\n",
              "    </tr>\n",
              "    <tr>\n",
              "      <th>1</th>\n",
              "      <td>1660040273-2805</td>\n",
              "      <td>https://www.bayut.com/to-rent/apartments/dubai...</td>\n",
              "      <td>https://www.bayut.com/to-rent/apartments/dubai...</td>\n",
              "      <td>NaN</td>\n",
              "      <td>https://www.bayut.com/property/details-5937929...</td>\n",
              "      <td>NaN</td>\n",
              "      <td>165,000</td>\n",
              "      <td>Yearly</td>\n",
              "      <td>Downtown Views, Downtown Dubai, Dubai</td>\n",
              "      <td>2 Beds</td>\n",
              "      <td>3 Baths</td>\n",
              "      <td>1,250 sqft</td>\n",
              "      <td>All Inclusive 15K Monthly | High Floor |  Full...</td>\n",
              "      <td>We are delighted to present this fully furnish...</td>\n",
              "      <td>Bayut - MK-R-5701-07-P</td>\n",
              "      <td>10 May 2022</td>\n",
              "      <td>NaN</td>\n",
              "      <td>NaN</td>\n",
              "      <td>NaN</td>\n",
              "      <td>NaN</td>\n",
              "      <td>NaN</td>\n",
              "      <td>NaN</td>\n",
              "      <td>Furnished</td>\n",
              "      <td>Parking Spaces: 1</td>\n",
              "    </tr>\n",
              "    <tr>\n",
              "      <th>2</th>\n",
              "      <td>1660036840-2061</td>\n",
              "      <td>https://www.bayut.com/to-rent/apartments/dubai...</td>\n",
              "      <td>https://www.bayut.com/to-rent/apartments/dubai...</td>\n",
              "      <td>NaN</td>\n",
              "      <td>https://www.bayut.com/property/details-5577993...</td>\n",
              "      <td>NaN</td>\n",
              "      <td>290,000</td>\n",
              "      <td>Yearly</td>\n",
              "      <td>BLVD Heights Tower 2, BLVD Heights, Downtown D...</td>\n",
              "      <td>2 Beds</td>\n",
              "      <td>3 Baths</td>\n",
              "      <td>1,759 sqft</td>\n",
              "      <td>AVAILABLE NOW | DUPLEX UNIT |  HIGH FLOOR</td>\n",
              "      <td>Housess Global Real Estate is pleased to offer...</td>\n",
              "      <td>Bayut - 879-Ap-R-1951</td>\n",
              "      <td>4 July 2022</td>\n",
              "      <td>NaN</td>\n",
              "      <td>NaN</td>\n",
              "      <td>NaN</td>\n",
              "      <td>NaN</td>\n",
              "      <td>NaN</td>\n",
              "      <td>NaN</td>\n",
              "      <td>Unfurnished</td>\n",
              "      <td>Swimming Pool</td>\n",
              "    </tr>\n",
              "    <tr>\n",
              "      <th>3</th>\n",
              "      <td>1660042132-3219</td>\n",
              "      <td>https://www.bayut.com/to-rent/apartments/dubai...</td>\n",
              "      <td>https://www.bayut.com/to-rent/apartments/dubai...</td>\n",
              "      <td>NaN</td>\n",
              "      <td>https://www.bayut.com/property/details-5942993...</td>\n",
              "      <td>NaN</td>\n",
              "      <td>185,000</td>\n",
              "      <td>Yearly</td>\n",
              "      <td>The Address The Blvd, Downtown Dubai, Dubai</td>\n",
              "      <td>1 Bed</td>\n",
              "      <td>2 Baths</td>\n",
              "      <td>905 sqft</td>\n",
              "      <td>DIFC View | Vacant | Fully Furnished | 1 BR</td>\n",
              "      <td>Features:\\n- 1 bed,\\n- 24/7 Security,\\n- Pool,...</td>\n",
              "      <td>Bayut - BHM-R-555721</td>\n",
              "      <td>12 May 2022</td>\n",
              "      <td>NaN</td>\n",
              "      <td>NaN</td>\n",
              "      <td>NaN</td>\n",
              "      <td>NaN</td>\n",
              "      <td>NaN</td>\n",
              "      <td>NaN</td>\n",
              "      <td>Furnished</td>\n",
              "      <td>Centrally Air-Conditioned</td>\n",
              "    </tr>\n",
              "    <tr>\n",
              "      <th>4</th>\n",
              "      <td>1660045614-3922</td>\n",
              "      <td>https://www.bayut.com/to-rent/apartments/dubai...</td>\n",
              "      <td>https://www.bayut.com/to-rent/apartments/dubai...</td>\n",
              "      <td>NaN</td>\n",
              "      <td>https://www.bayut.com/property/details-6196723...</td>\n",
              "      <td>NaN</td>\n",
              "      <td>130,000</td>\n",
              "      <td>Yearly</td>\n",
              "      <td>Downtown Views, Downtown Dubai, Dubai</td>\n",
              "      <td>1 Bed</td>\n",
              "      <td>2 Baths</td>\n",
              "      <td>861 sqft</td>\n",
              "      <td>Available Now | Fully Furnished | Brand New</td>\n",
              "      <td>Brought to you by McCone Properties Properties...</td>\n",
              "      <td>Bayut - MCC-R-5685</td>\n",
              "      <td>3 August 2022</td>\n",
              "      <td>NaN</td>\n",
              "      <td>NaN</td>\n",
              "      <td>NaN</td>\n",
              "      <td>NaN</td>\n",
              "      <td>NaN</td>\n",
              "      <td>NaN</td>\n",
              "      <td>Furnished</td>\n",
              "      <td>NaN</td>\n",
              "    </tr>\n",
              "  </tbody>\n",
              "</table>\n",
              "</div>\n",
              "      <button class=\"colab-df-convert\" onclick=\"convertToInteractive('df-eea0fe5d-2a06-4592-9240-0abe249ffb14')\"\n",
              "              title=\"Convert this dataframe to an interactive table.\"\n",
              "              style=\"display:none;\">\n",
              "        \n",
              "  <svg xmlns=\"http://www.w3.org/2000/svg\" height=\"24px\"viewBox=\"0 0 24 24\"\n",
              "       width=\"24px\">\n",
              "    <path d=\"M0 0h24v24H0V0z\" fill=\"none\"/>\n",
              "    <path d=\"M18.56 5.44l.94 2.06.94-2.06 2.06-.94-2.06-.94-.94-2.06-.94 2.06-2.06.94zm-11 1L8.5 8.5l.94-2.06 2.06-.94-2.06-.94L8.5 2.5l-.94 2.06-2.06.94zm10 10l.94 2.06.94-2.06 2.06-.94-2.06-.94-.94-2.06-.94 2.06-2.06.94z\"/><path d=\"M17.41 7.96l-1.37-1.37c-.4-.4-.92-.59-1.43-.59-.52 0-1.04.2-1.43.59L10.3 9.45l-7.72 7.72c-.78.78-.78 2.05 0 2.83L4 21.41c.39.39.9.59 1.41.59.51 0 1.02-.2 1.41-.59l7.78-7.78 2.81-2.81c.8-.78.8-2.07 0-2.86zM5.41 20L4 18.59l7.72-7.72 1.47 1.35L5.41 20z\"/>\n",
              "  </svg>\n",
              "      </button>\n",
              "      \n",
              "  <style>\n",
              "    .colab-df-container {\n",
              "      display:flex;\n",
              "      flex-wrap:wrap;\n",
              "      gap: 12px;\n",
              "    }\n",
              "\n",
              "    .colab-df-convert {\n",
              "      background-color: #E8F0FE;\n",
              "      border: none;\n",
              "      border-radius: 50%;\n",
              "      cursor: pointer;\n",
              "      display: none;\n",
              "      fill: #1967D2;\n",
              "      height: 32px;\n",
              "      padding: 0 0 0 0;\n",
              "      width: 32px;\n",
              "    }\n",
              "\n",
              "    .colab-df-convert:hover {\n",
              "      background-color: #E2EBFA;\n",
              "      box-shadow: 0px 1px 2px rgba(60, 64, 67, 0.3), 0px 1px 3px 1px rgba(60, 64, 67, 0.15);\n",
              "      fill: #174EA6;\n",
              "    }\n",
              "\n",
              "    [theme=dark] .colab-df-convert {\n",
              "      background-color: #3B4455;\n",
              "      fill: #D2E3FC;\n",
              "    }\n",
              "\n",
              "    [theme=dark] .colab-df-convert:hover {\n",
              "      background-color: #434B5C;\n",
              "      box-shadow: 0px 1px 3px 1px rgba(0, 0, 0, 0.15);\n",
              "      filter: drop-shadow(0px 1px 2px rgba(0, 0, 0, 0.3));\n",
              "      fill: #FFFFFF;\n",
              "    }\n",
              "  </style>\n",
              "\n",
              "      <script>\n",
              "        const buttonEl =\n",
              "          document.querySelector('#df-eea0fe5d-2a06-4592-9240-0abe249ffb14 button.colab-df-convert');\n",
              "        buttonEl.style.display =\n",
              "          google.colab.kernel.accessAllowed ? 'block' : 'none';\n",
              "\n",
              "        async function convertToInteractive(key) {\n",
              "          const element = document.querySelector('#df-eea0fe5d-2a06-4592-9240-0abe249ffb14');\n",
              "          const dataTable =\n",
              "            await google.colab.kernel.invokeFunction('convertToInteractive',\n",
              "                                                     [key], {});\n",
              "          if (!dataTable) return;\n",
              "\n",
              "          const docLinkHtml = 'Like what you see? Visit the ' +\n",
              "            '<a target=\"_blank\" href=https://colab.research.google.com/notebooks/data_table.ipynb>data table notebook</a>'\n",
              "            + ' to learn more about interactive tables.';\n",
              "          element.innerHTML = '';\n",
              "          dataTable['output_type'] = 'display_data';\n",
              "          await google.colab.output.renderOutput(dataTable, element);\n",
              "          const docLink = document.createElement('div');\n",
              "          docLink.innerHTML = docLinkHtml;\n",
              "          element.appendChild(docLink);\n",
              "        }\n",
              "      </script>\n",
              "    </div>\n",
              "  </div>\n",
              "  "
            ]
          },
          "metadata": {},
          "execution_count": 94
        }
      ]
    },
    {
      "cell_type": "markdown",
      "source": [
        "There's a few columns that is not valuable for future analysis such as links, IDs, rent frequency as its only contains annual rent options.  \n",
        "Let's drop those columns."
      ],
      "metadata": {
        "id": "YtPSzDTnbg-G"
      }
    },
    {
      "cell_type": "code",
      "source": [
        "data.drop(['apartmet-link-href','rent-frequency','web-scraper-order','web-scraper-start-url','pagination','apartmet-link', 'building'], axis=1, inplace=True)"
      ],
      "metadata": {
        "id": "HG_Mu_7R6ukL"
      },
      "execution_count": 95,
      "outputs": []
    },
    {
      "cell_type": "code",
      "source": [
        "# for col in data.columns:\n",
        "#     print(col)\n",
        "data.columns"
      ],
      "metadata": {
        "colab": {
          "base_uri": "https://localhost:8080/"
        },
        "id": "aqkNPNrc5vDa",
        "outputId": "7e95d031-2e90-4772-952d-38bd2f904bb2"
      },
      "execution_count": 96,
      "outputs": [
        {
          "output_type": "execute_result",
          "data": {
            "text/plain": [
              "Index(['price', 'address', 'beds', 'baths', 'area-sqft', 'description-title',\n",
              "       'description', 'reference-no', 'date-added', 'balcony-size-sqft',\n",
              "       'parking', 'building-info-name', 'building-info-floors',\n",
              "       'building-info-year', 'building-info-area-sqft', 'furnishing',\n",
              "       'features-amenities'],\n",
              "      dtype='object')"
            ]
          },
          "metadata": {},
          "execution_count": 96
        }
      ]
    },
    {
      "cell_type": "markdown",
      "source": [
        "First view on data info if there are anything odd or interesting insights"
      ],
      "metadata": {
        "id": "blJrpBrLdUmD"
      }
    },
    {
      "cell_type": "code",
      "source": [
        "data.info()"
      ],
      "metadata": {
        "colab": {
          "base_uri": "https://localhost:8080/"
        },
        "id": "m4tauIsI6nsg",
        "outputId": "bea0ee10-757c-4665-8b24-928dfda3ea95"
      },
      "execution_count": 97,
      "outputs": [
        {
          "output_type": "stream",
          "name": "stdout",
          "text": [
            "<class 'pandas.core.frame.DataFrame'>\n",
            "RangeIndex: 4824 entries, 0 to 4823\n",
            "Data columns (total 17 columns):\n",
            " #   Column                   Non-Null Count  Dtype  \n",
            "---  ------                   --------------  -----  \n",
            " 0   price                    4824 non-null   object \n",
            " 1   address                  4824 non-null   object \n",
            " 2   beds                     4824 non-null   object \n",
            " 3   baths                    4802 non-null   object \n",
            " 4   area-sqft                4824 non-null   object \n",
            " 5   description-title        4824 non-null   object \n",
            " 6   description              4824 non-null   object \n",
            " 7   reference-no             4824 non-null   object \n",
            " 8   date-added               4824 non-null   object \n",
            " 9   balcony-size-sqft        1069 non-null   object \n",
            " 10  parking                  1188 non-null   object \n",
            " 11  building-info-name       1184 non-null   object \n",
            " 12  building-info-floors     1184 non-null   float64\n",
            " 13  building-info-year       1184 non-null   float64\n",
            " 14  building-info-area-sqft  1038 non-null   object \n",
            " 15  furnishing               3304 non-null   object \n",
            " 16  features-amenities       4049 non-null   object \n",
            "dtypes: float64(2), object(15)\n",
            "memory usage: 640.8+ KB\n"
          ]
        }
      ]
    },
    {
      "cell_type": "markdown",
      "source": [
        "Price is an object, that should be changed as number of beds, baths and some othere data.  \n",
        "Some data are missing, we will deal with that later"
      ],
      "metadata": {
        "id": "mompV0aceE3r"
      }
    },
    {
      "cell_type": "code",
      "source": [
        "data.sample()"
      ],
      "metadata": {
        "colab": {
          "base_uri": "https://localhost:8080/",
          "height": 263
        },
        "id": "ocAsg_5q8lae",
        "outputId": "e82a4c4e-e8ec-4764-aabd-03b470cc65fd"
      },
      "execution_count": 98,
      "outputs": [
        {
          "output_type": "execute_result",
          "data": {
            "text/plain": [
              "        price                                         address    beds  \\\n",
              "2642  209,000  Roda Al Murooj, Al Murooj Complex, DIFC, Dubai  3 Beds   \n",
              "\n",
              "        baths   area-sqft                                 description-title  \\\n",
              "2642  3 Baths  2,207 sqft  Free Wi-Fi |Close to Dubai Mall |Fully Furnished   \n",
              "\n",
              "                                            description  \\\n",
              "2642  This contemporary and chic three-bedroom apart...   \n",
              "\n",
              "                reference-no    date-added balcony-size-sqft parking  \\\n",
              "2642  Bayut - 1014-Ap-R-0010  18 June 2019               NaN     NaN   \n",
              "\n",
              "     building-info-name  building-info-floors  building-info-year  \\\n",
              "2642                NaN                   NaN                 NaN   \n",
              "\n",
              "     building-info-area-sqft furnishing features-amenities  \n",
              "2642                     NaN  Furnished          Furnished  "
            ],
            "text/html": [
              "\n",
              "  <div id=\"df-cfb8df0e-9aa3-4e78-9bac-ee2ec8251a49\">\n",
              "    <div class=\"colab-df-container\">\n",
              "      <div>\n",
              "<style scoped>\n",
              "    .dataframe tbody tr th:only-of-type {\n",
              "        vertical-align: middle;\n",
              "    }\n",
              "\n",
              "    .dataframe tbody tr th {\n",
              "        vertical-align: top;\n",
              "    }\n",
              "\n",
              "    .dataframe thead th {\n",
              "        text-align: right;\n",
              "    }\n",
              "</style>\n",
              "<table border=\"1\" class=\"dataframe\">\n",
              "  <thead>\n",
              "    <tr style=\"text-align: right;\">\n",
              "      <th></th>\n",
              "      <th>price</th>\n",
              "      <th>address</th>\n",
              "      <th>beds</th>\n",
              "      <th>baths</th>\n",
              "      <th>area-sqft</th>\n",
              "      <th>description-title</th>\n",
              "      <th>description</th>\n",
              "      <th>reference-no</th>\n",
              "      <th>date-added</th>\n",
              "      <th>balcony-size-sqft</th>\n",
              "      <th>parking</th>\n",
              "      <th>building-info-name</th>\n",
              "      <th>building-info-floors</th>\n",
              "      <th>building-info-year</th>\n",
              "      <th>building-info-area-sqft</th>\n",
              "      <th>furnishing</th>\n",
              "      <th>features-amenities</th>\n",
              "    </tr>\n",
              "  </thead>\n",
              "  <tbody>\n",
              "    <tr>\n",
              "      <th>2642</th>\n",
              "      <td>209,000</td>\n",
              "      <td>Roda Al Murooj, Al Murooj Complex, DIFC, Dubai</td>\n",
              "      <td>3 Beds</td>\n",
              "      <td>3 Baths</td>\n",
              "      <td>2,207 sqft</td>\n",
              "      <td>Free Wi-Fi |Close to Dubai Mall |Fully Furnished</td>\n",
              "      <td>This contemporary and chic three-bedroom apart...</td>\n",
              "      <td>Bayut - 1014-Ap-R-0010</td>\n",
              "      <td>18 June 2019</td>\n",
              "      <td>NaN</td>\n",
              "      <td>NaN</td>\n",
              "      <td>NaN</td>\n",
              "      <td>NaN</td>\n",
              "      <td>NaN</td>\n",
              "      <td>NaN</td>\n",
              "      <td>Furnished</td>\n",
              "      <td>Furnished</td>\n",
              "    </tr>\n",
              "  </tbody>\n",
              "</table>\n",
              "</div>\n",
              "      <button class=\"colab-df-convert\" onclick=\"convertToInteractive('df-cfb8df0e-9aa3-4e78-9bac-ee2ec8251a49')\"\n",
              "              title=\"Convert this dataframe to an interactive table.\"\n",
              "              style=\"display:none;\">\n",
              "        \n",
              "  <svg xmlns=\"http://www.w3.org/2000/svg\" height=\"24px\"viewBox=\"0 0 24 24\"\n",
              "       width=\"24px\">\n",
              "    <path d=\"M0 0h24v24H0V0z\" fill=\"none\"/>\n",
              "    <path d=\"M18.56 5.44l.94 2.06.94-2.06 2.06-.94-2.06-.94-.94-2.06-.94 2.06-2.06.94zm-11 1L8.5 8.5l.94-2.06 2.06-.94-2.06-.94L8.5 2.5l-.94 2.06-2.06.94zm10 10l.94 2.06.94-2.06 2.06-.94-2.06-.94-.94-2.06-.94 2.06-2.06.94z\"/><path d=\"M17.41 7.96l-1.37-1.37c-.4-.4-.92-.59-1.43-.59-.52 0-1.04.2-1.43.59L10.3 9.45l-7.72 7.72c-.78.78-.78 2.05 0 2.83L4 21.41c.39.39.9.59 1.41.59.51 0 1.02-.2 1.41-.59l7.78-7.78 2.81-2.81c.8-.78.8-2.07 0-2.86zM5.41 20L4 18.59l7.72-7.72 1.47 1.35L5.41 20z\"/>\n",
              "  </svg>\n",
              "      </button>\n",
              "      \n",
              "  <style>\n",
              "    .colab-df-container {\n",
              "      display:flex;\n",
              "      flex-wrap:wrap;\n",
              "      gap: 12px;\n",
              "    }\n",
              "\n",
              "    .colab-df-convert {\n",
              "      background-color: #E8F0FE;\n",
              "      border: none;\n",
              "      border-radius: 50%;\n",
              "      cursor: pointer;\n",
              "      display: none;\n",
              "      fill: #1967D2;\n",
              "      height: 32px;\n",
              "      padding: 0 0 0 0;\n",
              "      width: 32px;\n",
              "    }\n",
              "\n",
              "    .colab-df-convert:hover {\n",
              "      background-color: #E2EBFA;\n",
              "      box-shadow: 0px 1px 2px rgba(60, 64, 67, 0.3), 0px 1px 3px 1px rgba(60, 64, 67, 0.15);\n",
              "      fill: #174EA6;\n",
              "    }\n",
              "\n",
              "    [theme=dark] .colab-df-convert {\n",
              "      background-color: #3B4455;\n",
              "      fill: #D2E3FC;\n",
              "    }\n",
              "\n",
              "    [theme=dark] .colab-df-convert:hover {\n",
              "      background-color: #434B5C;\n",
              "      box-shadow: 0px 1px 3px 1px rgba(0, 0, 0, 0.15);\n",
              "      filter: drop-shadow(0px 1px 2px rgba(0, 0, 0, 0.3));\n",
              "      fill: #FFFFFF;\n",
              "    }\n",
              "  </style>\n",
              "\n",
              "      <script>\n",
              "        const buttonEl =\n",
              "          document.querySelector('#df-cfb8df0e-9aa3-4e78-9bac-ee2ec8251a49 button.colab-df-convert');\n",
              "        buttonEl.style.display =\n",
              "          google.colab.kernel.accessAllowed ? 'block' : 'none';\n",
              "\n",
              "        async function convertToInteractive(key) {\n",
              "          const element = document.querySelector('#df-cfb8df0e-9aa3-4e78-9bac-ee2ec8251a49');\n",
              "          const dataTable =\n",
              "            await google.colab.kernel.invokeFunction('convertToInteractive',\n",
              "                                                     [key], {});\n",
              "          if (!dataTable) return;\n",
              "\n",
              "          const docLinkHtml = 'Like what you see? Visit the ' +\n",
              "            '<a target=\"_blank\" href=https://colab.research.google.com/notebooks/data_table.ipynb>data table notebook</a>'\n",
              "            + ' to learn more about interactive tables.';\n",
              "          element.innerHTML = '';\n",
              "          dataTable['output_type'] = 'display_data';\n",
              "          await google.colab.output.renderOutput(dataTable, element);\n",
              "          const docLink = document.createElement('div');\n",
              "          docLink.innerHTML = docLinkHtml;\n",
              "          element.appendChild(docLink);\n",
              "        }\n",
              "      </script>\n",
              "    </div>\n",
              "  </div>\n",
              "  "
            ]
          },
          "metadata": {},
          "execution_count": 98
        }
      ]
    },
    {
      "cell_type": "markdown",
      "source": [
        "## Data Preprocessing"
      ],
      "metadata": {
        "id": "Smpbqem5sacB"
      }
    },
    {
      "cell_type": "markdown",
      "source": [
        "### Price column"
      ],
      "metadata": {
        "id": "JtJW1HcJtI8E"
      }
    },
    {
      "cell_type": "markdown",
      "source": [
        "For column with price converting it to data type int, but first removing comma."
      ],
      "metadata": {
        "id": "tMLyWMUGi2I2"
      }
    },
    {
      "cell_type": "code",
      "source": [
        "data['price'] = data['price'].str.replace(',','').astype(float).astype(int)\n",
        "data['price'].sample(5)"
      ],
      "metadata": {
        "colab": {
          "base_uri": "https://localhost:8080/"
        },
        "id": "bnQQM1_nepKC",
        "outputId": "623cf156-c8c0-4977-c23f-ea8feb992201"
      },
      "execution_count": 99,
      "outputs": [
        {
          "output_type": "execute_result",
          "data": {
            "text/plain": [
              "1672    160000\n",
              "2420    250000\n",
              "1175    320000\n",
              "48      200000\n",
              "4546    115000\n",
              "Name: price, dtype: int64"
            ]
          },
          "metadata": {},
          "execution_count": 99
        }
      ]
    },
    {
      "cell_type": "markdown",
      "source": [
        "### Bedrooms column"
      ],
      "metadata": {
        "id": "pdNDbWwStNdN"
      }
    },
    {
      "cell_type": "markdown",
      "source": [
        "For column with number of bedrooms, let's see how many unique values are there and then replace it with a number, if that is a studio then replace it with 0."
      ],
      "metadata": {
        "id": "ldvYCmxmjccc"
      }
    },
    {
      "cell_type": "code",
      "source": [
        "data['beds'].unique()"
      ],
      "metadata": {
        "colab": {
          "base_uri": "https://localhost:8080/"
        },
        "id": "CjVwhh9j9MR7",
        "outputId": "d1035dba-53d3-434d-f2b5-52cbc4ad393e"
      },
      "execution_count": 100,
      "outputs": [
        {
          "output_type": "execute_result",
          "data": {
            "text/plain": [
              "array(['1 Bed', '2 Beds', 'Studio', '3 Beds', '4 Beds', '5 Beds'],\n",
              "      dtype=object)"
            ]
          },
          "metadata": {},
          "execution_count": 100
        }
      ]
    },
    {
      "cell_type": "code",
      "source": [
        "data['beds'] = data['beds'].replace(\n",
        "    {'Studio': 0,\n",
        "     '1 Bed': 1,\n",
        "     '2 Beds': 2,\n",
        "     '3 Beds': 3,\n",
        "     '4 Beds': 4,\n",
        "     '5 Beds': 5,\n",
        "    }\n",
        "  )\n"
      ],
      "metadata": {
        "id": "y5IcYSfOBgSp"
      },
      "execution_count": 101,
      "outputs": []
    },
    {
      "cell_type": "markdown",
      "source": [
        "### Address column"
      ],
      "metadata": {
        "id": "jGPAt0batbDJ"
      }
    },
    {
      "cell_type": "markdown",
      "source": [
        "For column with address, it has name of the city, area, bulding name or even a complecs of buildings name.  \n",
        "We need it to be separated to diferent columns for future analysis. We can see that a bulding name is always goes first, city is always the last and before city is area name.  \n",
        "So, let's split the address and save each element to a new column."
      ],
      "metadata": {
        "id": "fdzQpTaJkR_Z"
      }
    },
    {
      "cell_type": "code",
      "source": [
        "data['address_city'] = data['address'].str.split(', ').str[-1]\n",
        "data['address_area'] = data['address'].str.split(', ').str[-2]\n",
        "data['address_building'] = data['address'].str.split(', ').str[0]"
      ],
      "metadata": {
        "id": "DX6cfizQE0Xd"
      },
      "execution_count": 102,
      "outputs": []
    },
    {
      "cell_type": "code",
      "source": [
        "data[['address', 'address_city', 'address_area', 'address_building']].sample(5)"
      ],
      "metadata": {
        "colab": {
          "base_uri": "https://localhost:8080/",
          "height": 710
        },
        "id": "opV7SY38FpsY",
        "outputId": "dab852e8-969c-460a-88a1-4ea7572a1d92"
      },
      "execution_count": 103,
      "outputs": [
        {
          "output_type": "execute_result",
          "data": {
            "text/plain": [
              "                                                address address_city  \\\n",
              "2529                 Opera Grand, Downtown Dubai, Dubai        Dubai   \n",
              "633   South Ridge 1, South Ridge Towers, Downtown Du...        Dubai   \n",
              "2698  BLVD Heights Tower 1, BLVD Heights, Downtown D...        Dubai   \n",
              "3535             Violet, Al Murooj Complex, DIFC, Dubai        Dubai   \n",
              "3958  The Address Fountain Views 1, The Address Resi...        Dubai   \n",
              "\n",
              "        address_area              address_building  \n",
              "2529  Downtown Dubai                   Opera Grand  \n",
              "633   Downtown Dubai                 South Ridge 1  \n",
              "2698  Downtown Dubai          BLVD Heights Tower 1  \n",
              "3535            DIFC                        Violet  \n",
              "3958  Downtown Dubai  The Address Fountain Views 1  "
            ],
            "text/html": [
              "\n",
              "  <div id=\"df-f3f9c629-406b-4be3-86cf-c8a3ad58cddd\">\n",
              "    <div class=\"colab-df-container\">\n",
              "      <div>\n",
              "<style scoped>\n",
              "    .dataframe tbody tr th:only-of-type {\n",
              "        vertical-align: middle;\n",
              "    }\n",
              "\n",
              "    .dataframe tbody tr th {\n",
              "        vertical-align: top;\n",
              "    }\n",
              "\n",
              "    .dataframe thead th {\n",
              "        text-align: right;\n",
              "    }\n",
              "</style>\n",
              "<table border=\"1\" class=\"dataframe\">\n",
              "  <thead>\n",
              "    <tr style=\"text-align: right;\">\n",
              "      <th></th>\n",
              "      <th>address</th>\n",
              "      <th>address_city</th>\n",
              "      <th>address_area</th>\n",
              "      <th>address_building</th>\n",
              "    </tr>\n",
              "  </thead>\n",
              "  <tbody>\n",
              "    <tr>\n",
              "      <th>2529</th>\n",
              "      <td>Opera Grand, Downtown Dubai, Dubai</td>\n",
              "      <td>Dubai</td>\n",
              "      <td>Downtown Dubai</td>\n",
              "      <td>Opera Grand</td>\n",
              "    </tr>\n",
              "    <tr>\n",
              "      <th>633</th>\n",
              "      <td>South Ridge 1, South Ridge Towers, Downtown Du...</td>\n",
              "      <td>Dubai</td>\n",
              "      <td>Downtown Dubai</td>\n",
              "      <td>South Ridge 1</td>\n",
              "    </tr>\n",
              "    <tr>\n",
              "      <th>2698</th>\n",
              "      <td>BLVD Heights Tower 1, BLVD Heights, Downtown D...</td>\n",
              "      <td>Dubai</td>\n",
              "      <td>Downtown Dubai</td>\n",
              "      <td>BLVD Heights Tower 1</td>\n",
              "    </tr>\n",
              "    <tr>\n",
              "      <th>3535</th>\n",
              "      <td>Violet, Al Murooj Complex, DIFC, Dubai</td>\n",
              "      <td>Dubai</td>\n",
              "      <td>DIFC</td>\n",
              "      <td>Violet</td>\n",
              "    </tr>\n",
              "    <tr>\n",
              "      <th>3958</th>\n",
              "      <td>The Address Fountain Views 1, The Address Resi...</td>\n",
              "      <td>Dubai</td>\n",
              "      <td>Downtown Dubai</td>\n",
              "      <td>The Address Fountain Views 1</td>\n",
              "    </tr>\n",
              "  </tbody>\n",
              "</table>\n",
              "</div>\n",
              "      <button class=\"colab-df-convert\" onclick=\"convertToInteractive('df-f3f9c629-406b-4be3-86cf-c8a3ad58cddd')\"\n",
              "              title=\"Convert this dataframe to an interactive table.\"\n",
              "              style=\"display:none;\">\n",
              "        \n",
              "  <svg xmlns=\"http://www.w3.org/2000/svg\" height=\"24px\"viewBox=\"0 0 24 24\"\n",
              "       width=\"24px\">\n",
              "    <path d=\"M0 0h24v24H0V0z\" fill=\"none\"/>\n",
              "    <path d=\"M18.56 5.44l.94 2.06.94-2.06 2.06-.94-2.06-.94-.94-2.06-.94 2.06-2.06.94zm-11 1L8.5 8.5l.94-2.06 2.06-.94-2.06-.94L8.5 2.5l-.94 2.06-2.06.94zm10 10l.94 2.06.94-2.06 2.06-.94-2.06-.94-.94-2.06-.94 2.06-2.06.94z\"/><path d=\"M17.41 7.96l-1.37-1.37c-.4-.4-.92-.59-1.43-.59-.52 0-1.04.2-1.43.59L10.3 9.45l-7.72 7.72c-.78.78-.78 2.05 0 2.83L4 21.41c.39.39.9.59 1.41.59.51 0 1.02-.2 1.41-.59l7.78-7.78 2.81-2.81c.8-.78.8-2.07 0-2.86zM5.41 20L4 18.59l7.72-7.72 1.47 1.35L5.41 20z\"/>\n",
              "  </svg>\n",
              "      </button>\n",
              "      \n",
              "  <style>\n",
              "    .colab-df-container {\n",
              "      display:flex;\n",
              "      flex-wrap:wrap;\n",
              "      gap: 12px;\n",
              "    }\n",
              "\n",
              "    .colab-df-convert {\n",
              "      background-color: #E8F0FE;\n",
              "      border: none;\n",
              "      border-radius: 50%;\n",
              "      cursor: pointer;\n",
              "      display: none;\n",
              "      fill: #1967D2;\n",
              "      height: 32px;\n",
              "      padding: 0 0 0 0;\n",
              "      width: 32px;\n",
              "    }\n",
              "\n",
              "    .colab-df-convert:hover {\n",
              "      background-color: #E2EBFA;\n",
              "      box-shadow: 0px 1px 2px rgba(60, 64, 67, 0.3), 0px 1px 3px 1px rgba(60, 64, 67, 0.15);\n",
              "      fill: #174EA6;\n",
              "    }\n",
              "\n",
              "    [theme=dark] .colab-df-convert {\n",
              "      background-color: #3B4455;\n",
              "      fill: #D2E3FC;\n",
              "    }\n",
              "\n",
              "    [theme=dark] .colab-df-convert:hover {\n",
              "      background-color: #434B5C;\n",
              "      box-shadow: 0px 1px 3px 1px rgba(0, 0, 0, 0.15);\n",
              "      filter: drop-shadow(0px 1px 2px rgba(0, 0, 0, 0.3));\n",
              "      fill: #FFFFFF;\n",
              "    }\n",
              "  </style>\n",
              "\n",
              "      <script>\n",
              "        const buttonEl =\n",
              "          document.querySelector('#df-f3f9c629-406b-4be3-86cf-c8a3ad58cddd button.colab-df-convert');\n",
              "        buttonEl.style.display =\n",
              "          google.colab.kernel.accessAllowed ? 'block' : 'none';\n",
              "\n",
              "        async function convertToInteractive(key) {\n",
              "          const element = document.querySelector('#df-f3f9c629-406b-4be3-86cf-c8a3ad58cddd');\n",
              "          const dataTable =\n",
              "            await google.colab.kernel.invokeFunction('convertToInteractive',\n",
              "                                                     [key], {});\n",
              "          if (!dataTable) return;\n",
              "\n",
              "          const docLinkHtml = 'Like what you see? Visit the ' +\n",
              "            '<a target=\"_blank\" href=https://colab.research.google.com/notebooks/data_table.ipynb>data table notebook</a>'\n",
              "            + ' to learn more about interactive tables.';\n",
              "          element.innerHTML = '';\n",
              "          dataTable['output_type'] = 'display_data';\n",
              "          await google.colab.output.renderOutput(dataTable, element);\n",
              "          const docLink = document.createElement('div');\n",
              "          docLink.innerHTML = docLinkHtml;\n",
              "          element.appendChild(docLink);\n",
              "        }\n",
              "      </script>\n",
              "    </div>\n",
              "  </div>\n",
              "  "
            ]
          },
          "metadata": {},
          "execution_count": 103
        }
      ]
    },
    {
      "cell_type": "markdown",
      "source": [
        "We no longer needed column with address, let's drop it."
      ],
      "metadata": {
        "id": "_oyF17I8mlmB"
      }
    },
    {
      "cell_type": "code",
      "source": [
        "data.drop(['address'], axis=1, inplace=True)"
      ],
      "metadata": {
        "id": "MEZIJCEVZV6k"
      },
      "execution_count": 104,
      "outputs": []
    },
    {
      "cell_type": "markdown",
      "source": [
        "### Bathrooms column"
      ],
      "metadata": {
        "id": "6Pctn7ketixh"
      }
    },
    {
      "cell_type": "markdown",
      "source": [
        "Similar to bedrooms column first checking unique values and then will replace it with numbers to have it as an int data type. Also there are 22 missing values."
      ],
      "metadata": {
        "id": "L-_48Khetvnu"
      }
    },
    {
      "cell_type": "code",
      "source": [
        "data['baths'].unique()"
      ],
      "metadata": {
        "colab": {
          "base_uri": "https://localhost:8080/"
        },
        "id": "7VMEHKH_t-_d",
        "outputId": "a05db590-0bdb-440b-84d5-a85c4b61c369"
      },
      "execution_count": 105,
      "outputs": [
        {
          "output_type": "execute_result",
          "data": {
            "text/plain": [
              "array(['2 Baths', '3 Baths', '1 Bath', '5 Baths', '4 Baths', nan,\n",
              "       '6 Baths'], dtype=object)"
            ]
          },
          "metadata": {},
          "execution_count": 105
        }
      ]
    },
    {
      "cell_type": "code",
      "source": [
        "len(data[data['baths'].isnull()])"
      ],
      "metadata": {
        "colab": {
          "base_uri": "https://localhost:8080/"
        },
        "id": "r6sfsVTOzhy-",
        "outputId": "2caae736-a8d0-4155-e40f-98c3c56e8746"
      },
      "execution_count": 106,
      "outputs": [
        {
          "output_type": "execute_result",
          "data": {
            "text/plain": [
              "22"
            ]
          },
          "metadata": {},
          "execution_count": 106
        }
      ]
    },
    {
      "cell_type": "markdown",
      "source": [
        "As we can see there's many apartments with huge area and a few bedrooms, at least it should have 1 bathrom.  \n",
        "However, if we will fill mising values with 1 it might confuse our next analysis.  As it is only 22 missings we can just drop it. \n",
        "But, maybe later will comback to this and try to extract info from other columns such as description column.\n",
        "\n",
        "On the next step will drop missing values, replace strings to numbers and check unique values."
      ],
      "metadata": {
        "id": "FgdTE2qY1w_M"
      }
    },
    {
      "cell_type": "code",
      "source": [
        "data.dropna(subset=['baths'], inplace=True)"
      ],
      "metadata": {
        "id": "ufSXwauq3PdA"
      },
      "execution_count": 107,
      "outputs": []
    },
    {
      "cell_type": "code",
      "source": [
        "data['baths'] = data['baths'].replace(\n",
        "    {'1 Bath': 1,\n",
        "     '2 Baths': 2,\n",
        "     '3 Baths': 3,\n",
        "     '4 Baths': 4,\n",
        "     '5 Baths': 5,\n",
        "     '6 Baths': 6,\n",
        "    }\n",
        "  ).astype(int)"
      ],
      "metadata": {
        "id": "wFQBUdG_thRk"
      },
      "execution_count": 108,
      "outputs": []
    },
    {
      "cell_type": "code",
      "source": [
        "data['baths'].unique()"
      ],
      "metadata": {
        "colab": {
          "base_uri": "https://localhost:8080/"
        },
        "id": "gF0O5nu63r68",
        "outputId": "0b13ad5b-61b5-4ba3-b962-e803f6b8a703"
      },
      "execution_count": 109,
      "outputs": [
        {
          "output_type": "execute_result",
          "data": {
            "text/plain": [
              "array([2, 3, 1, 5, 4, 6])"
            ]
          },
          "metadata": {},
          "execution_count": 109
        }
      ]
    },
    {
      "cell_type": "markdown",
      "source": [
        "### Area (sqft) column"
      ],
      "metadata": {
        "id": "tT99BK735miw"
      }
    },
    {
      "cell_type": "markdown",
      "source": [
        "Replace commas and sqft then convert to int data type. Check first 5 rows."
      ],
      "metadata": {
        "id": "osg0r-PJ6z-9"
      }
    },
    {
      "cell_type": "code",
      "source": [
        "data['area-sqft'] = (\n",
        "    data['area-sqft']\n",
        "    .str.replace('sqft','')\n",
        "    .str.replace(',','')\n",
        "    .astype(float)\n",
        "    .astype(int)\n",
        "    )\n",
        "data['area-sqft'].head(5)"
      ],
      "metadata": {
        "colab": {
          "base_uri": "https://localhost:8080/"
        },
        "id": "XjqcxES-4ihn",
        "outputId": "2a034a52-6384-40ac-bff3-e4b337932d68"
      },
      "execution_count": 110,
      "outputs": [
        {
          "output_type": "execute_result",
          "data": {
            "text/plain": [
              "0     905\n",
              "1    1250\n",
              "2    1759\n",
              "3     905\n",
              "4     861\n",
              "Name: area-sqft, dtype: int64"
            ]
          },
          "metadata": {},
          "execution_count": 110
        }
      ]
    },
    {
      "cell_type": "markdown",
      "source": [
        "### Date column"
      ],
      "metadata": {
        "id": "T9QMbMLH8hpl"
      }
    },
    {
      "cell_type": "markdown",
      "source": [
        "Converting column with date to datetime format"
      ],
      "metadata": {
        "id": "WCBPlMMfAcd3"
      }
    },
    {
      "cell_type": "code",
      "source": [
        "data['date-added'] = pd.to_datetime(data['date-added'], format = \"%d %B %Y\")"
      ],
      "metadata": {
        "id": "qhvdje5S6SCE"
      },
      "execution_count": 111,
      "outputs": []
    },
    {
      "cell_type": "markdown",
      "source": [
        "Adding four new columns with year, month, day and weekday"
      ],
      "metadata": {
        "id": "Vo7bYUZG_46U"
      }
    },
    {
      "cell_type": "code",
      "source": [
        "data['year'] = pd.DatetimeIndex(data['date-added']).year \n",
        "data['month'] = pd.DatetimeIndex(data['date-added']).month \n",
        "data['day'] = pd.DatetimeIndex(data['date-added']).day\n",
        "data['weekday'] = pd.DatetimeIndex(data['date-added']).weekday"
      ],
      "metadata": {
        "id": "1JCq4l5Q_jdK"
      },
      "execution_count": 112,
      "outputs": []
    },
    {
      "cell_type": "code",
      "source": [
        "data[['date-added', 'year', 'day', 'month', 'weekday']].head(5)"
      ],
      "metadata": {
        "colab": {
          "base_uri": "https://localhost:8080/",
          "height": 370
        },
        "id": "T4d8iQc0ABqu",
        "outputId": "d263f5cf-98cf-415b-e38e-50fb14e58ba1"
      },
      "execution_count": 113,
      "outputs": [
        {
          "output_type": "execute_result",
          "data": {
            "text/plain": [
              "  date-added  year  day  month  weekday\n",
              "0 2022-05-23  2022   23      5        0\n",
              "1 2022-05-10  2022   10      5        1\n",
              "2 2022-07-04  2022    4      7        0\n",
              "3 2022-05-12  2022   12      5        3\n",
              "4 2022-08-03  2022    3      8        2"
            ],
            "text/html": [
              "\n",
              "  <div id=\"df-f2477e4e-17b9-4898-a2f8-8e05575df582\">\n",
              "    <div class=\"colab-df-container\">\n",
              "      <div>\n",
              "<style scoped>\n",
              "    .dataframe tbody tr th:only-of-type {\n",
              "        vertical-align: middle;\n",
              "    }\n",
              "\n",
              "    .dataframe tbody tr th {\n",
              "        vertical-align: top;\n",
              "    }\n",
              "\n",
              "    .dataframe thead th {\n",
              "        text-align: right;\n",
              "    }\n",
              "</style>\n",
              "<table border=\"1\" class=\"dataframe\">\n",
              "  <thead>\n",
              "    <tr style=\"text-align: right;\">\n",
              "      <th></th>\n",
              "      <th>date-added</th>\n",
              "      <th>year</th>\n",
              "      <th>day</th>\n",
              "      <th>month</th>\n",
              "      <th>weekday</th>\n",
              "    </tr>\n",
              "  </thead>\n",
              "  <tbody>\n",
              "    <tr>\n",
              "      <th>0</th>\n",
              "      <td>2022-05-23</td>\n",
              "      <td>2022</td>\n",
              "      <td>23</td>\n",
              "      <td>5</td>\n",
              "      <td>0</td>\n",
              "    </tr>\n",
              "    <tr>\n",
              "      <th>1</th>\n",
              "      <td>2022-05-10</td>\n",
              "      <td>2022</td>\n",
              "      <td>10</td>\n",
              "      <td>5</td>\n",
              "      <td>1</td>\n",
              "    </tr>\n",
              "    <tr>\n",
              "      <th>2</th>\n",
              "      <td>2022-07-04</td>\n",
              "      <td>2022</td>\n",
              "      <td>4</td>\n",
              "      <td>7</td>\n",
              "      <td>0</td>\n",
              "    </tr>\n",
              "    <tr>\n",
              "      <th>3</th>\n",
              "      <td>2022-05-12</td>\n",
              "      <td>2022</td>\n",
              "      <td>12</td>\n",
              "      <td>5</td>\n",
              "      <td>3</td>\n",
              "    </tr>\n",
              "    <tr>\n",
              "      <th>4</th>\n",
              "      <td>2022-08-03</td>\n",
              "      <td>2022</td>\n",
              "      <td>3</td>\n",
              "      <td>8</td>\n",
              "      <td>2</td>\n",
              "    </tr>\n",
              "  </tbody>\n",
              "</table>\n",
              "</div>\n",
              "      <button class=\"colab-df-convert\" onclick=\"convertToInteractive('df-f2477e4e-17b9-4898-a2f8-8e05575df582')\"\n",
              "              title=\"Convert this dataframe to an interactive table.\"\n",
              "              style=\"display:none;\">\n",
              "        \n",
              "  <svg xmlns=\"http://www.w3.org/2000/svg\" height=\"24px\"viewBox=\"0 0 24 24\"\n",
              "       width=\"24px\">\n",
              "    <path d=\"M0 0h24v24H0V0z\" fill=\"none\"/>\n",
              "    <path d=\"M18.56 5.44l.94 2.06.94-2.06 2.06-.94-2.06-.94-.94-2.06-.94 2.06-2.06.94zm-11 1L8.5 8.5l.94-2.06 2.06-.94-2.06-.94L8.5 2.5l-.94 2.06-2.06.94zm10 10l.94 2.06.94-2.06 2.06-.94-2.06-.94-.94-2.06-.94 2.06-2.06.94z\"/><path d=\"M17.41 7.96l-1.37-1.37c-.4-.4-.92-.59-1.43-.59-.52 0-1.04.2-1.43.59L10.3 9.45l-7.72 7.72c-.78.78-.78 2.05 0 2.83L4 21.41c.39.39.9.59 1.41.59.51 0 1.02-.2 1.41-.59l7.78-7.78 2.81-2.81c.8-.78.8-2.07 0-2.86zM5.41 20L4 18.59l7.72-7.72 1.47 1.35L5.41 20z\"/>\n",
              "  </svg>\n",
              "      </button>\n",
              "      \n",
              "  <style>\n",
              "    .colab-df-container {\n",
              "      display:flex;\n",
              "      flex-wrap:wrap;\n",
              "      gap: 12px;\n",
              "    }\n",
              "\n",
              "    .colab-df-convert {\n",
              "      background-color: #E8F0FE;\n",
              "      border: none;\n",
              "      border-radius: 50%;\n",
              "      cursor: pointer;\n",
              "      display: none;\n",
              "      fill: #1967D2;\n",
              "      height: 32px;\n",
              "      padding: 0 0 0 0;\n",
              "      width: 32px;\n",
              "    }\n",
              "\n",
              "    .colab-df-convert:hover {\n",
              "      background-color: #E2EBFA;\n",
              "      box-shadow: 0px 1px 2px rgba(60, 64, 67, 0.3), 0px 1px 3px 1px rgba(60, 64, 67, 0.15);\n",
              "      fill: #174EA6;\n",
              "    }\n",
              "\n",
              "    [theme=dark] .colab-df-convert {\n",
              "      background-color: #3B4455;\n",
              "      fill: #D2E3FC;\n",
              "    }\n",
              "\n",
              "    [theme=dark] .colab-df-convert:hover {\n",
              "      background-color: #434B5C;\n",
              "      box-shadow: 0px 1px 3px 1px rgba(0, 0, 0, 0.15);\n",
              "      filter: drop-shadow(0px 1px 2px rgba(0, 0, 0, 0.3));\n",
              "      fill: #FFFFFF;\n",
              "    }\n",
              "  </style>\n",
              "\n",
              "      <script>\n",
              "        const buttonEl =\n",
              "          document.querySelector('#df-f2477e4e-17b9-4898-a2f8-8e05575df582 button.colab-df-convert');\n",
              "        buttonEl.style.display =\n",
              "          google.colab.kernel.accessAllowed ? 'block' : 'none';\n",
              "\n",
              "        async function convertToInteractive(key) {\n",
              "          const element = document.querySelector('#df-f2477e4e-17b9-4898-a2f8-8e05575df582');\n",
              "          const dataTable =\n",
              "            await google.colab.kernel.invokeFunction('convertToInteractive',\n",
              "                                                     [key], {});\n",
              "          if (!dataTable) return;\n",
              "\n",
              "          const docLinkHtml = 'Like what you see? Visit the ' +\n",
              "            '<a target=\"_blank\" href=https://colab.research.google.com/notebooks/data_table.ipynb>data table notebook</a>'\n",
              "            + ' to learn more about interactive tables.';\n",
              "          element.innerHTML = '';\n",
              "          dataTable['output_type'] = 'display_data';\n",
              "          await google.colab.output.renderOutput(dataTable, element);\n",
              "          const docLink = document.createElement('div');\n",
              "          docLink.innerHTML = docLinkHtml;\n",
              "          element.appendChild(docLink);\n",
              "        }\n",
              "      </script>\n",
              "    </div>\n",
              "  </div>\n",
              "  "
            ]
          },
          "metadata": {},
          "execution_count": 113
        }
      ]
    },
    {
      "cell_type": "markdown",
      "source": [
        "### Furnishing column"
      ],
      "metadata": {
        "id": "CIllZkcOCmjU"
      }
    },
    {
      "cell_type": "code",
      "source": [
        "data['furnishing'].unique()"
      ],
      "metadata": {
        "colab": {
          "base_uri": "https://localhost:8080/"
        },
        "id": "_o97n4oQBEx6",
        "outputId": "88944bc7-b707-4143-9ac3-452203b7215b"
      },
      "execution_count": 114,
      "outputs": [
        {
          "output_type": "execute_result",
          "data": {
            "text/plain": [
              "array(['Furnished', 'Unfurnished', nan], dtype=object)"
            ]
          },
          "metadata": {},
          "execution_count": 114
        }
      ]
    },
    {
      "cell_type": "markdown",
      "source": [
        "Replacing **NaN** with **-1** value, **Furnished** as **1** and **Unfurnished** as **0**"
      ],
      "metadata": {
        "id": "kwwVi8DvxI24"
      }
    },
    {
      "cell_type": "code",
      "source": [
        "data['furnishing'] = data['furnishing'].fillna(-1)"
      ],
      "metadata": {
        "id": "GD6gEUzQwrfu"
      },
      "execution_count": 115,
      "outputs": []
    },
    {
      "cell_type": "code",
      "source": [
        "data['furnishing'] = data['furnishing'].replace(\n",
        "    {'Furnished': 1,\n",
        "     'Unfurnished': 0,\n",
        "    }\n",
        "  ).astype(int)"
      ],
      "metadata": {
        "id": "VF5xNrEkwOWu"
      },
      "execution_count": 116,
      "outputs": []
    },
    {
      "cell_type": "code",
      "source": [
        "data['furnishing'].unique()"
      ],
      "metadata": {
        "colab": {
          "base_uri": "https://localhost:8080/"
        },
        "id": "QPOwJLPZw0dM",
        "outputId": "c0cfe895-4187-41c2-ada5-36fc9e15f335"
      },
      "execution_count": 117,
      "outputs": [
        {
          "output_type": "execute_result",
          "data": {
            "text/plain": [
              "array([ 1,  0, -1])"
            ]
          },
          "metadata": {},
          "execution_count": 117
        }
      ]
    },
    {
      "cell_type": "markdown",
      "source": [
        "### Balcony (sqft) column"
      ],
      "metadata": {
        "id": "hkD-_9Uo2rfM"
      }
    },
    {
      "cell_type": "markdown",
      "source": [
        "Replacing missing values with string **'-1'**, then with the rest dropping sqft and converting to int data type."
      ],
      "metadata": {
        "id": "r832xPpGBDDQ"
      }
    },
    {
      "cell_type": "code",
      "source": [
        "data['balcony-size-sqft'] = data['balcony-size-sqft'].fillna('-1')"
      ],
      "metadata": {
        "id": "zCt1CMcG5yUL"
      },
      "execution_count": 118,
      "outputs": []
    },
    {
      "cell_type": "code",
      "source": [
        "data['balcony-size-sqft'] = (\n",
        "    data['balcony-size-sqft']\n",
        "    .str.replace('sqft','')\n",
        "    .str.replace(',','')\n",
        "    .astype(float)\n",
        "    .astype(int)\n",
        "    )"
      ],
      "metadata": {
        "id": "uNpt6PwH5jvt"
      },
      "execution_count": 119,
      "outputs": []
    },
    {
      "cell_type": "markdown",
      "source": [
        "### Parking"
      ],
      "metadata": {
        "id": "o5N_Fn2d4pwR"
      }
    },
    {
      "cell_type": "markdown",
      "source": [
        "Some listings are missing parking information, will replace it with 0. However, such information might be in description or other text columns. "
      ],
      "metadata": {
        "id": "J6gu2k5jE-Kr"
      }
    },
    {
      "cell_type": "code",
      "source": [
        "data['parking'] = data['parking'].fillna('No')"
      ],
      "metadata": {
        "id": "d4OfLxuHEGHN"
      },
      "execution_count": 120,
      "outputs": []
    },
    {
      "cell_type": "code",
      "source": [
        "data['parking'] = data['parking'].replace(\n",
        "    {'Yes': 1,\n",
        "     'No': 0,\n",
        "    }\n",
        "  ).astype(int)"
      ],
      "metadata": {
        "id": "H68nL-vCEUZt"
      },
      "execution_count": 121,
      "outputs": []
    },
    {
      "cell_type": "markdown",
      "source": [
        "### Building info name"
      ],
      "metadata": {
        "id": "XrXm4jsfK7xw"
      }
    },
    {
      "cell_type": "markdown",
      "source": [
        "As earlier building name was extracted from full address column and saved in new, this one could be dropped. Before that, let's check if names actualy match."
      ],
      "metadata": {
        "id": "q3_bPLqxNlyd"
      }
    },
    {
      "cell_type": "code",
      "source": [
        "data[['building-info-name', 'address_building']].sample(10)"
      ],
      "metadata": {
        "colab": {
          "base_uri": "https://localhost:8080/",
          "height": 610
        },
        "id": "PLb-fdmQK9Yg",
        "outputId": "01a20f01-08ff-43d3-c10f-14e03fdcdfe3"
      },
      "execution_count": 122,
      "outputs": [
        {
          "output_type": "execute_result",
          "data": {
            "text/plain": [
              "                               building-info-name  \\\n",
              "446                                           NaN   \n",
              "2422                                          NaN   \n",
              "4108                                          NaN   \n",
              "720                                           NaN   \n",
              "3673                                          NaN   \n",
              "4083                                          NaN   \n",
              "1374                          Burj Khalifa Zone 4   \n",
              "3399  Address Fountain Views Residences - Tower 1   \n",
              "4426                                          NaN   \n",
              "488                                           NaN   \n",
              "\n",
              "                             address_building  \n",
              "446                    The Address Dubai Mall  \n",
              "2422                     BLVD Heights Tower 2  \n",
              "4108             The Address Fountain Views 1  \n",
              "720                           Tajer Residence  \n",
              "3673                           Downtown Views  \n",
              "4083                         Bellevue Tower 1  \n",
              "1374                             Burj Khalifa  \n",
              "3399             The Address Fountain Views 1  \n",
              "4426                          The Residence 4  \n",
              "488   The Address Downtown Hotel (Lake Hotel)  "
            ],
            "text/html": [
              "\n",
              "  <div id=\"df-eb76699e-1a11-4d12-96ba-4eabfe8543f9\">\n",
              "    <div class=\"colab-df-container\">\n",
              "      <div>\n",
              "<style scoped>\n",
              "    .dataframe tbody tr th:only-of-type {\n",
              "        vertical-align: middle;\n",
              "    }\n",
              "\n",
              "    .dataframe tbody tr th {\n",
              "        vertical-align: top;\n",
              "    }\n",
              "\n",
              "    .dataframe thead th {\n",
              "        text-align: right;\n",
              "    }\n",
              "</style>\n",
              "<table border=\"1\" class=\"dataframe\">\n",
              "  <thead>\n",
              "    <tr style=\"text-align: right;\">\n",
              "      <th></th>\n",
              "      <th>building-info-name</th>\n",
              "      <th>address_building</th>\n",
              "    </tr>\n",
              "  </thead>\n",
              "  <tbody>\n",
              "    <tr>\n",
              "      <th>446</th>\n",
              "      <td>NaN</td>\n",
              "      <td>The Address Dubai Mall</td>\n",
              "    </tr>\n",
              "    <tr>\n",
              "      <th>2422</th>\n",
              "      <td>NaN</td>\n",
              "      <td>BLVD Heights Tower 2</td>\n",
              "    </tr>\n",
              "    <tr>\n",
              "      <th>4108</th>\n",
              "      <td>NaN</td>\n",
              "      <td>The Address Fountain Views 1</td>\n",
              "    </tr>\n",
              "    <tr>\n",
              "      <th>720</th>\n",
              "      <td>NaN</td>\n",
              "      <td>Tajer Residence</td>\n",
              "    </tr>\n",
              "    <tr>\n",
              "      <th>3673</th>\n",
              "      <td>NaN</td>\n",
              "      <td>Downtown Views</td>\n",
              "    </tr>\n",
              "    <tr>\n",
              "      <th>4083</th>\n",
              "      <td>NaN</td>\n",
              "      <td>Bellevue Tower 1</td>\n",
              "    </tr>\n",
              "    <tr>\n",
              "      <th>1374</th>\n",
              "      <td>Burj Khalifa Zone 4</td>\n",
              "      <td>Burj Khalifa</td>\n",
              "    </tr>\n",
              "    <tr>\n",
              "      <th>3399</th>\n",
              "      <td>Address Fountain Views Residences - Tower 1</td>\n",
              "      <td>The Address Fountain Views 1</td>\n",
              "    </tr>\n",
              "    <tr>\n",
              "      <th>4426</th>\n",
              "      <td>NaN</td>\n",
              "      <td>The Residence 4</td>\n",
              "    </tr>\n",
              "    <tr>\n",
              "      <th>488</th>\n",
              "      <td>NaN</td>\n",
              "      <td>The Address Downtown Hotel (Lake Hotel)</td>\n",
              "    </tr>\n",
              "  </tbody>\n",
              "</table>\n",
              "</div>\n",
              "      <button class=\"colab-df-convert\" onclick=\"convertToInteractive('df-eb76699e-1a11-4d12-96ba-4eabfe8543f9')\"\n",
              "              title=\"Convert this dataframe to an interactive table.\"\n",
              "              style=\"display:none;\">\n",
              "        \n",
              "  <svg xmlns=\"http://www.w3.org/2000/svg\" height=\"24px\"viewBox=\"0 0 24 24\"\n",
              "       width=\"24px\">\n",
              "    <path d=\"M0 0h24v24H0V0z\" fill=\"none\"/>\n",
              "    <path d=\"M18.56 5.44l.94 2.06.94-2.06 2.06-.94-2.06-.94-.94-2.06-.94 2.06-2.06.94zm-11 1L8.5 8.5l.94-2.06 2.06-.94-2.06-.94L8.5 2.5l-.94 2.06-2.06.94zm10 10l.94 2.06.94-2.06 2.06-.94-2.06-.94-.94-2.06-.94 2.06-2.06.94z\"/><path d=\"M17.41 7.96l-1.37-1.37c-.4-.4-.92-.59-1.43-.59-.52 0-1.04.2-1.43.59L10.3 9.45l-7.72 7.72c-.78.78-.78 2.05 0 2.83L4 21.41c.39.39.9.59 1.41.59.51 0 1.02-.2 1.41-.59l7.78-7.78 2.81-2.81c.8-.78.8-2.07 0-2.86zM5.41 20L4 18.59l7.72-7.72 1.47 1.35L5.41 20z\"/>\n",
              "  </svg>\n",
              "      </button>\n",
              "      \n",
              "  <style>\n",
              "    .colab-df-container {\n",
              "      display:flex;\n",
              "      flex-wrap:wrap;\n",
              "      gap: 12px;\n",
              "    }\n",
              "\n",
              "    .colab-df-convert {\n",
              "      background-color: #E8F0FE;\n",
              "      border: none;\n",
              "      border-radius: 50%;\n",
              "      cursor: pointer;\n",
              "      display: none;\n",
              "      fill: #1967D2;\n",
              "      height: 32px;\n",
              "      padding: 0 0 0 0;\n",
              "      width: 32px;\n",
              "    }\n",
              "\n",
              "    .colab-df-convert:hover {\n",
              "      background-color: #E2EBFA;\n",
              "      box-shadow: 0px 1px 2px rgba(60, 64, 67, 0.3), 0px 1px 3px 1px rgba(60, 64, 67, 0.15);\n",
              "      fill: #174EA6;\n",
              "    }\n",
              "\n",
              "    [theme=dark] .colab-df-convert {\n",
              "      background-color: #3B4455;\n",
              "      fill: #D2E3FC;\n",
              "    }\n",
              "\n",
              "    [theme=dark] .colab-df-convert:hover {\n",
              "      background-color: #434B5C;\n",
              "      box-shadow: 0px 1px 3px 1px rgba(0, 0, 0, 0.15);\n",
              "      filter: drop-shadow(0px 1px 2px rgba(0, 0, 0, 0.3));\n",
              "      fill: #FFFFFF;\n",
              "    }\n",
              "  </style>\n",
              "\n",
              "      <script>\n",
              "        const buttonEl =\n",
              "          document.querySelector('#df-eb76699e-1a11-4d12-96ba-4eabfe8543f9 button.colab-df-convert');\n",
              "        buttonEl.style.display =\n",
              "          google.colab.kernel.accessAllowed ? 'block' : 'none';\n",
              "\n",
              "        async function convertToInteractive(key) {\n",
              "          const element = document.querySelector('#df-eb76699e-1a11-4d12-96ba-4eabfe8543f9');\n",
              "          const dataTable =\n",
              "            await google.colab.kernel.invokeFunction('convertToInteractive',\n",
              "                                                     [key], {});\n",
              "          if (!dataTable) return;\n",
              "\n",
              "          const docLinkHtml = 'Like what you see? Visit the ' +\n",
              "            '<a target=\"_blank\" href=https://colab.research.google.com/notebooks/data_table.ipynb>data table notebook</a>'\n",
              "            + ' to learn more about interactive tables.';\n",
              "          element.innerHTML = '';\n",
              "          dataTable['output_type'] = 'display_data';\n",
              "          await google.colab.output.renderOutput(dataTable, element);\n",
              "          const docLink = document.createElement('div');\n",
              "          docLink.innerHTML = docLinkHtml;\n",
              "          element.appendChild(docLink);\n",
              "        }\n",
              "      </script>\n",
              "    </div>\n",
              "  </div>\n",
              "  "
            ]
          },
          "metadata": {},
          "execution_count": 122
        }
      ]
    },
    {
      "cell_type": "code",
      "source": [
        "data.drop(['building-info-name'], axis=1, inplace=True)"
      ],
      "metadata": {
        "id": "-mdxqpAWCzO3"
      },
      "execution_count": 123,
      "outputs": []
    },
    {
      "cell_type": "markdown",
      "source": [
        "### Building info floors"
      ],
      "metadata": {
        "id": "kJWUo9ItGYiF"
      }
    },
    {
      "cell_type": "markdown",
      "source": [
        "Number of floors, some buildings are missing that information and temporary will replace it with **0** "
      ],
      "metadata": {
        "id": "C4FKMCWNHWgy"
      }
    },
    {
      "cell_type": "code",
      "source": [
        "data['building-info-floors'].unique()"
      ],
      "metadata": {
        "colab": {
          "base_uri": "https://localhost:8080/"
        },
        "id": "jU6flB39GZlr",
        "outputId": "f9138c27-3fe8-4a6f-d6ed-12383a474f51"
      },
      "execution_count": 124,
      "outputs": [
        {
          "output_type": "execute_result",
          "data": {
            "text/plain": [
              "array([nan, 73., 19., 55., 23., 56.,  9., 40., 30., 31., 41.,  4., 51.,\n",
              "       20., 33., 65., 17., 21., 62., 16., 43., 18., 45.,  5., 34., 39.,\n",
              "       25.,  8., 48., 36., 32., 28., 64., 27., 60., 52., 47., 24., 26.,\n",
              "        6.,  7., 12., 42.])"
            ]
          },
          "metadata": {},
          "execution_count": 124
        }
      ]
    },
    {
      "cell_type": "code",
      "source": [
        "data['building-info-floors'] = data['building-info-floors'].fillna(0)"
      ],
      "metadata": {
        "id": "bw5WL0muJcVD"
      },
      "execution_count": 125,
      "outputs": []
    },
    {
      "cell_type": "code",
      "source": [
        "data['building-info-floors'] = data['building-info-floors'].astype(int)"
      ],
      "metadata": {
        "id": "Ux-P1WSRJzS2"
      },
      "execution_count": 126,
      "outputs": []
    },
    {
      "cell_type": "markdown",
      "source": [
        "### Building info year"
      ],
      "metadata": {
        "id": "GjN0CnOp4zKW"
      }
    },
    {
      "cell_type": "markdown",
      "source": [
        "Will do the same for building completion year. Temporary replace missing values with **0** and change data type."
      ],
      "metadata": {
        "id": "_M7rMVUONU9O"
      }
    },
    {
      "cell_type": "code",
      "source": [
        "data['building-info-year'].unique()"
      ],
      "metadata": {
        "colab": {
          "base_uri": "https://localhost:8080/"
        },
        "id": "MFRhWs9GNUBG",
        "outputId": "e7e955cd-f400-4cb2-dc5b-a93e9462fd30"
      },
      "execution_count": 127,
      "outputs": [
        {
          "output_type": "execute_result",
          "data": {
            "text/plain": [
              "array([  nan, 2021., 2012., 2019., 2017., 2008., 2013., 2010., 2020.,\n",
              "       2009., 2018., 2022., 2016., 2015.])"
            ]
          },
          "metadata": {},
          "execution_count": 127
        }
      ]
    },
    {
      "cell_type": "code",
      "source": [
        "data['building-info-year'] = data['building-info-year'].fillna(0)"
      ],
      "metadata": {
        "id": "shV6BCoqOQVV"
      },
      "execution_count": 128,
      "outputs": []
    },
    {
      "cell_type": "code",
      "source": [
        "data['building-info-year'] = data['building-info-year'].astype(int)"
      ],
      "metadata": {
        "id": "15eVYmRTORJn"
      },
      "execution_count": 129,
      "outputs": []
    },
    {
      "cell_type": "markdown",
      "source": [
        "### Building info area (sqft)"
      ],
      "metadata": {
        "id": "Iuic5JxwL-GY"
      }
    },
    {
      "cell_type": "markdown",
      "source": [
        "For a few reasons will drop this column. First it is not so easy to find such information and get that data on each building, second reason is that unlikely total area of a buklding will affect rent prices more that number of floors or location."
      ],
      "metadata": {
        "id": "UdVsj8teQhYO"
      }
    },
    {
      "cell_type": "code",
      "source": [
        "data.drop(['building-info-area-sqft'], axis=1, inplace=True)"
      ],
      "metadata": {
        "id": "v0TGroK9RxJM"
      },
      "execution_count": 130,
      "outputs": []
    },
    {
      "cell_type": "markdown",
      "source": [
        "### Features and amenities"
      ],
      "metadata": {
        "id": "nOBRG96xSons"
      }
    },
    {
      "cell_type": "markdown",
      "source": [
        "Missing values will replace with **Unknown**"
      ],
      "metadata": {
        "id": "7gklIllASud3"
      }
    },
    {
      "cell_type": "code",
      "source": [
        "data['features-amenities'] = data['features-amenities'].fillna('Unknown')"
      ],
      "metadata": {
        "id": "-6vilJgmS_6t"
      },
      "execution_count": 131,
      "outputs": []
    },
    {
      "cell_type": "code",
      "source": [
        "data.info()"
      ],
      "metadata": {
        "colab": {
          "base_uri": "https://localhost:8080/"
        },
        "id": "USxgOt2jSeNX",
        "outputId": "b30cf5ad-151d-4060-d92e-009ec05f2cd4"
      },
      "execution_count": 132,
      "outputs": [
        {
          "output_type": "stream",
          "name": "stdout",
          "text": [
            "<class 'pandas.core.frame.DataFrame'>\n",
            "Int64Index: 4802 entries, 0 to 4823\n",
            "Data columns (total 21 columns):\n",
            " #   Column                Non-Null Count  Dtype         \n",
            "---  ------                --------------  -----         \n",
            " 0   price                 4802 non-null   int64         \n",
            " 1   beds                  4802 non-null   int64         \n",
            " 2   baths                 4802 non-null   int64         \n",
            " 3   area-sqft             4802 non-null   int64         \n",
            " 4   description-title     4802 non-null   object        \n",
            " 5   description           4802 non-null   object        \n",
            " 6   reference-no          4802 non-null   object        \n",
            " 7   date-added            4802 non-null   datetime64[ns]\n",
            " 8   balcony-size-sqft     4802 non-null   int64         \n",
            " 9   parking               4802 non-null   int64         \n",
            " 10  building-info-floors  4802 non-null   int64         \n",
            " 11  building-info-year    4802 non-null   int64         \n",
            " 12  furnishing            4802 non-null   int64         \n",
            " 13  features-amenities    4802 non-null   object        \n",
            " 14  address_city          4802 non-null   object        \n",
            " 15  address_area          4802 non-null   object        \n",
            " 16  address_building      4802 non-null   object        \n",
            " 17  year                  4802 non-null   int64         \n",
            " 18  month                 4802 non-null   int64         \n",
            " 19  day                   4802 non-null   int64         \n",
            " 20  weekday               4802 non-null   int64         \n",
            "dtypes: datetime64[ns](1), int64(13), object(7)\n",
            "memory usage: 825.3+ KB\n"
          ]
        }
      ]
    },
    {
      "cell_type": "markdown",
      "source": [
        "## Exploratory Data Analysis (EDA)"
      ],
      "metadata": {
        "id": "O7C_0uiYDL_Q"
      }
    },
    {
      "cell_type": "markdown",
      "source": [
        "Defining some functions for future use in analysis"
      ],
      "metadata": {
        "id": "l4USaUVRLNJ4"
      }
    },
    {
      "cell_type": "code",
      "source": [
        "def whiskers_limits(series):\n",
        "    q1 = np.percentile(series, 25)  # Q1\n",
        "    q2 = np.percentile(series, 50)  # Q2 (Median)\n",
        "    q3 = np.percentile(series, 75)  # Q3\n",
        "    whisker_maximum = round(q3 + ((q3 - q1) * 1.5), 2) # “maximum”: Q3 + 1.5 * IQR \n",
        "    whisker_minimum = round(q1 - ((q3 - q1) / 1.5), 2) # “minimum”: Q1 - 1.5 * IQR\n",
        "    above_whisker_maximum = data.query('@series > @whisker_maximum')[series.name].count()\n",
        "    total_amount = data[series.name].count()\n",
        "    \n",
        "    print(f\"{whisker_minimum} - Minimum value for left 'whisker'\\n\"\n",
        "          f\"{whisker_maximum} - Max value for right 'whisker',\\n\"\n",
        "          f\"{above_whisker_maximum} (or {round(above_whisker_maximum / total_amount * 100, 2)}%)\"\n",
        "          f\" of {total_amount} - N elements after the right 'whisker'\")"
      ],
      "metadata": {
        "id": "eIQYsOR8FVdi"
      },
      "execution_count": 133,
      "outputs": []
    },
    {
      "cell_type": "markdown",
      "source": [
        "### Price"
      ],
      "metadata": {
        "id": "eyFzmE9IDqKn"
      }
    },
    {
      "cell_type": "markdown",
      "source": [
        "Let's see how prices vary for all listings"
      ],
      "metadata": {
        "id": "zP6HjVKALgQH"
      }
    },
    {
      "cell_type": "code",
      "source": [
        "data['price'].plot(\n",
        "    kind = 'hist',\n",
        "    bins = 100,\n",
        "    # range = (0, 25_000_000),\n",
        "    title = \"Price Histogram\",\n",
        "    figsize = (15, 5),\n",
        "    grid = True,\n",
        "    legend = True,\n",
        "    color = '#2c3e50',\n",
        ")\n",
        "plt.ylabel('Number of listings')\n",
        "plt.xlabel('Price in AED')\n",
        "plt.ticklabel_format(axis='x', style='plain')\n",
        "# plt.xticks(np.arange(0, 600_000, 10_000))\n",
        "plt.show()"
      ],
      "metadata": {
        "colab": {
          "base_uri": "https://localhost:8080/",
          "height": 355
        },
        "id": "g2Qpq7wyCLNM",
        "outputId": "a81d91f6-9740-43dd-b511-fd3fc0f96092"
      },
      "execution_count": 134,
      "outputs": [
        {
          "output_type": "display_data",
          "data": {
            "text/plain": [
              "<Figure size 1080x360 with 1 Axes>"
            ],
            "image/png": "[encoded data removed]"
          },
          "metadata": {}
        }
      ]
    },
    {
      "cell_type": "markdown",
      "source": [
        "We can see outliers messing all data starting from price 500,000 and up. Most likely it's huge apartment with many rooms and more luxurious.  \n",
        "We would need to look into more common range of prices."
      ],
      "metadata": {
        "id": "cU5oax1ILxK7"
      }
    },
    {
      "cell_type": "code",
      "source": [
        "pd.options.display.float_format = '{:.2f}'.format\n",
        "# pd.reset_option('display.float_format')"
      ],
      "metadata": {
        "id": "8UjOV9ztIET4"
      },
      "execution_count": 135,
      "outputs": []
    },
    {
      "cell_type": "code",
      "source": [
        "data['price'].describe()"
      ],
      "metadata": {
        "colab": {
          "base_uri": "https://localhost:8080/"
        },
        "id": "WsgOM45gD2AV",
        "outputId": "156b6d4c-ea9b-468e-ab9f-74727e8945d7"
      },
      "execution_count": 136,
      "outputs": [
        {
          "output_type": "execute_result",
          "data": {
            "text/plain": [
              "count      4802.00\n",
              "mean     228229.83\n",
              "std      171535.69\n",
              "min       40000.00\n",
              "25%      120000.00\n",
              "50%      180000.00\n",
              "75%      295000.00\n",
              "max     3000000.00\n",
              "Name: price, dtype: float64"
            ]
          },
          "metadata": {},
          "execution_count": 136
        }
      ]
    },
    {
      "cell_type": "markdown",
      "source": [
        "Using method describe it's easy to see that all prices start as minimum 40,000. Enormous difference between third quartile and max value."
      ],
      "metadata": {
        "id": "2BtGZ0LfMVSV"
      }
    },
    {
      "cell_type": "code",
      "source": [
        "data['price'].plot(\n",
        "    kind='box',\n",
        "    title = \"Price boxplot\",\n",
        "    figsize = (15, 5),\n",
        "    grid = True,\n",
        "    vert = False,\n",
        ")\n",
        "plt.xlim(0, 600_000)\n",
        "plt.xlabel('Price in AED')\n",
        "plt.show()"
      ],
      "metadata": {
        "colab": {
          "base_uri": "https://localhost:8080/",
          "height": 355
        },
        "id": "bGnvcJLWHRRU",
        "outputId": "d0db6eeb-5ea6-40ca-8d49-afe86fab5840"
      },
      "execution_count": 137,
      "outputs": [
        {
          "output_type": "display_data",
          "data": {
            "text/plain": [
              "<Figure size 1080x360 with 1 Axes>"
            ],
            "image/png": "[encoded data removed]"
          },
          "metadata": {}
        }
      ]
    },
    {
      "cell_type": "code",
      "source": [
        "whiskers_limits(data['price'])"
      ],
      "metadata": {
        "colab": {
          "base_uri": "https://localhost:8080/"
        },
        "id": "IkDuOCWOIaFb",
        "outputId": "8dfdf6f7-cc45-4db5-a053-048e6bc7d188"
      },
      "execution_count": 138,
      "outputs": [
        {
          "output_type": "stream",
          "name": "stdout",
          "text": [
            "3333.33 - Minimum value for left 'whisker'\n",
            "557500.0 - Max value for right 'whisker',\n",
            "126 (or 2.62%) of 4802 - N elements after the right 'whisker'\n"
          ]
        }
      ]
    },
    {
      "cell_type": "code",
      "source": [
        "data['price'].plot(\n",
        "    kind = 'hist',\n",
        "    bins = 50,\n",
        "    range = (30_000, 600_000),\n",
        "    title = \"Price Histogram\",\n",
        "    figsize = (15, 5),\n",
        "    grid = True,\n",
        "    legend = True,\n",
        "    color = '#2c3e50',\n",
        ")\n",
        "plt.ylabel('Number of listings')\n",
        "plt.xlabel('Price in AED')\n",
        "plt.ticklabel_format(axis='x', style='plain')\n",
        "# plt.xticks(np.arange(30_000, 600_000, 10_000))\n",
        "plt.show()"
      ],
      "metadata": {
        "colab": {
          "base_uri": "https://localhost:8080/",
          "height": 355
        },
        "id": "JrmLAX_XKyff",
        "outputId": "2f1002bc-7fda-4d73-ba1b-3bc64c3578d9"
      },
      "execution_count": 139,
      "outputs": [
        {
          "output_type": "display_data",
          "data": {
            "text/plain": [
              "<Figure size 1080x360 with 1 Axes>"
            ],
            "image/png": "[encoded data removed]"
          },
          "metadata": {}
        }
      ]
    },
    {
      "cell_type": "code",
      "source": [
        "sns.set(rc={'figure.figsize':(15, 7)})\n",
        "sns.boxplot(data = data.query('price < 2_000_000')[['price', 'beds']], #data[['price', 'beds']],\n",
        "            x = 'price',\n",
        "            y = 'beds',\n",
        "            orient = \"h\",\n",
        "            order = [5,4,3,2,1,0],\n",
        "            )\n",
        "plt.title('Price boxplot')\n",
        "plt.ylabel('Number of bedrooms')\n",
        "plt.xlabel('Price in hundred of thousands AED')\n",
        "plt.show()"
      ],
      "metadata": {
        "colab": {
          "base_uri": "https://localhost:8080/",
          "height": 464
        },
        "id": "m1ZDemE8KIZN",
        "outputId": "4352b114-6874-4cd1-ccbb-d4ebea6dfe7f"
      },
      "execution_count": 140,
      "outputs": [
        {
          "output_type": "display_data",
          "data": {
            "text/plain": [
              "<Figure size 1080x504 with 1 Axes>"
            ],
            "image/png": "[encoded data removed]"
          },
          "metadata": {}
        }
      ]
    },
    {
      "cell_type": "markdown",
      "source": [
        "### Number of bedrooms"
      ],
      "metadata": {
        "id": "0UtaOQ3qYM-r"
      }
    },
    {
      "cell_type": "code",
      "source": [
        "data['beds'].plot(\n",
        "    kind = 'hist',\n",
        "    title = \"Bedrooms Histogram\",\n",
        "    bins = 6,\n",
        "    figsize = (15, 5),\n",
        "    grid = True,\n",
        "    legend = True,\n",
        "    color = '#2c3e50',\n",
        ")\n",
        "plt.ylabel('Number of listings')\n",
        "plt.xlabel('Number of bedrooms, 0 - is Studio')\n",
        "plt.ticklabel_format(axis='x', style='plain')\n",
        "plt.show()"
      ],
      "metadata": {
        "colab": {
          "base_uri": "https://localhost:8080/",
          "height": 54
        },
        "id": "f_r3446BX4Of",
        "outputId": "cdda2785-70ca-4cd3-bfbf-d044c41c2f7b"
      },
      "execution_count": 141,
      "outputs": [
        {
          "output_type": "display_data",
          "data": {
            "text/plain": [
              "<Figure size 1080x360 with 1 Axes>"
            ],
            "image/png": "[encoded data removed]"
          },
          "metadata": {}
        }
      ]
    },
    {
      "cell_type": "code",
      "source": [
        "data['beds'].value_counts()"
      ],
      "metadata": {
        "colab": {
          "base_uri": "https://localhost:8080/"
        },
        "id": "hnsJ0EucYeeP",
        "outputId": "3ed09ab1-da17-4811-fdf1-abbb2ae47eb4"
      },
      "execution_count": 142,
      "outputs": [
        {
          "output_type": "execute_result",
          "data": {
            "text/plain": [
              "2    1983\n",
              "1    1474\n",
              "3     832\n",
              "0     435\n",
              "4      75\n",
              "5       3\n",
              "Name: beds, dtype: int64"
            ]
          },
          "metadata": {},
          "execution_count": 142
        }
      ]
    },
    {
      "cell_type": "markdown",
      "source": [
        "More listings of two bedroom apartemnts followed by one bedroom"
      ],
      "metadata": {
        "id": "WF5-f8vUa030"
      }
    },
    {
      "cell_type": "markdown",
      "source": [
        "#### One bedroom apartments (1BDR)"
      ],
      "metadata": {
        "id": "9-4gCqb8eDkv"
      }
    },
    {
      "cell_type": "code",
      "source": [
        "data_1BDR = data.query('beds == 1')"
      ],
      "metadata": {
        "id": "iOR5dSl8Z72u"
      },
      "execution_count": 143,
      "outputs": []
    },
    {
      "cell_type": "code",
      "source": [
        "data_1BDR['price'].plot(\n",
        "    kind = 'hist',\n",
        "    bins = 20,\n",
        "    # range = (30_000, 600_000),\n",
        "    title = \"Price Histogram for 1BDR\",\n",
        "    figsize = (15, 5),\n",
        "    grid = True,\n",
        "    legend = True,\n",
        "    color = '#2c3e50',\n",
        ")\n",
        "plt.ylabel('Number of listings')\n",
        "plt.xlabel('Price in AED')\n",
        "plt.ticklabel_format(axis='x', style='plain')\n",
        "plt.show()"
      ],
      "metadata": {
        "colab": {
          "base_uri": "https://localhost:8080/",
          "height": 54
        },
        "id": "CWJ3aiq2cH_O",
        "outputId": "3493280f-8198-413d-f07f-22c04ce4522c"
      },
      "execution_count": 144,
      "outputs": [
        {
          "output_type": "display_data",
          "data": {
            "text/plain": [
              "<Figure size 1080x360 with 1 Axes>"
            ],
            "image/png": "[encoded data removed]"
          },
          "metadata": {}
        }
      ]
    },
    {
      "cell_type": "code",
      "source": [
        "data_1BDR['price'].describe()"
      ],
      "metadata": {
        "colab": {
          "base_uri": "https://localhost:8080/"
        },
        "id": "gkjxV4Hwc5mT",
        "outputId": "9b3b634b-5717-4cef-ab0b-2ef85262f864"
      },
      "execution_count": 145,
      "outputs": [
        {
          "output_type": "execute_result",
          "data": {
            "text/plain": [
              "count     1474.00\n",
              "mean    128599.18\n",
              "std      42612.28\n",
              "min      59998.00\n",
              "25%      95000.00\n",
              "50%     115000.00\n",
              "75%     160000.00\n",
              "max     280000.00\n",
              "Name: price, dtype: float64"
            ]
          },
          "metadata": {},
          "execution_count": 145
        }
      ]
    },
    {
      "cell_type": "code",
      "source": [
        "data_1BDR[['price', 'area-sqft', 'baths']].corr()"
      ],
      "metadata": {
        "colab": {
          "base_uri": "https://localhost:8080/",
          "height": 240
        },
        "id": "OgiAjAhsenqV",
        "outputId": "38867043-6171-4d29-f385-284dde793e7b"
      },
      "execution_count": 146,
      "outputs": [
        {
          "output_type": "execute_result",
          "data": {
            "text/plain": [
              "           price  area-sqft  baths\n",
              "price       1.00       0.05   0.07\n",
              "area-sqft   0.05       1.00   0.21\n",
              "baths       0.07       0.21   1.00"
            ],
            "text/html": [
              "\n",
              "  <div id=\"df-51b38aab-f9d2-4909-ad5f-a8435cd5130d\">\n",
              "    <div class=\"colab-df-container\">\n",
              "      <div>\n",
              "<style scoped>\n",
              "    .dataframe tbody tr th:only-of-type {\n",
              "        vertical-align: middle;\n",
              "    }\n",
              "\n",
              "    .dataframe tbody tr th {\n",
              "        vertical-align: top;\n",
              "    }\n",
              "\n",
              "    .dataframe thead th {\n",
              "        text-align: right;\n",
              "    }\n",
              "</style>\n",
              "<table border=\"1\" class=\"dataframe\">\n",
              "  <thead>\n",
              "    <tr style=\"text-align: right;\">\n",
              "      <th></th>\n",
              "      <th>price</th>\n",
              "      <th>area-sqft</th>\n",
              "      <th>baths</th>\n",
              "    </tr>\n",
              "  </thead>\n",
              "  <tbody>\n",
              "    <tr>\n",
              "      <th>price</th>\n",
              "      <td>1.00</td>\n",
              "      <td>0.05</td>\n",
              "      <td>0.07</td>\n",
              "    </tr>\n",
              "    <tr>\n",
              "      <th>area-sqft</th>\n",
              "      <td>0.05</td>\n",
              "      <td>1.00</td>\n",
              "      <td>0.21</td>\n",
              "    </tr>\n",
              "    <tr>\n",
              "      <th>baths</th>\n",
              "      <td>0.07</td>\n",
              "      <td>0.21</td>\n",
              "      <td>1.00</td>\n",
              "    </tr>\n",
              "  </tbody>\n",
              "</table>\n",
              "</div>\n",
              "      <button class=\"colab-df-convert\" onclick=\"convertToInteractive('df-51b38aab-f9d2-4909-ad5f-a8435cd5130d')\"\n",
              "              title=\"Convert this dataframe to an interactive table.\"\n",
              "              style=\"display:none;\">\n",
              "        \n",
              "  <svg xmlns=\"http://www.w3.org/2000/svg\" height=\"24px\"viewBox=\"0 0 24 24\"\n",
              "       width=\"24px\">\n",
              "    <path d=\"M0 0h24v24H0V0z\" fill=\"none\"/>\n",
              "    <path d=\"M18.56 5.44l.94 2.06.94-2.06 2.06-.94-2.06-.94-.94-2.06-.94 2.06-2.06.94zm-11 1L8.5 8.5l.94-2.06 2.06-.94-2.06-.94L8.5 2.5l-.94 2.06-2.06.94zm10 10l.94 2.06.94-2.06 2.06-.94-2.06-.94-.94-2.06-.94 2.06-2.06.94z\"/><path d=\"M17.41 7.96l-1.37-1.37c-.4-.4-.92-.59-1.43-.59-.52 0-1.04.2-1.43.59L10.3 9.45l-7.72 7.72c-.78.78-.78 2.05 0 2.83L4 21.41c.39.39.9.59 1.41.59.51 0 1.02-.2 1.41-.59l7.78-7.78 2.81-2.81c.8-.78.8-2.07 0-2.86zM5.41 20L4 18.59l7.72-7.72 1.47 1.35L5.41 20z\"/>\n",
              "  </svg>\n",
              "      </button>\n",
              "      \n",
              "  <style>\n",
              "    .colab-df-container {\n",
              "      display:flex;\n",
              "      flex-wrap:wrap;\n",
              "      gap: 12px;\n",
              "    }\n",
              "\n",
              "    .colab-df-convert {\n",
              "      background-color: #E8F0FE;\n",
              "      border: none;\n",
              "      border-radius: 50%;\n",
              "      cursor: pointer;\n",
              "      display: none;\n",
              "      fill: #1967D2;\n",
              "      height: 32px;\n",
              "      padding: 0 0 0 0;\n",
              "      width: 32px;\n",
              "    }\n",
              "\n",
              "    .colab-df-convert:hover {\n",
              "      background-color: #E2EBFA;\n",
              "      box-shadow: 0px 1px 2px rgba(60, 64, 67, 0.3), 0px 1px 3px 1px rgba(60, 64, 67, 0.15);\n",
              "      fill: #174EA6;\n",
              "    }\n",
              "\n",
              "    [theme=dark] .colab-df-convert {\n",
              "      background-color: #3B4455;\n",
              "      fill: #D2E3FC;\n",
              "    }\n",
              "\n",
              "    [theme=dark] .colab-df-convert:hover {\n",
              "      background-color: #434B5C;\n",
              "      box-shadow: 0px 1px 3px 1px rgba(0, 0, 0, 0.15);\n",
              "      filter: drop-shadow(0px 1px 2px rgba(0, 0, 0, 0.3));\n",
              "      fill: #FFFFFF;\n",
              "    }\n",
              "  </style>\n",
              "\n",
              "      <script>\n",
              "        const buttonEl =\n",
              "          document.querySelector('#df-51b38aab-f9d2-4909-ad5f-a8435cd5130d button.colab-df-convert');\n",
              "        buttonEl.style.display =\n",
              "          google.colab.kernel.accessAllowed ? 'block' : 'none';\n",
              "\n",
              "        async function convertToInteractive(key) {\n",
              "          const element = document.querySelector('#df-51b38aab-f9d2-4909-ad5f-a8435cd5130d');\n",
              "          const dataTable =\n",
              "            await google.colab.kernel.invokeFunction('convertToInteractive',\n",
              "                                                     [key], {});\n",
              "          if (!dataTable) return;\n",
              "\n",
              "          const docLinkHtml = 'Like what you see? Visit the ' +\n",
              "            '<a target=\"_blank\" href=https://colab.research.google.com/notebooks/data_table.ipynb>data table notebook</a>'\n",
              "            + ' to learn more about interactive tables.';\n",
              "          element.innerHTML = '';\n",
              "          dataTable['output_type'] = 'display_data';\n",
              "          await google.colab.output.renderOutput(dataTable, element);\n",
              "          const docLink = document.createElement('div');\n",
              "          docLink.innerHTML = docLinkHtml;\n",
              "          element.appendChild(docLink);\n",
              "        }\n",
              "      </script>\n",
              "    </div>\n",
              "  </div>\n",
              "  "
            ]
          },
          "metadata": {},
          "execution_count": 146
        }
      ]
    },
    {
      "cell_type": "code",
      "source": [
        ""
      ],
      "metadata": {
        "id": "mDPM3MpJfRob"
      },
      "execution_count": 146,
      "outputs": []
    },
    {
      "cell_type": "markdown",
      "source": [
        "### Area "
      ],
      "metadata": {
        "id": "o2UZPerVgrL-"
      }
    },
    {
      "cell_type": "code",
      "source": [
        "data['area-sqft'].plot(\n",
        "    kind = 'hist',\n",
        "    bins = 100,\n",
        "    # range = (0, 25_000_000),\n",
        "    title = \"Area in sqft Histogram\",\n",
        "    figsize = (15, 5),\n",
        "    grid = True,\n",
        "    legend = True,\n",
        "    color = '#2c3e50',\n",
        ")\n",
        "plt.ylabel('Number of listings')\n",
        "plt.xlabel('sqft')\n",
        "plt.ticklabel_format(axis='x', style='plain')\n",
        "# plt.xticks(np.arange(0, 600_000, 10_000))\n",
        "plt.show()"
      ],
      "metadata": {
        "colab": {
          "base_uri": "https://localhost:8080/",
          "height": 54
        },
        "id": "bCody3lYg0AB",
        "outputId": "f99083a4-3674-4ce6-c1b5-f1d5eada8ff7"
      },
      "execution_count": 147,
      "outputs": [
        {
          "output_type": "display_data",
          "data": {
            "text/plain": [
              "<Figure size 1080x360 with 1 Axes>"
            ],
            "image/png": "[encoded data removed]"
          },
          "metadata": {}
        }
      ]
    },
    {
      "cell_type": "code",
      "source": [
        ""
      ],
      "metadata": {
        "id": "4_c7id_pg7SH"
      },
      "execution_count": 147,
      "outputs": []
    }
  ]
}