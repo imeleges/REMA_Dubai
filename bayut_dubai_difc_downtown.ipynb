{
  "nbformat": 4,
  "nbformat_minor": 0,
  "metadata": {
    "colab": {
      "name": "bayut-dubai-difc-downtown.ipynb",
      "provenance": [],
      "collapsed_sections": [],
      "toc_visible": true,
      "authorship_tag": "ABX9TyP/sRFdtgZXI2fFeBlLo0bT"
    },
    "kernelspec": {
      "name": "python3",
      "display_name": "Python 3"
    },
    "language_info": {
      "name": "python"
    }
  },
  "cells": [
    {
      "cell_type": "markdown",
      "source": [
        "# Analysis of apartments rent in Dubai, UAE\n",
        " For **DIFC** and **Downtown** area"
      ],
      "metadata": {
        "id": "3L3barxvaBQA"
      }
    },
    {
      "cell_type": "markdown",
      "source": [
        "## Preparations"
      ],
      "metadata": {
        "id": "Hy1-Mb-ErclJ"
      }
    },
    {
      "cell_type": "markdown",
      "source": [
        "All data was scraped from Bayut website on August 9 and saved as .CSV file.  \n",
        "First downloading .CSV file from Google Drive with command `! gdown`"
      ],
      "metadata": {
        "id": "YYhr70w2ahsq"
      }
    },
    {
      "cell_type": "code",
      "source": [
        "! gdown 1EMlXkq1MI4HqYwbcvTl93bKZ2BvRqDCy"
      ],
      "metadata": {
        "colab": {
          "base_uri": "https://localhost:8080/"
        },
        "id": "eqqdiZ_aRuoa",
        "outputId": "2a43f79c-37c8-4074-edf2-913e66d7fdb1"
      },
      "execution_count": 1,
      "outputs": [
        {
          "output_type": "stream",
          "name": "stdout",
          "text": [
            "Downloading...\n",
            "From: https://drive.google.com/uc?id=1EMlXkq1MI4HqYwbcvTl93bKZ2BvRqDCy\n",
            "To: /content/bayut-dubai-difc-downtown.csv\n",
            "\r  0% 0.00/8.85M [00:00<?, ?B/s]\r100% 8.85M/8.85M [00:00<00:00, 182MB/s]\n"
          ]
        }
      ]
    },
    {
      "cell_type": "markdown",
      "source": [
        "Importing all necessary libraries"
      ],
      "metadata": {
        "id": "WiSWiRVdbGjw"
      }
    },
    {
      "cell_type": "code",
      "execution_count": 2,
      "metadata": {
        "id": "Ry1slFkn4yzl"
      },
      "outputs": [],
      "source": [
        "import pandas as pd\n",
        "import matplotlib.pyplot as plt\n",
        "import numpy as np\n",
        "import seaborn as sns"
      ]
    },
    {
      "cell_type": "code",
      "source": [
        "sns.set_style('darkgrid')"
      ],
      "metadata": {
        "id": "n5WkyVlkCZjg"
      },
      "execution_count": 3,
      "outputs": []
    },
    {
      "cell_type": "markdown",
      "source": [
        "Loading .CSV file with pandas using python engine and checking first 5 rows of data"
      ],
      "metadata": {
        "id": "MxUmpNoTbPIN"
      }
    },
    {
      "cell_type": "code",
      "source": [
        "data = pd.read_csv('bayut-dubai-difc-downtown.csv', engine='python')"
      ],
      "metadata": {
        "id": "DaECWJaJ5Fme"
      },
      "execution_count": 4,
      "outputs": []
    },
    {
      "cell_type": "code",
      "source": [
        "pd.set_option(\"display.max_columns\", None)"
      ],
      "metadata": {
        "id": "cgS9mHnjBtu5"
      },
      "execution_count": 5,
      "outputs": []
    },
    {
      "cell_type": "code",
      "source": [
        "data.head(5)"
      ],
      "metadata": {
        "colab": {
          "base_uri": "https://localhost:8080/",
          "height": 710
        },
        "id": "j1pMPXsT5HMM",
        "outputId": "244c6771-adde-436e-9371-4e0684d18f22"
      },
      "execution_count": 6,
      "outputs": [
        {
          "output_type": "execute_result",
          "data": {
            "text/plain": [
              "  web-scraper-order                              web-scraper-start-url  \\\n",
              "0   1660037380-2176  https://www.bayut.com/to-rent/apartments/dubai...   \n",
              "1   1660040273-2805  https://www.bayut.com/to-rent/apartments/dubai...   \n",
              "2   1660036840-2061  https://www.bayut.com/to-rent/apartments/dubai...   \n",
              "3   1660042132-3219  https://www.bayut.com/to-rent/apartments/dubai...   \n",
              "4   1660045614-3922  https://www.bayut.com/to-rent/apartments/dubai...   \n",
              "\n",
              "                                          pagination  apartmet-link  \\\n",
              "0  https://www.bayut.com/to-rent/apartments/dubai...            NaN   \n",
              "1  https://www.bayut.com/to-rent/apartments/dubai...            NaN   \n",
              "2  https://www.bayut.com/to-rent/apartments/dubai...            NaN   \n",
              "3  https://www.bayut.com/to-rent/apartments/dubai...            NaN   \n",
              "4  https://www.bayut.com/to-rent/apartments/dubai...            NaN   \n",
              "\n",
              "                                  apartmet-link-href building    price  \\\n",
              "0  https://www.bayut.com/property/details-5975062...      NaN  190,000   \n",
              "1  https://www.bayut.com/property/details-5937929...      NaN  165,000   \n",
              "2  https://www.bayut.com/property/details-5577993...      NaN  290,000   \n",
              "3  https://www.bayut.com/property/details-5942993...      NaN  185,000   \n",
              "4  https://www.bayut.com/property/details-6196723...      NaN  130,000   \n",
              "\n",
              "  rent-frequency                                            address    beds  \\\n",
              "0         Yearly        The Address The Blvd, Downtown Dubai, Dubai   1 Bed   \n",
              "1         Yearly              Downtown Views, Downtown Dubai, Dubai  2 Beds   \n",
              "2         Yearly  BLVD Heights Tower 2, BLVD Heights, Downtown D...  2 Beds   \n",
              "3         Yearly        The Address The Blvd, Downtown Dubai, Dubai   1 Bed   \n",
              "4         Yearly              Downtown Views, Downtown Dubai, Dubai   1 Bed   \n",
              "\n",
              "     baths   area-sqft                                  description-title  \\\n",
              "0  2 Baths    905 sqft      1 BR Luxury Unit | Serviced | Fully Furnished   \n",
              "1  3 Baths  1,250 sqft  All Inclusive 15K Monthly | High Floor |  Full...   \n",
              "2  3 Baths  1,759 sqft          AVAILABLE NOW | DUPLEX UNIT |  HIGH FLOOR   \n",
              "3  2 Baths    905 sqft        DIFC View | Vacant | Fully Furnished | 1 BR   \n",
              "4  2 Baths    861 sqft        Available Now | Fully Furnished | Brand New   \n",
              "\n",
              "                                         description            reference-no  \\\n",
              "0  Betterhomes are proud to present this stunning...    Bayut - BHM-R-556121   \n",
              "1  We are delighted to present this fully furnish...  Bayut - MK-R-5701-07-P   \n",
              "2  Housess Global Real Estate is pleased to offer...   Bayut - 879-Ap-R-1951   \n",
              "3  Features:\\n- 1 bed,\\n- 24/7 Security,\\n- Pool,...    Bayut - BHM-R-555721   \n",
              "4  Brought to you by McCone Properties Properties...      Bayut - MCC-R-5685   \n",
              "\n",
              "      date-added balcony-size-sqft parking building-info-name  \\\n",
              "0    23 May 2022               NaN     NaN                NaN   \n",
              "1    10 May 2022               NaN     NaN                NaN   \n",
              "2    4 July 2022               NaN     NaN                NaN   \n",
              "3    12 May 2022               NaN     NaN                NaN   \n",
              "4  3 August 2022               NaN     NaN                NaN   \n",
              "\n",
              "   building-info-floors  building-info-year building-info-area-sqft  \\\n",
              "0                   NaN                 NaN                     NaN   \n",
              "1                   NaN                 NaN                     NaN   \n",
              "2                   NaN                 NaN                     NaN   \n",
              "3                   NaN                 NaN                     NaN   \n",
              "4                   NaN                 NaN                     NaN   \n",
              "\n",
              "    furnishing         features-amenities  \n",
              "0    Furnished  Centrally Air-Conditioned  \n",
              "1    Furnished          Parking Spaces: 1  \n",
              "2  Unfurnished              Swimming Pool  \n",
              "3    Furnished  Centrally Air-Conditioned  \n",
              "4    Furnished                        NaN  "
            ],
            "text/html": [
              "\n",
              "  <div id=\"df-d8d76eeb-f758-4007-abc1-2bad6167cb39\">\n",
              "    <div class=\"colab-df-container\">\n",
              "      <div>\n",
              "<style scoped>\n",
              "    .dataframe tbody tr th:only-of-type {\n",
              "        vertical-align: middle;\n",
              "    }\n",
              "\n",
              "    .dataframe tbody tr th {\n",
              "        vertical-align: top;\n",
              "    }\n",
              "\n",
              "    .dataframe thead th {\n",
              "        text-align: right;\n",
              "    }\n",
              "</style>\n",
              "<table border=\"1\" class=\"dataframe\">\n",
              "  <thead>\n",
              "    <tr style=\"text-align: right;\">\n",
              "      <th></th>\n",
              "      <th>web-scraper-order</th>\n",
              "      <th>web-scraper-start-url</th>\n",
              "      <th>pagination</th>\n",
              "      <th>apartmet-link</th>\n",
              "      <th>apartmet-link-href</th>\n",
              "      <th>building</th>\n",
              "      <th>price</th>\n",
              "      <th>rent-frequency</th>\n",
              "      <th>address</th>\n",
              "      <th>beds</th>\n",
              "      <th>baths</th>\n",
              "      <th>area-sqft</th>\n",
              "      <th>description-title</th>\n",
              "      <th>description</th>\n",
              "      <th>reference-no</th>\n",
              "      <th>date-added</th>\n",
              "      <th>balcony-size-sqft</th>\n",
              "      <th>parking</th>\n",
              "      <th>building-info-name</th>\n",
              "      <th>building-info-floors</th>\n",
              "      <th>building-info-year</th>\n",
              "      <th>building-info-area-sqft</th>\n",
              "      <th>furnishing</th>\n",
              "      <th>features-amenities</th>\n",
              "    </tr>\n",
              "  </thead>\n",
              "  <tbody>\n",
              "    <tr>\n",
              "      <th>0</th>\n",
              "      <td>1660037380-2176</td>\n",
              "      <td>https://www.bayut.com/to-rent/apartments/dubai...</td>\n",
              "      <td>https://www.bayut.com/to-rent/apartments/dubai...</td>\n",
              "      <td>NaN</td>\n",
              "      <td>https://www.bayut.com/property/details-5975062...</td>\n",
              "      <td>NaN</td>\n",
              "      <td>190,000</td>\n",
              "      <td>Yearly</td>\n",
              "      <td>The Address The Blvd, Downtown Dubai, Dubai</td>\n",
              "      <td>1 Bed</td>\n",
              "      <td>2 Baths</td>\n",
              "      <td>905 sqft</td>\n",
              "      <td>1 BR Luxury Unit | Serviced | Fully Furnished</td>\n",
              "      <td>Betterhomes are proud to present this stunning...</td>\n",
              "      <td>Bayut - BHM-R-556121</td>\n",
              "      <td>23 May 2022</td>\n",
              "      <td>NaN</td>\n",
              "      <td>NaN</td>\n",
              "      <td>NaN</td>\n",
              "      <td>NaN</td>\n",
              "      <td>NaN</td>\n",
              "      <td>NaN</td>\n",
              "      <td>Furnished</td>\n",
              "      <td>Centrally Air-Conditioned</td>\n",
              "    </tr>\n",
              "    <tr>\n",
              "      <th>1</th>\n",
              "      <td>1660040273-2805</td>\n",
              "      <td>https://www.bayut.com/to-rent/apartments/dubai...</td>\n",
              "      <td>https://www.bayut.com/to-rent/apartments/dubai...</td>\n",
              "      <td>NaN</td>\n",
              "      <td>https://www.bayut.com/property/details-5937929...</td>\n",
              "      <td>NaN</td>\n",
              "      <td>165,000</td>\n",
              "      <td>Yearly</td>\n",
              "      <td>Downtown Views, Downtown Dubai, Dubai</td>\n",
              "      <td>2 Beds</td>\n",
              "      <td>3 Baths</td>\n",
              "      <td>1,250 sqft</td>\n",
              "      <td>All Inclusive 15K Monthly | High Floor |  Full...</td>\n",
              "      <td>We are delighted to present this fully furnish...</td>\n",
              "      <td>Bayut - MK-R-5701-07-P</td>\n",
              "      <td>10 May 2022</td>\n",
              "      <td>NaN</td>\n",
              "      <td>NaN</td>\n",
              "      <td>NaN</td>\n",
              "      <td>NaN</td>\n",
              "      <td>NaN</td>\n",
              "      <td>NaN</td>\n",
              "      <td>Furnished</td>\n",
              "      <td>Parking Spaces: 1</td>\n",
              "    </tr>\n",
              "    <tr>\n",
              "      <th>2</th>\n",
              "      <td>1660036840-2061</td>\n",
              "      <td>https://www.bayut.com/to-rent/apartments/dubai...</td>\n",
              "      <td>https://www.bayut.com/to-rent/apartments/dubai...</td>\n",
              "      <td>NaN</td>\n",
              "      <td>https://www.bayut.com/property/details-5577993...</td>\n",
              "      <td>NaN</td>\n",
              "      <td>290,000</td>\n",
              "      <td>Yearly</td>\n",
              "      <td>BLVD Heights Tower 2, BLVD Heights, Downtown D...</td>\n",
              "      <td>2 Beds</td>\n",
              "      <td>3 Baths</td>\n",
              "      <td>1,759 sqft</td>\n",
              "      <td>AVAILABLE NOW | DUPLEX UNIT |  HIGH FLOOR</td>\n",
              "      <td>Housess Global Real Estate is pleased to offer...</td>\n",
              "      <td>Bayut - 879-Ap-R-1951</td>\n",
              "      <td>4 July 2022</td>\n",
              "      <td>NaN</td>\n",
              "      <td>NaN</td>\n",
              "      <td>NaN</td>\n",
              "      <td>NaN</td>\n",
              "      <td>NaN</td>\n",
              "      <td>NaN</td>\n",
              "      <td>Unfurnished</td>\n",
              "      <td>Swimming Pool</td>\n",
              "    </tr>\n",
              "    <tr>\n",
              "      <th>3</th>\n",
              "      <td>1660042132-3219</td>\n",
              "      <td>https://www.bayut.com/to-rent/apartments/dubai...</td>\n",
              "      <td>https://www.bayut.com/to-rent/apartments/dubai...</td>\n",
              "      <td>NaN</td>\n",
              "      <td>https://www.bayut.com/property/details-5942993...</td>\n",
              "      <td>NaN</td>\n",
              "      <td>185,000</td>\n",
              "      <td>Yearly</td>\n",
              "      <td>The Address The Blvd, Downtown Dubai, Dubai</td>\n",
              "      <td>1 Bed</td>\n",
              "      <td>2 Baths</td>\n",
              "      <td>905 sqft</td>\n",
              "      <td>DIFC View | Vacant | Fully Furnished | 1 BR</td>\n",
              "      <td>Features:\\n- 1 bed,\\n- 24/7 Security,\\n- Pool,...</td>\n",
              "      <td>Bayut - BHM-R-555721</td>\n",
              "      <td>12 May 2022</td>\n",
              "      <td>NaN</td>\n",
              "      <td>NaN</td>\n",
              "      <td>NaN</td>\n",
              "      <td>NaN</td>\n",
              "      <td>NaN</td>\n",
              "      <td>NaN</td>\n",
              "      <td>Furnished</td>\n",
              "      <td>Centrally Air-Conditioned</td>\n",
              "    </tr>\n",
              "    <tr>\n",
              "      <th>4</th>\n",
              "      <td>1660045614-3922</td>\n",
              "      <td>https://www.bayut.com/to-rent/apartments/dubai...</td>\n",
              "      <td>https://www.bayut.com/to-rent/apartments/dubai...</td>\n",
              "      <td>NaN</td>\n",
              "      <td>https://www.bayut.com/property/details-6196723...</td>\n",
              "      <td>NaN</td>\n",
              "      <td>130,000</td>\n",
              "      <td>Yearly</td>\n",
              "      <td>Downtown Views, Downtown Dubai, Dubai</td>\n",
              "      <td>1 Bed</td>\n",
              "      <td>2 Baths</td>\n",
              "      <td>861 sqft</td>\n",
              "      <td>Available Now | Fully Furnished | Brand New</td>\n",
              "      <td>Brought to you by McCone Properties Properties...</td>\n",
              "      <td>Bayut - MCC-R-5685</td>\n",
              "      <td>3 August 2022</td>\n",
              "      <td>NaN</td>\n",
              "      <td>NaN</td>\n",
              "      <td>NaN</td>\n",
              "      <td>NaN</td>\n",
              "      <td>NaN</td>\n",
              "      <td>NaN</td>\n",
              "      <td>Furnished</td>\n",
              "      <td>NaN</td>\n",
              "    </tr>\n",
              "  </tbody>\n",
              "</table>\n",
              "</div>\n",
              "      <button class=\"colab-df-convert\" onclick=\"convertToInteractive('df-d8d76eeb-f758-4007-abc1-2bad6167cb39')\"\n",
              "              title=\"Convert this dataframe to an interactive table.\"\n",
              "              style=\"display:none;\">\n",
              "        \n",
              "  <svg xmlns=\"http://www.w3.org/2000/svg\" height=\"24px\"viewBox=\"0 0 24 24\"\n",
              "       width=\"24px\">\n",
              "    <path d=\"M0 0h24v24H0V0z\" fill=\"none\"/>\n",
              "    <path d=\"M18.56 5.44l.94 2.06.94-2.06 2.06-.94-2.06-.94-.94-2.06-.94 2.06-2.06.94zm-11 1L8.5 8.5l.94-2.06 2.06-.94-2.06-.94L8.5 2.5l-.94 2.06-2.06.94zm10 10l.94 2.06.94-2.06 2.06-.94-2.06-.94-.94-2.06-.94 2.06-2.06.94z\"/><path d=\"M17.41 7.96l-1.37-1.37c-.4-.4-.92-.59-1.43-.59-.52 0-1.04.2-1.43.59L10.3 9.45l-7.72 7.72c-.78.78-.78 2.05 0 2.83L4 21.41c.39.39.9.59 1.41.59.51 0 1.02-.2 1.41-.59l7.78-7.78 2.81-2.81c.8-.78.8-2.07 0-2.86zM5.41 20L4 18.59l7.72-7.72 1.47 1.35L5.41 20z\"/>\n",
              "  </svg>\n",
              "      </button>\n",
              "      \n",
              "  <style>\n",
              "    .colab-df-container {\n",
              "      display:flex;\n",
              "      flex-wrap:wrap;\n",
              "      gap: 12px;\n",
              "    }\n",
              "\n",
              "    .colab-df-convert {\n",
              "      background-color: #E8F0FE;\n",
              "      border: none;\n",
              "      border-radius: 50%;\n",
              "      cursor: pointer;\n",
              "      display: none;\n",
              "      fill: #1967D2;\n",
              "      height: 32px;\n",
              "      padding: 0 0 0 0;\n",
              "      width: 32px;\n",
              "    }\n",
              "\n",
              "    .colab-df-convert:hover {\n",
              "      background-color: #E2EBFA;\n",
              "      box-shadow: 0px 1px 2px rgba(60, 64, 67, 0.3), 0px 1px 3px 1px rgba(60, 64, 67, 0.15);\n",
              "      fill: #174EA6;\n",
              "    }\n",
              "\n",
              "    [theme=dark] .colab-df-convert {\n",
              "      background-color: #3B4455;\n",
              "      fill: #D2E3FC;\n",
              "    }\n",
              "\n",
              "    [theme=dark] .colab-df-convert:hover {\n",
              "      background-color: #434B5C;\n",
              "      box-shadow: 0px 1px 3px 1px rgba(0, 0, 0, 0.15);\n",
              "      filter: drop-shadow(0px 1px 2px rgba(0, 0, 0, 0.3));\n",
              "      fill: #FFFFFF;\n",
              "    }\n",
              "  </style>\n",
              "\n",
              "      <script>\n",
              "        const buttonEl =\n",
              "          document.querySelector('#df-d8d76eeb-f758-4007-abc1-2bad6167cb39 button.colab-df-convert');\n",
              "        buttonEl.style.display =\n",
              "          google.colab.kernel.accessAllowed ? 'block' : 'none';\n",
              "\n",
              "        async function convertToInteractive(key) {\n",
              "          const element = document.querySelector('#df-d8d76eeb-f758-4007-abc1-2bad6167cb39');\n",
              "          const dataTable =\n",
              "            await google.colab.kernel.invokeFunction('convertToInteractive',\n",
              "                                                     [key], {});\n",
              "          if (!dataTable) return;\n",
              "\n",
              "          const docLinkHtml = 'Like what you see? Visit the ' +\n",
              "            '<a target=\"_blank\" href=https://colab.research.google.com/notebooks/data_table.ipynb>data table notebook</a>'\n",
              "            + ' to learn more about interactive tables.';\n",
              "          element.innerHTML = '';\n",
              "          dataTable['output_type'] = 'display_data';\n",
              "          await google.colab.output.renderOutput(dataTable, element);\n",
              "          const docLink = document.createElement('div');\n",
              "          docLink.innerHTML = docLinkHtml;\n",
              "          element.appendChild(docLink);\n",
              "        }\n",
              "      </script>\n",
              "    </div>\n",
              "  </div>\n",
              "  "
            ]
          },
          "metadata": {},
          "execution_count": 6
        }
      ]
    },
    {
      "cell_type": "markdown",
      "source": [
        "There's a few columns that is not valuable for future analysis such as links, IDs, rent frequency as its only contains annual rent options.  \n",
        "Let's drop those columns."
      ],
      "metadata": {
        "id": "YtPSzDTnbg-G"
      }
    },
    {
      "cell_type": "code",
      "source": [
        "data.drop(['apartmet-link-href','rent-frequency','web-scraper-order','web-scraper-start-url','pagination','apartmet-link', 'building'], axis=1, inplace=True)"
      ],
      "metadata": {
        "id": "HG_Mu_7R6ukL"
      },
      "execution_count": 7,
      "outputs": []
    },
    {
      "cell_type": "code",
      "source": [
        "# for col in data.columns:\n",
        "#     print(col)\n",
        "data.columns"
      ],
      "metadata": {
        "colab": {
          "base_uri": "https://localhost:8080/"
        },
        "id": "aqkNPNrc5vDa",
        "outputId": "7bf165e8-9262-4acc-998a-51c9cfca42aa"
      },
      "execution_count": 8,
      "outputs": [
        {
          "output_type": "execute_result",
          "data": {
            "text/plain": [
              "Index(['price', 'address', 'beds', 'baths', 'area-sqft', 'description-title',\n",
              "       'description', 'reference-no', 'date-added', 'balcony-size-sqft',\n",
              "       'parking', 'building-info-name', 'building-info-floors',\n",
              "       'building-info-year', 'building-info-area-sqft', 'furnishing',\n",
              "       'features-amenities'],\n",
              "      dtype='object')"
            ]
          },
          "metadata": {},
          "execution_count": 8
        }
      ]
    },
    {
      "cell_type": "markdown",
      "source": [
        "First view on data info if there are anything odd or interesting insights"
      ],
      "metadata": {
        "id": "blJrpBrLdUmD"
      }
    },
    {
      "cell_type": "code",
      "source": [
        "data.info()"
      ],
      "metadata": {
        "colab": {
          "base_uri": "https://localhost:8080/"
        },
        "id": "m4tauIsI6nsg",
        "outputId": "985f388a-b84c-4a5f-85e9-6173e9ccf979"
      },
      "execution_count": 9,
      "outputs": [
        {
          "output_type": "stream",
          "name": "stdout",
          "text": [
            "<class 'pandas.core.frame.DataFrame'>\n",
            "RangeIndex: 4824 entries, 0 to 4823\n",
            "Data columns (total 17 columns):\n",
            " #   Column                   Non-Null Count  Dtype  \n",
            "---  ------                   --------------  -----  \n",
            " 0   price                    4824 non-null   object \n",
            " 1   address                  4824 non-null   object \n",
            " 2   beds                     4824 non-null   object \n",
            " 3   baths                    4802 non-null   object \n",
            " 4   area-sqft                4824 non-null   object \n",
            " 5   description-title        4824 non-null   object \n",
            " 6   description              4824 non-null   object \n",
            " 7   reference-no             4824 non-null   object \n",
            " 8   date-added               4824 non-null   object \n",
            " 9   balcony-size-sqft        1069 non-null   object \n",
            " 10  parking                  1188 non-null   object \n",
            " 11  building-info-name       1184 non-null   object \n",
            " 12  building-info-floors     1184 non-null   float64\n",
            " 13  building-info-year       1184 non-null   float64\n",
            " 14  building-info-area-sqft  1038 non-null   object \n",
            " 15  furnishing               3304 non-null   object \n",
            " 16  features-amenities       4049 non-null   object \n",
            "dtypes: float64(2), object(15)\n",
            "memory usage: 640.8+ KB\n"
          ]
        }
      ]
    },
    {
      "cell_type": "markdown",
      "source": [
        "Price is an object, that should be changed as number of beds, baths and some othere data.  \n",
        "Some data are missing, we will deal with that later"
      ],
      "metadata": {
        "id": "mompV0aceE3r"
      }
    },
    {
      "cell_type": "code",
      "source": [
        "data.sample()"
      ],
      "metadata": {
        "colab": {
          "base_uri": "https://localhost:8080/",
          "height": 246
        },
        "id": "ocAsg_5q8lae",
        "outputId": "983c30ad-9402-44f0-e2d1-8d5c7486ed59"
      },
      "execution_count": 10,
      "outputs": [
        {
          "output_type": "execute_result",
          "data": {
            "text/plain": [
              "        price                              address    beds    baths  \\\n",
              "1304  259,999  Burj Khalifa, Downtown Dubai, Dubai  2 Beds  3 Baths   \n",
              "\n",
              "       area-sqft                                 description-title  \\\n",
              "1304  1,716 sqft  Top Premium Apartment | Overlooking the Fountain   \n",
              "\n",
              "                                            description        reference-no  \\\n",
              "1304  This luxury apartment with its privileged loca...  Bayut - AS_MAX_255   \n",
              "\n",
              "       date-added balcony-size-sqft parking building-info-name  \\\n",
              "1304  27 May 2022               NaN     NaN                NaN   \n",
              "\n",
              "      building-info-floors  building-info-year building-info-area-sqft  \\\n",
              "1304                   NaN                 NaN                     NaN   \n",
              "\n",
              "     furnishing features-amenities  \n",
              "1304  Furnished          Furnished  "
            ],
            "text/html": [
              "\n",
              "  <div id=\"df-9fd73124-7690-4fe7-96ee-0598c694bd7d\">\n",
              "    <div class=\"colab-df-container\">\n",
              "      <div>\n",
              "<style scoped>\n",
              "    .dataframe tbody tr th:only-of-type {\n",
              "        vertical-align: middle;\n",
              "    }\n",
              "\n",
              "    .dataframe tbody tr th {\n",
              "        vertical-align: top;\n",
              "    }\n",
              "\n",
              "    .dataframe thead th {\n",
              "        text-align: right;\n",
              "    }\n",
              "</style>\n",
              "<table border=\"1\" class=\"dataframe\">\n",
              "  <thead>\n",
              "    <tr style=\"text-align: right;\">\n",
              "      <th></th>\n",
              "      <th>price</th>\n",
              "      <th>address</th>\n",
              "      <th>beds</th>\n",
              "      <th>baths</th>\n",
              "      <th>area-sqft</th>\n",
              "      <th>description-title</th>\n",
              "      <th>description</th>\n",
              "      <th>reference-no</th>\n",
              "      <th>date-added</th>\n",
              "      <th>balcony-size-sqft</th>\n",
              "      <th>parking</th>\n",
              "      <th>building-info-name</th>\n",
              "      <th>building-info-floors</th>\n",
              "      <th>building-info-year</th>\n",
              "      <th>building-info-area-sqft</th>\n",
              "      <th>furnishing</th>\n",
              "      <th>features-amenities</th>\n",
              "    </tr>\n",
              "  </thead>\n",
              "  <tbody>\n",
              "    <tr>\n",
              "      <th>1304</th>\n",
              "      <td>259,999</td>\n",
              "      <td>Burj Khalifa, Downtown Dubai, Dubai</td>\n",
              "      <td>2 Beds</td>\n",
              "      <td>3 Baths</td>\n",
              "      <td>1,716 sqft</td>\n",
              "      <td>Top Premium Apartment | Overlooking the Fountain</td>\n",
              "      <td>This luxury apartment with its privileged loca...</td>\n",
              "      <td>Bayut - AS_MAX_255</td>\n",
              "      <td>27 May 2022</td>\n",
              "      <td>NaN</td>\n",
              "      <td>NaN</td>\n",
              "      <td>NaN</td>\n",
              "      <td>NaN</td>\n",
              "      <td>NaN</td>\n",
              "      <td>NaN</td>\n",
              "      <td>Furnished</td>\n",
              "      <td>Furnished</td>\n",
              "    </tr>\n",
              "  </tbody>\n",
              "</table>\n",
              "</div>\n",
              "      <button class=\"colab-df-convert\" onclick=\"convertToInteractive('df-9fd73124-7690-4fe7-96ee-0598c694bd7d')\"\n",
              "              title=\"Convert this dataframe to an interactive table.\"\n",
              "              style=\"display:none;\">\n",
              "        \n",
              "  <svg xmlns=\"http://www.w3.org/2000/svg\" height=\"24px\"viewBox=\"0 0 24 24\"\n",
              "       width=\"24px\">\n",
              "    <path d=\"M0 0h24v24H0V0z\" fill=\"none\"/>\n",
              "    <path d=\"M18.56 5.44l.94 2.06.94-2.06 2.06-.94-2.06-.94-.94-2.06-.94 2.06-2.06.94zm-11 1L8.5 8.5l.94-2.06 2.06-.94-2.06-.94L8.5 2.5l-.94 2.06-2.06.94zm10 10l.94 2.06.94-2.06 2.06-.94-2.06-.94-.94-2.06-.94 2.06-2.06.94z\"/><path d=\"M17.41 7.96l-1.37-1.37c-.4-.4-.92-.59-1.43-.59-.52 0-1.04.2-1.43.59L10.3 9.45l-7.72 7.72c-.78.78-.78 2.05 0 2.83L4 21.41c.39.39.9.59 1.41.59.51 0 1.02-.2 1.41-.59l7.78-7.78 2.81-2.81c.8-.78.8-2.07 0-2.86zM5.41 20L4 18.59l7.72-7.72 1.47 1.35L5.41 20z\"/>\n",
              "  </svg>\n",
              "      </button>\n",
              "      \n",
              "  <style>\n",
              "    .colab-df-container {\n",
              "      display:flex;\n",
              "      flex-wrap:wrap;\n",
              "      gap: 12px;\n",
              "    }\n",
              "\n",
              "    .colab-df-convert {\n",
              "      background-color: #E8F0FE;\n",
              "      border: none;\n",
              "      border-radius: 50%;\n",
              "      cursor: pointer;\n",
              "      display: none;\n",
              "      fill: #1967D2;\n",
              "      height: 32px;\n",
              "      padding: 0 0 0 0;\n",
              "      width: 32px;\n",
              "    }\n",
              "\n",
              "    .colab-df-convert:hover {\n",
              "      background-color: #E2EBFA;\n",
              "      box-shadow: 0px 1px 2px rgba(60, 64, 67, 0.3), 0px 1px 3px 1px rgba(60, 64, 67, 0.15);\n",
              "      fill: #174EA6;\n",
              "    }\n",
              "\n",
              "    [theme=dark] .colab-df-convert {\n",
              "      background-color: #3B4455;\n",
              "      fill: #D2E3FC;\n",
              "    }\n",
              "\n",
              "    [theme=dark] .colab-df-convert:hover {\n",
              "      background-color: #434B5C;\n",
              "      box-shadow: 0px 1px 3px 1px rgba(0, 0, 0, 0.15);\n",
              "      filter: drop-shadow(0px 1px 2px rgba(0, 0, 0, 0.3));\n",
              "      fill: #FFFFFF;\n",
              "    }\n",
              "  </style>\n",
              "\n",
              "      <script>\n",
              "        const buttonEl =\n",
              "          document.querySelector('#df-9fd73124-7690-4fe7-96ee-0598c694bd7d button.colab-df-convert');\n",
              "        buttonEl.style.display =\n",
              "          google.colab.kernel.accessAllowed ? 'block' : 'none';\n",
              "\n",
              "        async function convertToInteractive(key) {\n",
              "          const element = document.querySelector('#df-9fd73124-7690-4fe7-96ee-0598c694bd7d');\n",
              "          const dataTable =\n",
              "            await google.colab.kernel.invokeFunction('convertToInteractive',\n",
              "                                                     [key], {});\n",
              "          if (!dataTable) return;\n",
              "\n",
              "          const docLinkHtml = 'Like what you see? Visit the ' +\n",
              "            '<a target=\"_blank\" href=https://colab.research.google.com/notebooks/data_table.ipynb>data table notebook</a>'\n",
              "            + ' to learn more about interactive tables.';\n",
              "          element.innerHTML = '';\n",
              "          dataTable['output_type'] = 'display_data';\n",
              "          await google.colab.output.renderOutput(dataTable, element);\n",
              "          const docLink = document.createElement('div');\n",
              "          docLink.innerHTML = docLinkHtml;\n",
              "          element.appendChild(docLink);\n",
              "        }\n",
              "      </script>\n",
              "    </div>\n",
              "  </div>\n",
              "  "
            ]
          },
          "metadata": {},
          "execution_count": 10
        }
      ]
    },
    {
      "cell_type": "markdown",
      "source": [
        "## Data Preprocessing"
      ],
      "metadata": {
        "id": "Smpbqem5sacB"
      }
    },
    {
      "cell_type": "markdown",
      "source": [
        "### Price column"
      ],
      "metadata": {
        "id": "JtJW1HcJtI8E"
      }
    },
    {
      "cell_type": "markdown",
      "source": [
        "For column with price converting it to data type int, but first removing comma."
      ],
      "metadata": {
        "id": "tMLyWMUGi2I2"
      }
    },
    {
      "cell_type": "code",
      "source": [
        "data['price'] = data['price'].str.replace(',','').astype(float).astype(int)\n",
        "data['price'].sample(5)"
      ],
      "metadata": {
        "colab": {
          "base_uri": "https://localhost:8080/"
        },
        "id": "bnQQM1_nepKC",
        "outputId": "34076ff0-160f-492e-95c1-c3e0ba9eeab6"
      },
      "execution_count": 11,
      "outputs": [
        {
          "output_type": "execute_result",
          "data": {
            "text/plain": [
              "4490    250000\n",
              "1158    600000\n",
              "4279     95000\n",
              "4216    350000\n",
              "99      145000\n",
              "Name: price, dtype: int64"
            ]
          },
          "metadata": {},
          "execution_count": 11
        }
      ]
    },
    {
      "cell_type": "markdown",
      "source": [
        "### Bedrooms column"
      ],
      "metadata": {
        "id": "pdNDbWwStNdN"
      }
    },
    {
      "cell_type": "markdown",
      "source": [
        "For column with number of bedrooms, let's see how many unique values are there and then replace it with a number, if that is a studio then replace it with 0."
      ],
      "metadata": {
        "id": "ldvYCmxmjccc"
      }
    },
    {
      "cell_type": "code",
      "source": [
        "data['beds'].unique()"
      ],
      "metadata": {
        "colab": {
          "base_uri": "https://localhost:8080/"
        },
        "id": "CjVwhh9j9MR7",
        "outputId": "d4ce88dd-ce24-406d-d919-f87b38b04c32"
      },
      "execution_count": 12,
      "outputs": [
        {
          "output_type": "execute_result",
          "data": {
            "text/plain": [
              "array(['1 Bed', '2 Beds', 'Studio', '3 Beds', '4 Beds', '5 Beds'],\n",
              "      dtype=object)"
            ]
          },
          "metadata": {},
          "execution_count": 12
        }
      ]
    },
    {
      "cell_type": "code",
      "source": [
        "data['beds'] = data['beds'].replace(\n",
        "    {'Studio': 0,\n",
        "     '1 Bed': 1,\n",
        "     '2 Beds': 2,\n",
        "     '3 Beds': 3,\n",
        "     '4 Beds': 4,\n",
        "     '5 Beds': 5,\n",
        "    }\n",
        "  )\n"
      ],
      "metadata": {
        "id": "y5IcYSfOBgSp"
      },
      "execution_count": 13,
      "outputs": []
    },
    {
      "cell_type": "markdown",
      "source": [
        "### Address column"
      ],
      "metadata": {
        "id": "jGPAt0batbDJ"
      }
    },
    {
      "cell_type": "markdown",
      "source": [
        "For column with address, it has name of the city, area, bulding name or even a complecs of buildings name.  \n",
        "We need it to be separated to diferent columns for future analysis. We can see that a bulding name is always goes first, city is always the last and before city is area name.  \n",
        "So, let's split the address and save each element to a new column."
      ],
      "metadata": {
        "id": "fdzQpTaJkR_Z"
      }
    },
    {
      "cell_type": "code",
      "source": [
        "data['address_city'] = data['address'].str.split(', ').str[-1]\n",
        "data['address_area'] = data['address'].str.split(', ').str[-2]\n",
        "data['address_building'] = data['address'].str.split(', ').str[0]"
      ],
      "metadata": {
        "id": "DX6cfizQE0Xd"
      },
      "execution_count": 14,
      "outputs": []
    },
    {
      "cell_type": "code",
      "source": [
        "data[['address', 'address_city', 'address_area', 'address_building']].sample(5)"
      ],
      "metadata": {
        "colab": {
          "base_uri": "https://localhost:8080/",
          "height": 204
        },
        "id": "opV7SY38FpsY",
        "outputId": "0c0852ad-94b1-41e5-cca0-ccb20f3d573a"
      },
      "execution_count": 15,
      "outputs": [
        {
          "output_type": "execute_result",
          "data": {
            "text/plain": [
              "                                                address address_city  \\\n",
              "2696              Downtown Views, Downtown Dubai, Dubai        Dubai   \n",
              "748               Downtown Views, Downtown Dubai, Dubai        Dubai   \n",
              "4322    Burj Vista 1, Burj Vista, Downtown Dubai, Dubai        Dubai   \n",
              "3610  29 Boulevard 2, 29 Boulevard, Downtown Dubai, ...        Dubai   \n",
              "4276  The Address Sky View Tower 2, The Address Sky ...        Dubai   \n",
              "\n",
              "        address_area              address_building  \n",
              "2696  Downtown Dubai                Downtown Views  \n",
              "748   Downtown Dubai                Downtown Views  \n",
              "4322  Downtown Dubai                  Burj Vista 1  \n",
              "3610  Downtown Dubai                29 Boulevard 2  \n",
              "4276  Downtown Dubai  The Address Sky View Tower 2  "
            ],
            "text/html": [
              "\n",
              "  <div id=\"df-5e1b371d-dbff-48d4-8006-7520aa23d719\">\n",
              "    <div class=\"colab-df-container\">\n",
              "      <div>\n",
              "<style scoped>\n",
              "    .dataframe tbody tr th:only-of-type {\n",
              "        vertical-align: middle;\n",
              "    }\n",
              "\n",
              "    .dataframe tbody tr th {\n",
              "        vertical-align: top;\n",
              "    }\n",
              "\n",
              "    .dataframe thead th {\n",
              "        text-align: right;\n",
              "    }\n",
              "</style>\n",
              "<table border=\"1\" class=\"dataframe\">\n",
              "  <thead>\n",
              "    <tr style=\"text-align: right;\">\n",
              "      <th></th>\n",
              "      <th>address</th>\n",
              "      <th>address_city</th>\n",
              "      <th>address_area</th>\n",
              "      <th>address_building</th>\n",
              "    </tr>\n",
              "  </thead>\n",
              "  <tbody>\n",
              "    <tr>\n",
              "      <th>2696</th>\n",
              "      <td>Downtown Views, Downtown Dubai, Dubai</td>\n",
              "      <td>Dubai</td>\n",
              "      <td>Downtown Dubai</td>\n",
              "      <td>Downtown Views</td>\n",
              "    </tr>\n",
              "    <tr>\n",
              "      <th>748</th>\n",
              "      <td>Downtown Views, Downtown Dubai, Dubai</td>\n",
              "      <td>Dubai</td>\n",
              "      <td>Downtown Dubai</td>\n",
              "      <td>Downtown Views</td>\n",
              "    </tr>\n",
              "    <tr>\n",
              "      <th>4322</th>\n",
              "      <td>Burj Vista 1, Burj Vista, Downtown Dubai, Dubai</td>\n",
              "      <td>Dubai</td>\n",
              "      <td>Downtown Dubai</td>\n",
              "      <td>Burj Vista 1</td>\n",
              "    </tr>\n",
              "    <tr>\n",
              "      <th>3610</th>\n",
              "      <td>29 Boulevard 2, 29 Boulevard, Downtown Dubai, ...</td>\n",
              "      <td>Dubai</td>\n",
              "      <td>Downtown Dubai</td>\n",
              "      <td>29 Boulevard 2</td>\n",
              "    </tr>\n",
              "    <tr>\n",
              "      <th>4276</th>\n",
              "      <td>The Address Sky View Tower 2, The Address Sky ...</td>\n",
              "      <td>Dubai</td>\n",
              "      <td>Downtown Dubai</td>\n",
              "      <td>The Address Sky View Tower 2</td>\n",
              "    </tr>\n",
              "  </tbody>\n",
              "</table>\n",
              "</div>\n",
              "      <button class=\"colab-df-convert\" onclick=\"convertToInteractive('df-5e1b371d-dbff-48d4-8006-7520aa23d719')\"\n",
              "              title=\"Convert this dataframe to an interactive table.\"\n",
              "              style=\"display:none;\">\n",
              "        \n",
              "  <svg xmlns=\"http://www.w3.org/2000/svg\" height=\"24px\"viewBox=\"0 0 24 24\"\n",
              "       width=\"24px\">\n",
              "    <path d=\"M0 0h24v24H0V0z\" fill=\"none\"/>\n",
              "    <path d=\"M18.56 5.44l.94 2.06.94-2.06 2.06-.94-2.06-.94-.94-2.06-.94 2.06-2.06.94zm-11 1L8.5 8.5l.94-2.06 2.06-.94-2.06-.94L8.5 2.5l-.94 2.06-2.06.94zm10 10l.94 2.06.94-2.06 2.06-.94-2.06-.94-.94-2.06-.94 2.06-2.06.94z\"/><path d=\"M17.41 7.96l-1.37-1.37c-.4-.4-.92-.59-1.43-.59-.52 0-1.04.2-1.43.59L10.3 9.45l-7.72 7.72c-.78.78-.78 2.05 0 2.83L4 21.41c.39.39.9.59 1.41.59.51 0 1.02-.2 1.41-.59l7.78-7.78 2.81-2.81c.8-.78.8-2.07 0-2.86zM5.41 20L4 18.59l7.72-7.72 1.47 1.35L5.41 20z\"/>\n",
              "  </svg>\n",
              "      </button>\n",
              "      \n",
              "  <style>\n",
              "    .colab-df-container {\n",
              "      display:flex;\n",
              "      flex-wrap:wrap;\n",
              "      gap: 12px;\n",
              "    }\n",
              "\n",
              "    .colab-df-convert {\n",
              "      background-color: #E8F0FE;\n",
              "      border: none;\n",
              "      border-radius: 50%;\n",
              "      cursor: pointer;\n",
              "      display: none;\n",
              "      fill: #1967D2;\n",
              "      height: 32px;\n",
              "      padding: 0 0 0 0;\n",
              "      width: 32px;\n",
              "    }\n",
              "\n",
              "    .colab-df-convert:hover {\n",
              "      background-color: #E2EBFA;\n",
              "      box-shadow: 0px 1px 2px rgba(60, 64, 67, 0.3), 0px 1px 3px 1px rgba(60, 64, 67, 0.15);\n",
              "      fill: #174EA6;\n",
              "    }\n",
              "\n",
              "    [theme=dark] .colab-df-convert {\n",
              "      background-color: #3B4455;\n",
              "      fill: #D2E3FC;\n",
              "    }\n",
              "\n",
              "    [theme=dark] .colab-df-convert:hover {\n",
              "      background-color: #434B5C;\n",
              "      box-shadow: 0px 1px 3px 1px rgba(0, 0, 0, 0.15);\n",
              "      filter: drop-shadow(0px 1px 2px rgba(0, 0, 0, 0.3));\n",
              "      fill: #FFFFFF;\n",
              "    }\n",
              "  </style>\n",
              "\n",
              "      <script>\n",
              "        const buttonEl =\n",
              "          document.querySelector('#df-5e1b371d-dbff-48d4-8006-7520aa23d719 button.colab-df-convert');\n",
              "        buttonEl.style.display =\n",
              "          google.colab.kernel.accessAllowed ? 'block' : 'none';\n",
              "\n",
              "        async function convertToInteractive(key) {\n",
              "          const element = document.querySelector('#df-5e1b371d-dbff-48d4-8006-7520aa23d719');\n",
              "          const dataTable =\n",
              "            await google.colab.kernel.invokeFunction('convertToInteractive',\n",
              "                                                     [key], {});\n",
              "          if (!dataTable) return;\n",
              "\n",
              "          const docLinkHtml = 'Like what you see? Visit the ' +\n",
              "            '<a target=\"_blank\" href=https://colab.research.google.com/notebooks/data_table.ipynb>data table notebook</a>'\n",
              "            + ' to learn more about interactive tables.';\n",
              "          element.innerHTML = '';\n",
              "          dataTable['output_type'] = 'display_data';\n",
              "          await google.colab.output.renderOutput(dataTable, element);\n",
              "          const docLink = document.createElement('div');\n",
              "          docLink.innerHTML = docLinkHtml;\n",
              "          element.appendChild(docLink);\n",
              "        }\n",
              "      </script>\n",
              "    </div>\n",
              "  </div>\n",
              "  "
            ]
          },
          "metadata": {},
          "execution_count": 15
        }
      ]
    },
    {
      "cell_type": "markdown",
      "source": [
        "We no longer needed column with address, let's drop it."
      ],
      "metadata": {
        "id": "_oyF17I8mlmB"
      }
    },
    {
      "cell_type": "code",
      "source": [
        "data.drop(['address'], axis=1, inplace=True)"
      ],
      "metadata": {
        "id": "MEZIJCEVZV6k"
      },
      "execution_count": 16,
      "outputs": []
    },
    {
      "cell_type": "markdown",
      "source": [
        "### Bathrooms column"
      ],
      "metadata": {
        "id": "6Pctn7ketixh"
      }
    },
    {
      "cell_type": "markdown",
      "source": [
        "Similar to bedrooms column first checking unique values and then will replace it with numbers to have it as an int data type. Also there are 22 missing values."
      ],
      "metadata": {
        "id": "L-_48Khetvnu"
      }
    },
    {
      "cell_type": "code",
      "source": [
        "data['baths'].unique()"
      ],
      "metadata": {
        "colab": {
          "base_uri": "https://localhost:8080/"
        },
        "id": "7VMEHKH_t-_d",
        "outputId": "d389da9a-dd26-4b74-8467-3aef493bd798"
      },
      "execution_count": 17,
      "outputs": [
        {
          "output_type": "execute_result",
          "data": {
            "text/plain": [
              "array(['2 Baths', '3 Baths', '1 Bath', '5 Baths', '4 Baths', nan,\n",
              "       '6 Baths'], dtype=object)"
            ]
          },
          "metadata": {},
          "execution_count": 17
        }
      ]
    },
    {
      "cell_type": "code",
      "source": [
        "len(data[data['baths'].isnull()])"
      ],
      "metadata": {
        "colab": {
          "base_uri": "https://localhost:8080/"
        },
        "id": "r6sfsVTOzhy-",
        "outputId": "94fdb9f6-8c0f-4d19-ed4f-cc208b9ecc64"
      },
      "execution_count": 18,
      "outputs": [
        {
          "output_type": "execute_result",
          "data": {
            "text/plain": [
              "22"
            ]
          },
          "metadata": {},
          "execution_count": 18
        }
      ]
    },
    {
      "cell_type": "markdown",
      "source": [
        "As we can see there's many apartments with huge area and a few bedrooms, at least it should have 1 bathrom.  \n",
        "However, if we will fill mising values with 1 it might confuse our next analysis.  As it is only 22 missings we can just drop it. \n",
        "But, maybe later will comback to this and try to extract info from other columns such as description column.\n",
        "\n",
        "On the next step will drop missing values, replace strings to numbers and check unique values."
      ],
      "metadata": {
        "id": "FgdTE2qY1w_M"
      }
    },
    {
      "cell_type": "code",
      "source": [
        "data.dropna(subset=['baths'], inplace=True)"
      ],
      "metadata": {
        "id": "ufSXwauq3PdA"
      },
      "execution_count": 19,
      "outputs": []
    },
    {
      "cell_type": "code",
      "source": [
        "data['baths'] = data['baths'].replace(\n",
        "    {'1 Bath': 1,\n",
        "     '2 Baths': 2,\n",
        "     '3 Baths': 3,\n",
        "     '4 Baths': 4,\n",
        "     '5 Baths': 5,\n",
        "     '6 Baths': 6,\n",
        "    }\n",
        "  ).astype(int)"
      ],
      "metadata": {
        "id": "wFQBUdG_thRk"
      },
      "execution_count": 20,
      "outputs": []
    },
    {
      "cell_type": "code",
      "source": [
        "data['baths'].unique()"
      ],
      "metadata": {
        "colab": {
          "base_uri": "https://localhost:8080/"
        },
        "id": "gF0O5nu63r68",
        "outputId": "4857418c-9d4c-4772-968f-32c4b6ae8581"
      },
      "execution_count": 21,
      "outputs": [
        {
          "output_type": "execute_result",
          "data": {
            "text/plain": [
              "array([2, 3, 1, 5, 4, 6])"
            ]
          },
          "metadata": {},
          "execution_count": 21
        }
      ]
    },
    {
      "cell_type": "markdown",
      "source": [
        "### Area (sqft) column"
      ],
      "metadata": {
        "id": "tT99BK735miw"
      }
    },
    {
      "cell_type": "markdown",
      "source": [
        "Replace commas and sqft then convert to int data type. Check first 5 rows."
      ],
      "metadata": {
        "id": "osg0r-PJ6z-9"
      }
    },
    {
      "cell_type": "code",
      "source": [
        "data['area-sqft'] = (\n",
        "    data['area-sqft']\n",
        "    .str.replace('sqft','')\n",
        "    .str.replace(',','')\n",
        "    .astype(float)\n",
        "    .astype(int)\n",
        "    )\n",
        "data['area-sqft'].head(5)"
      ],
      "metadata": {
        "colab": {
          "base_uri": "https://localhost:8080/"
        },
        "id": "XjqcxES-4ihn",
        "outputId": "fe704539-d7da-4370-fc61-76d359886b67"
      },
      "execution_count": 22,
      "outputs": [
        {
          "output_type": "execute_result",
          "data": {
            "text/plain": [
              "0     905\n",
              "1    1250\n",
              "2    1759\n",
              "3     905\n",
              "4     861\n",
              "Name: area-sqft, dtype: int64"
            ]
          },
          "metadata": {},
          "execution_count": 22
        }
      ]
    },
    {
      "cell_type": "markdown",
      "source": [
        "### Date column"
      ],
      "metadata": {
        "id": "T9QMbMLH8hpl"
      }
    },
    {
      "cell_type": "markdown",
      "source": [
        "Converting column with date to datetime format"
      ],
      "metadata": {
        "id": "WCBPlMMfAcd3"
      }
    },
    {
      "cell_type": "code",
      "source": [
        "data['date-added'] = pd.to_datetime(data['date-added'], format = \"%d %B %Y\")"
      ],
      "metadata": {
        "id": "qhvdje5S6SCE"
      },
      "execution_count": 23,
      "outputs": []
    },
    {
      "cell_type": "markdown",
      "source": [
        "Adding four new columns with year, month, day and weekday"
      ],
      "metadata": {
        "id": "Vo7bYUZG_46U"
      }
    },
    {
      "cell_type": "code",
      "source": [
        "data['year'] = pd.DatetimeIndex(data['date-added']).year \n",
        "data['month'] = pd.DatetimeIndex(data['date-added']).month \n",
        "data['day'] = pd.DatetimeIndex(data['date-added']).day\n",
        "data['weekday'] = pd.DatetimeIndex(data['date-added']).weekday"
      ],
      "metadata": {
        "id": "1JCq4l5Q_jdK"
      },
      "execution_count": 24,
      "outputs": []
    },
    {
      "cell_type": "code",
      "source": [
        "data[['date-added', 'year', 'day', 'month', 'weekday']].head(5)"
      ],
      "metadata": {
        "colab": {
          "base_uri": "https://localhost:8080/",
          "height": 204
        },
        "id": "T4d8iQc0ABqu",
        "outputId": "b13e9b06-72f8-4b5c-a679-391daeddbab9"
      },
      "execution_count": 25,
      "outputs": [
        {
          "output_type": "execute_result",
          "data": {
            "text/plain": [
              "  date-added  year  day  month  weekday\n",
              "0 2022-05-23  2022   23      5        0\n",
              "1 2022-05-10  2022   10      5        1\n",
              "2 2022-07-04  2022    4      7        0\n",
              "3 2022-05-12  2022   12      5        3\n",
              "4 2022-08-03  2022    3      8        2"
            ],
            "text/html": [
              "\n",
              "  <div id=\"df-962d5f8c-69b4-45a8-b2be-855dc6b67b8c\">\n",
              "    <div class=\"colab-df-container\">\n",
              "      <div>\n",
              "<style scoped>\n",
              "    .dataframe tbody tr th:only-of-type {\n",
              "        vertical-align: middle;\n",
              "    }\n",
              "\n",
              "    .dataframe tbody tr th {\n",
              "        vertical-align: top;\n",
              "    }\n",
              "\n",
              "    .dataframe thead th {\n",
              "        text-align: right;\n",
              "    }\n",
              "</style>\n",
              "<table border=\"1\" class=\"dataframe\">\n",
              "  <thead>\n",
              "    <tr style=\"text-align: right;\">\n",
              "      <th></th>\n",
              "      <th>date-added</th>\n",
              "      <th>year</th>\n",
              "      <th>day</th>\n",
              "      <th>month</th>\n",
              "      <th>weekday</th>\n",
              "    </tr>\n",
              "  </thead>\n",
              "  <tbody>\n",
              "    <tr>\n",
              "      <th>0</th>\n",
              "      <td>2022-05-23</td>\n",
              "      <td>2022</td>\n",
              "      <td>23</td>\n",
              "      <td>5</td>\n",
              "      <td>0</td>\n",
              "    </tr>\n",
              "    <tr>\n",
              "      <th>1</th>\n",
              "      <td>2022-05-10</td>\n",
              "      <td>2022</td>\n",
              "      <td>10</td>\n",
              "      <td>5</td>\n",
              "      <td>1</td>\n",
              "    </tr>\n",
              "    <tr>\n",
              "      <th>2</th>\n",
              "      <td>2022-07-04</td>\n",
              "      <td>2022</td>\n",
              "      <td>4</td>\n",
              "      <td>7</td>\n",
              "      <td>0</td>\n",
              "    </tr>\n",
              "    <tr>\n",
              "      <th>3</th>\n",
              "      <td>2022-05-12</td>\n",
              "      <td>2022</td>\n",
              "      <td>12</td>\n",
              "      <td>5</td>\n",
              "      <td>3</td>\n",
              "    </tr>\n",
              "    <tr>\n",
              "      <th>4</th>\n",
              "      <td>2022-08-03</td>\n",
              "      <td>2022</td>\n",
              "      <td>3</td>\n",
              "      <td>8</td>\n",
              "      <td>2</td>\n",
              "    </tr>\n",
              "  </tbody>\n",
              "</table>\n",
              "</div>\n",
              "      <button class=\"colab-df-convert\" onclick=\"convertToInteractive('df-962d5f8c-69b4-45a8-b2be-855dc6b67b8c')\"\n",
              "              title=\"Convert this dataframe to an interactive table.\"\n",
              "              style=\"display:none;\">\n",
              "        \n",
              "  <svg xmlns=\"http://www.w3.org/2000/svg\" height=\"24px\"viewBox=\"0 0 24 24\"\n",
              "       width=\"24px\">\n",
              "    <path d=\"M0 0h24v24H0V0z\" fill=\"none\"/>\n",
              "    <path d=\"M18.56 5.44l.94 2.06.94-2.06 2.06-.94-2.06-.94-.94-2.06-.94 2.06-2.06.94zm-11 1L8.5 8.5l.94-2.06 2.06-.94-2.06-.94L8.5 2.5l-.94 2.06-2.06.94zm10 10l.94 2.06.94-2.06 2.06-.94-2.06-.94-.94-2.06-.94 2.06-2.06.94z\"/><path d=\"M17.41 7.96l-1.37-1.37c-.4-.4-.92-.59-1.43-.59-.52 0-1.04.2-1.43.59L10.3 9.45l-7.72 7.72c-.78.78-.78 2.05 0 2.83L4 21.41c.39.39.9.59 1.41.59.51 0 1.02-.2 1.41-.59l7.78-7.78 2.81-2.81c.8-.78.8-2.07 0-2.86zM5.41 20L4 18.59l7.72-7.72 1.47 1.35L5.41 20z\"/>\n",
              "  </svg>\n",
              "      </button>\n",
              "      \n",
              "  <style>\n",
              "    .colab-df-container {\n",
              "      display:flex;\n",
              "      flex-wrap:wrap;\n",
              "      gap: 12px;\n",
              "    }\n",
              "\n",
              "    .colab-df-convert {\n",
              "      background-color: #E8F0FE;\n",
              "      border: none;\n",
              "      border-radius: 50%;\n",
              "      cursor: pointer;\n",
              "      display: none;\n",
              "      fill: #1967D2;\n",
              "      height: 32px;\n",
              "      padding: 0 0 0 0;\n",
              "      width: 32px;\n",
              "    }\n",
              "\n",
              "    .colab-df-convert:hover {\n",
              "      background-color: #E2EBFA;\n",
              "      box-shadow: 0px 1px 2px rgba(60, 64, 67, 0.3), 0px 1px 3px 1px rgba(60, 64, 67, 0.15);\n",
              "      fill: #174EA6;\n",
              "    }\n",
              "\n",
              "    [theme=dark] .colab-df-convert {\n",
              "      background-color: #3B4455;\n",
              "      fill: #D2E3FC;\n",
              "    }\n",
              "\n",
              "    [theme=dark] .colab-df-convert:hover {\n",
              "      background-color: #434B5C;\n",
              "      box-shadow: 0px 1px 3px 1px rgba(0, 0, 0, 0.15);\n",
              "      filter: drop-shadow(0px 1px 2px rgba(0, 0, 0, 0.3));\n",
              "      fill: #FFFFFF;\n",
              "    }\n",
              "  </style>\n",
              "\n",
              "      <script>\n",
              "        const buttonEl =\n",
              "          document.querySelector('#df-962d5f8c-69b4-45a8-b2be-855dc6b67b8c button.colab-df-convert');\n",
              "        buttonEl.style.display =\n",
              "          google.colab.kernel.accessAllowed ? 'block' : 'none';\n",
              "\n",
              "        async function convertToInteractive(key) {\n",
              "          const element = document.querySelector('#df-962d5f8c-69b4-45a8-b2be-855dc6b67b8c');\n",
              "          const dataTable =\n",
              "            await google.colab.kernel.invokeFunction('convertToInteractive',\n",
              "                                                     [key], {});\n",
              "          if (!dataTable) return;\n",
              "\n",
              "          const docLinkHtml = 'Like what you see? Visit the ' +\n",
              "            '<a target=\"_blank\" href=https://colab.research.google.com/notebooks/data_table.ipynb>data table notebook</a>'\n",
              "            + ' to learn more about interactive tables.';\n",
              "          element.innerHTML = '';\n",
              "          dataTable['output_type'] = 'display_data';\n",
              "          await google.colab.output.renderOutput(dataTable, element);\n",
              "          const docLink = document.createElement('div');\n",
              "          docLink.innerHTML = docLinkHtml;\n",
              "          element.appendChild(docLink);\n",
              "        }\n",
              "      </script>\n",
              "    </div>\n",
              "  </div>\n",
              "  "
            ]
          },
          "metadata": {},
          "execution_count": 25
        }
      ]
    },
    {
      "cell_type": "markdown",
      "source": [
        "### Furnishing column"
      ],
      "metadata": {
        "id": "CIllZkcOCmjU"
      }
    },
    {
      "cell_type": "code",
      "source": [
        "data['furnishing'].unique()"
      ],
      "metadata": {
        "colab": {
          "base_uri": "https://localhost:8080/"
        },
        "id": "_o97n4oQBEx6",
        "outputId": "8997f8de-1157-4c36-a6ae-dd03d41cf7ea"
      },
      "execution_count": 26,
      "outputs": [
        {
          "output_type": "execute_result",
          "data": {
            "text/plain": [
              "array(['Furnished', 'Unfurnished', nan], dtype=object)"
            ]
          },
          "metadata": {},
          "execution_count": 26
        }
      ]
    },
    {
      "cell_type": "markdown",
      "source": [
        "Replacing **NaN** with **-1** value, **Furnished** as **1** and **Unfurnished** as **0**"
      ],
      "metadata": {
        "id": "kwwVi8DvxI24"
      }
    },
    {
      "cell_type": "code",
      "source": [
        "data['furnishing'] = data['furnishing'].fillna(-1)"
      ],
      "metadata": {
        "id": "GD6gEUzQwrfu"
      },
      "execution_count": 27,
      "outputs": []
    },
    {
      "cell_type": "code",
      "source": [
        "data['furnishing'] = data['furnishing'].replace(\n",
        "    {'Furnished': 1,\n",
        "     'Unfurnished': 0,\n",
        "    }\n",
        "  ).astype(int)"
      ],
      "metadata": {
        "id": "VF5xNrEkwOWu"
      },
      "execution_count": 28,
      "outputs": []
    },
    {
      "cell_type": "code",
      "source": [
        "data['furnishing'].unique()"
      ],
      "metadata": {
        "colab": {
          "base_uri": "https://localhost:8080/"
        },
        "id": "QPOwJLPZw0dM",
        "outputId": "a77e44ba-f4d9-4847-902f-6bd3858c565a"
      },
      "execution_count": 29,
      "outputs": [
        {
          "output_type": "execute_result",
          "data": {
            "text/plain": [
              "array([ 1,  0, -1])"
            ]
          },
          "metadata": {},
          "execution_count": 29
        }
      ]
    },
    {
      "cell_type": "markdown",
      "source": [
        "### Balcony (sqft) column"
      ],
      "metadata": {
        "id": "hkD-_9Uo2rfM"
      }
    },
    {
      "cell_type": "markdown",
      "source": [
        "Replacing missing values with string **'-1'**, then with the rest dropping sqft and converting to int data type."
      ],
      "metadata": {
        "id": "r832xPpGBDDQ"
      }
    },
    {
      "cell_type": "code",
      "source": [
        "data['balcony-size-sqft'] = data['balcony-size-sqft'].fillna('-1')"
      ],
      "metadata": {
        "id": "zCt1CMcG5yUL"
      },
      "execution_count": 30,
      "outputs": []
    },
    {
      "cell_type": "code",
      "source": [
        "data['balcony-size-sqft'] = (\n",
        "    data['balcony-size-sqft']\n",
        "    .str.replace('sqft','')\n",
        "    .str.replace(',','')\n",
        "    .astype(float)\n",
        "    .astype(int)\n",
        "    )"
      ],
      "metadata": {
        "id": "uNpt6PwH5jvt"
      },
      "execution_count": 31,
      "outputs": []
    },
    {
      "cell_type": "markdown",
      "source": [
        "### Parking"
      ],
      "metadata": {
        "id": "o5N_Fn2d4pwR"
      }
    },
    {
      "cell_type": "markdown",
      "source": [
        "Some listings are missing parking information, will replace it with 0. However, such information might be in description or other text columns. "
      ],
      "metadata": {
        "id": "J6gu2k5jE-Kr"
      }
    },
    {
      "cell_type": "code",
      "source": [
        "data['parking'] = data['parking'].fillna('No')"
      ],
      "metadata": {
        "id": "d4OfLxuHEGHN"
      },
      "execution_count": 32,
      "outputs": []
    },
    {
      "cell_type": "code",
      "source": [
        "data['parking'] = data['parking'].replace(\n",
        "    {'Yes': 1,\n",
        "     'No': 0,\n",
        "    }\n",
        "  ).astype(int)"
      ],
      "metadata": {
        "id": "H68nL-vCEUZt"
      },
      "execution_count": 33,
      "outputs": []
    },
    {
      "cell_type": "markdown",
      "source": [
        "### Building info name"
      ],
      "metadata": {
        "id": "XrXm4jsfK7xw"
      }
    },
    {
      "cell_type": "markdown",
      "source": [
        "As earlier building name was extracted from full address column and saved in new, this one could be dropped. Before that, let's check if names actualy match."
      ],
      "metadata": {
        "id": "q3_bPLqxNlyd"
      }
    },
    {
      "cell_type": "code",
      "source": [
        "data[['building-info-name', 'address_building']].sample(10)"
      ],
      "metadata": {
        "colab": {
          "base_uri": "https://localhost:8080/",
          "height": 359
        },
        "id": "PLb-fdmQK9Yg",
        "outputId": "77e41b51-2dd0-49b6-99ff-a990859d54ea"
      },
      "execution_count": 34,
      "outputs": [
        {
          "output_type": "execute_result",
          "data": {
            "text/plain": [
              "                               building-info-name  \\\n",
              "2953                                          NaN   \n",
              "817                                           NaN   \n",
              "2816                                          NaN   \n",
              "3751                                          NaN   \n",
              "87                                            NaN   \n",
              "3777                                          NaN   \n",
              "197   Address Fountain Views Residences - Tower 1   \n",
              "57                                          LOFTS   \n",
              "1496                                          NaN   \n",
              "2955                                  Opera Grand   \n",
              "\n",
              "                  address_building  \n",
              "2953                  Burj Khalifa  \n",
              "817   The Address Sky View Tower 1  \n",
              "2816                Roda Al Murooj  \n",
              "3751               The Residence 6  \n",
              "87                    Burj Khalifa  \n",
              "3777                Downtown Views  \n",
              "197   The Address Fountain Views 1  \n",
              "57                  The Lofts West  \n",
              "1496  The Address Fountain Views 3  \n",
              "2955                   Opera Grand  "
            ],
            "text/html": [
              "\n",
              "  <div id=\"df-194c99b4-1ed7-4c05-93a5-59817cf431ef\">\n",
              "    <div class=\"colab-df-container\">\n",
              "      <div>\n",
              "<style scoped>\n",
              "    .dataframe tbody tr th:only-of-type {\n",
              "        vertical-align: middle;\n",
              "    }\n",
              "\n",
              "    .dataframe tbody tr th {\n",
              "        vertical-align: top;\n",
              "    }\n",
              "\n",
              "    .dataframe thead th {\n",
              "        text-align: right;\n",
              "    }\n",
              "</style>\n",
              "<table border=\"1\" class=\"dataframe\">\n",
              "  <thead>\n",
              "    <tr style=\"text-align: right;\">\n",
              "      <th></th>\n",
              "      <th>building-info-name</th>\n",
              "      <th>address_building</th>\n",
              "    </tr>\n",
              "  </thead>\n",
              "  <tbody>\n",
              "    <tr>\n",
              "      <th>2953</th>\n",
              "      <td>NaN</td>\n",
              "      <td>Burj Khalifa</td>\n",
              "    </tr>\n",
              "    <tr>\n",
              "      <th>817</th>\n",
              "      <td>NaN</td>\n",
              "      <td>The Address Sky View Tower 1</td>\n",
              "    </tr>\n",
              "    <tr>\n",
              "      <th>2816</th>\n",
              "      <td>NaN</td>\n",
              "      <td>Roda Al Murooj</td>\n",
              "    </tr>\n",
              "    <tr>\n",
              "      <th>3751</th>\n",
              "      <td>NaN</td>\n",
              "      <td>The Residence 6</td>\n",
              "    </tr>\n",
              "    <tr>\n",
              "      <th>87</th>\n",
              "      <td>NaN</td>\n",
              "      <td>Burj Khalifa</td>\n",
              "    </tr>\n",
              "    <tr>\n",
              "      <th>3777</th>\n",
              "      <td>NaN</td>\n",
              "      <td>Downtown Views</td>\n",
              "    </tr>\n",
              "    <tr>\n",
              "      <th>197</th>\n",
              "      <td>Address Fountain Views Residences - Tower 1</td>\n",
              "      <td>The Address Fountain Views 1</td>\n",
              "    </tr>\n",
              "    <tr>\n",
              "      <th>57</th>\n",
              "      <td>LOFTS</td>\n",
              "      <td>The Lofts West</td>\n",
              "    </tr>\n",
              "    <tr>\n",
              "      <th>1496</th>\n",
              "      <td>NaN</td>\n",
              "      <td>The Address Fountain Views 3</td>\n",
              "    </tr>\n",
              "    <tr>\n",
              "      <th>2955</th>\n",
              "      <td>Opera Grand</td>\n",
              "      <td>Opera Grand</td>\n",
              "    </tr>\n",
              "  </tbody>\n",
              "</table>\n",
              "</div>\n",
              "      <button class=\"colab-df-convert\" onclick=\"convertToInteractive('df-194c99b4-1ed7-4c05-93a5-59817cf431ef')\"\n",
              "              title=\"Convert this dataframe to an interactive table.\"\n",
              "              style=\"display:none;\">\n",
              "        \n",
              "  <svg xmlns=\"http://www.w3.org/2000/svg\" height=\"24px\"viewBox=\"0 0 24 24\"\n",
              "       width=\"24px\">\n",
              "    <path d=\"M0 0h24v24H0V0z\" fill=\"none\"/>\n",
              "    <path d=\"M18.56 5.44l.94 2.06.94-2.06 2.06-.94-2.06-.94-.94-2.06-.94 2.06-2.06.94zm-11 1L8.5 8.5l.94-2.06 2.06-.94-2.06-.94L8.5 2.5l-.94 2.06-2.06.94zm10 10l.94 2.06.94-2.06 2.06-.94-2.06-.94-.94-2.06-.94 2.06-2.06.94z\"/><path d=\"M17.41 7.96l-1.37-1.37c-.4-.4-.92-.59-1.43-.59-.52 0-1.04.2-1.43.59L10.3 9.45l-7.72 7.72c-.78.78-.78 2.05 0 2.83L4 21.41c.39.39.9.59 1.41.59.51 0 1.02-.2 1.41-.59l7.78-7.78 2.81-2.81c.8-.78.8-2.07 0-2.86zM5.41 20L4 18.59l7.72-7.72 1.47 1.35L5.41 20z\"/>\n",
              "  </svg>\n",
              "      </button>\n",
              "      \n",
              "  <style>\n",
              "    .colab-df-container {\n",
              "      display:flex;\n",
              "      flex-wrap:wrap;\n",
              "      gap: 12px;\n",
              "    }\n",
              "\n",
              "    .colab-df-convert {\n",
              "      background-color: #E8F0FE;\n",
              "      border: none;\n",
              "      border-radius: 50%;\n",
              "      cursor: pointer;\n",
              "      display: none;\n",
              "      fill: #1967D2;\n",
              "      height: 32px;\n",
              "      padding: 0 0 0 0;\n",
              "      width: 32px;\n",
              "    }\n",
              "\n",
              "    .colab-df-convert:hover {\n",
              "      background-color: #E2EBFA;\n",
              "      box-shadow: 0px 1px 2px rgba(60, 64, 67, 0.3), 0px 1px 3px 1px rgba(60, 64, 67, 0.15);\n",
              "      fill: #174EA6;\n",
              "    }\n",
              "\n",
              "    [theme=dark] .colab-df-convert {\n",
              "      background-color: #3B4455;\n",
              "      fill: #D2E3FC;\n",
              "    }\n",
              "\n",
              "    [theme=dark] .colab-df-convert:hover {\n",
              "      background-color: #434B5C;\n",
              "      box-shadow: 0px 1px 3px 1px rgba(0, 0, 0, 0.15);\n",
              "      filter: drop-shadow(0px 1px 2px rgba(0, 0, 0, 0.3));\n",
              "      fill: #FFFFFF;\n",
              "    }\n",
              "  </style>\n",
              "\n",
              "      <script>\n",
              "        const buttonEl =\n",
              "          document.querySelector('#df-194c99b4-1ed7-4c05-93a5-59817cf431ef button.colab-df-convert');\n",
              "        buttonEl.style.display =\n",
              "          google.colab.kernel.accessAllowed ? 'block' : 'none';\n",
              "\n",
              "        async function convertToInteractive(key) {\n",
              "          const element = document.querySelector('#df-194c99b4-1ed7-4c05-93a5-59817cf431ef');\n",
              "          const dataTable =\n",
              "            await google.colab.kernel.invokeFunction('convertToInteractive',\n",
              "                                                     [key], {});\n",
              "          if (!dataTable) return;\n",
              "\n",
              "          const docLinkHtml = 'Like what you see? Visit the ' +\n",
              "            '<a target=\"_blank\" href=https://colab.research.google.com/notebooks/data_table.ipynb>data table notebook</a>'\n",
              "            + ' to learn more about interactive tables.';\n",
              "          element.innerHTML = '';\n",
              "          dataTable['output_type'] = 'display_data';\n",
              "          await google.colab.output.renderOutput(dataTable, element);\n",
              "          const docLink = document.createElement('div');\n",
              "          docLink.innerHTML = docLinkHtml;\n",
              "          element.appendChild(docLink);\n",
              "        }\n",
              "      </script>\n",
              "    </div>\n",
              "  </div>\n",
              "  "
            ]
          },
          "metadata": {},
          "execution_count": 34
        }
      ]
    },
    {
      "cell_type": "code",
      "source": [
        "data.drop(['building-info-name'], axis=1, inplace=True)"
      ],
      "metadata": {
        "id": "-mdxqpAWCzO3"
      },
      "execution_count": 35,
      "outputs": []
    },
    {
      "cell_type": "markdown",
      "source": [
        "### Building info floors"
      ],
      "metadata": {
        "id": "kJWUo9ItGYiF"
      }
    },
    {
      "cell_type": "markdown",
      "source": [
        "Number of floors, some buildings are missing that information and temporary will replace it with **0** "
      ],
      "metadata": {
        "id": "C4FKMCWNHWgy"
      }
    },
    {
      "cell_type": "code",
      "source": [
        "data['building-info-floors'].unique()"
      ],
      "metadata": {
        "colab": {
          "base_uri": "https://localhost:8080/"
        },
        "id": "jU6flB39GZlr",
        "outputId": "7fb08021-a404-4b52-a7f6-f3f559d22556"
      },
      "execution_count": 36,
      "outputs": [
        {
          "output_type": "execute_result",
          "data": {
            "text/plain": [
              "array([nan, 73., 19., 55., 23., 56.,  9., 40., 30., 31., 41.,  4., 51.,\n",
              "       20., 33., 65., 17., 21., 62., 16., 43., 18., 45.,  5., 34., 39.,\n",
              "       25.,  8., 48., 36., 32., 28., 64., 27., 60., 52., 47., 24., 26.,\n",
              "        6.,  7., 12., 42.])"
            ]
          },
          "metadata": {},
          "execution_count": 36
        }
      ]
    },
    {
      "cell_type": "code",
      "source": [
        "data['building-info-floors'] = data['building-info-floors'].fillna(0)"
      ],
      "metadata": {
        "id": "bw5WL0muJcVD"
      },
      "execution_count": 37,
      "outputs": []
    },
    {
      "cell_type": "code",
      "source": [
        "data['building-info-floors'] = data['building-info-floors'].astype(int)"
      ],
      "metadata": {
        "id": "Ux-P1WSRJzS2"
      },
      "execution_count": 38,
      "outputs": []
    },
    {
      "cell_type": "markdown",
      "source": [
        "### Building info year"
      ],
      "metadata": {
        "id": "GjN0CnOp4zKW"
      }
    },
    {
      "cell_type": "markdown",
      "source": [
        "Will do the same for building completion year. Temporary replace missing values with **0** and change data type."
      ],
      "metadata": {
        "id": "_M7rMVUONU9O"
      }
    },
    {
      "cell_type": "code",
      "source": [
        "data['building-info-year'].unique()"
      ],
      "metadata": {
        "colab": {
          "base_uri": "https://localhost:8080/"
        },
        "id": "MFRhWs9GNUBG",
        "outputId": "cd0a2049-cbe1-48d2-ac26-318bc52f4b67"
      },
      "execution_count": 39,
      "outputs": [
        {
          "output_type": "execute_result",
          "data": {
            "text/plain": [
              "array([  nan, 2021., 2012., 2019., 2017., 2008., 2013., 2010., 2020.,\n",
              "       2009., 2018., 2022., 2016., 2015.])"
            ]
          },
          "metadata": {},
          "execution_count": 39
        }
      ]
    },
    {
      "cell_type": "code",
      "source": [
        "data['building-info-year'] = data['building-info-year'].fillna(0)"
      ],
      "metadata": {
        "id": "shV6BCoqOQVV"
      },
      "execution_count": 40,
      "outputs": []
    },
    {
      "cell_type": "code",
      "source": [
        "data['building-info-year'] = data['building-info-year'].astype(int)"
      ],
      "metadata": {
        "id": "15eVYmRTORJn"
      },
      "execution_count": 41,
      "outputs": []
    },
    {
      "cell_type": "markdown",
      "source": [
        "### Building info area (sqft)"
      ],
      "metadata": {
        "id": "Iuic5JxwL-GY"
      }
    },
    {
      "cell_type": "markdown",
      "source": [
        "For a few reasons will drop this column. First it is not so easy to find such information and get that data on each building, second reason is that unlikely total area of a buklding will affect rent prices more that number of floors or location."
      ],
      "metadata": {
        "id": "UdVsj8teQhYO"
      }
    },
    {
      "cell_type": "code",
      "source": [
        "data.drop(['building-info-area-sqft'], axis=1, inplace=True)"
      ],
      "metadata": {
        "id": "v0TGroK9RxJM"
      },
      "execution_count": 42,
      "outputs": []
    },
    {
      "cell_type": "markdown",
      "source": [
        "### Features and amenities"
      ],
      "metadata": {
        "id": "nOBRG96xSons"
      }
    },
    {
      "cell_type": "markdown",
      "source": [
        "Missing values will replace with **Unknown**"
      ],
      "metadata": {
        "id": "7gklIllASud3"
      }
    },
    {
      "cell_type": "code",
      "source": [
        "data['features-amenities'] = data['features-amenities'].fillna('Unknown')"
      ],
      "metadata": {
        "id": "-6vilJgmS_6t"
      },
      "execution_count": 43,
      "outputs": []
    },
    {
      "cell_type": "code",
      "source": [
        "data.info()"
      ],
      "metadata": {
        "colab": {
          "base_uri": "https://localhost:8080/"
        },
        "id": "USxgOt2jSeNX",
        "outputId": "14f5719e-6826-4225-c19e-8948e2c7b759"
      },
      "execution_count": 44,
      "outputs": [
        {
          "output_type": "stream",
          "name": "stdout",
          "text": [
            "<class 'pandas.core.frame.DataFrame'>\n",
            "Int64Index: 4802 entries, 0 to 4823\n",
            "Data columns (total 21 columns):\n",
            " #   Column                Non-Null Count  Dtype         \n",
            "---  ------                --------------  -----         \n",
            " 0   price                 4802 non-null   int64         \n",
            " 1   beds                  4802 non-null   int64         \n",
            " 2   baths                 4802 non-null   int64         \n",
            " 3   area-sqft             4802 non-null   int64         \n",
            " 4   description-title     4802 non-null   object        \n",
            " 5   description           4802 non-null   object        \n",
            " 6   reference-no          4802 non-null   object        \n",
            " 7   date-added            4802 non-null   datetime64[ns]\n",
            " 8   balcony-size-sqft     4802 non-null   int64         \n",
            " 9   parking               4802 non-null   int64         \n",
            " 10  building-info-floors  4802 non-null   int64         \n",
            " 11  building-info-year    4802 non-null   int64         \n",
            " 12  furnishing            4802 non-null   int64         \n",
            " 13  features-amenities    4802 non-null   object        \n",
            " 14  address_city          4802 non-null   object        \n",
            " 15  address_area          4802 non-null   object        \n",
            " 16  address_building      4802 non-null   object        \n",
            " 17  year                  4802 non-null   int64         \n",
            " 18  month                 4802 non-null   int64         \n",
            " 19  day                   4802 non-null   int64         \n",
            " 20  weekday               4802 non-null   int64         \n",
            "dtypes: datetime64[ns](1), int64(13), object(7)\n",
            "memory usage: 825.3+ KB\n"
          ]
        }
      ]
    },
    {
      "cell_type": "markdown",
      "source": [
        "Rename all columns to avoid confusion"
      ],
      "metadata": {
        "id": "-rr8xdMGoca7"
      }
    },
    {
      "cell_type": "code",
      "source": [
        "data.rename(columns={'area-sqft': 'area_sqft',\n",
        "                     'description-title': 'description_title',\n",
        "                     'reference-no': 'reference_no',\n",
        "                     'date-added': 'date_added',\n",
        "                     'balcony-size-sqft': 'balcony_size_sqft',\n",
        "                     'building-info-floors': 'building_info_floors',\n",
        "                     'building-info-year': 'building_info_year',\n",
        "                     'features-amenities': 'features_amenities',\n",
        "                     }, inplace=True)"
      ],
      "metadata": {
        "id": "EdEZD7Ipobxh"
      },
      "execution_count": 45,
      "outputs": []
    },
    {
      "cell_type": "markdown",
      "source": [
        "## Exploratory Data Analysis (EDA)"
      ],
      "metadata": {
        "id": "O7C_0uiYDL_Q"
      }
    },
    {
      "cell_type": "markdown",
      "source": [
        "Defining some functions for future use in analysis"
      ],
      "metadata": {
        "id": "l4USaUVRLNJ4"
      }
    },
    {
      "cell_type": "code",
      "source": [
        "def whiskers_limits(series):\n",
        "    q1 = np.percentile(series, 25)  # Q1\n",
        "    q2 = np.percentile(series, 50)  # Q2 (Median)\n",
        "    q3 = np.percentile(series, 75)  # Q3\n",
        "    whisker_maximum = round(q3 + ((q3 - q1) * 1.5), 2) # “maximum”: Q3 + 1.5 * IQR \n",
        "    whisker_minimum = round(q1 - ((q3 - q1) / 1.5), 2) # “minimum”: Q1 - 1.5 * IQR\n",
        "    above_whisker_maximum = data.query('@series > @whisker_maximum')[series.name].count()\n",
        "    total_amount = data[series.name].count()\n",
        "    \n",
        "    print(f\"{whisker_minimum} - Minimum value for left 'whisker'\\n\"\n",
        "          f\"{whisker_maximum} - Max value for right 'whisker',\\n\"\n",
        "          f\"{above_whisker_maximum} (or {round(above_whisker_maximum / total_amount * 100, 2)}%)\"\n",
        "          f\" of {total_amount} - N elements after the right 'whisker'\")"
      ],
      "metadata": {
        "id": "eIQYsOR8FVdi"
      },
      "execution_count": 46,
      "outputs": []
    },
    {
      "cell_type": "markdown",
      "source": [
        "### Price"
      ],
      "metadata": {
        "id": "eyFzmE9IDqKn"
      }
    },
    {
      "cell_type": "markdown",
      "source": [
        "Prices vary for all listings"
      ],
      "metadata": {
        "id": "zP6HjVKALgQH"
      }
    },
    {
      "cell_type": "code",
      "source": [
        "data['price'].plot(\n",
        "    kind = 'hist',\n",
        "    bins = 100,\n",
        "    # range = (0, 25_000_000),\n",
        "    title = \"Price Histogram\",\n",
        "    figsize = (15, 5),\n",
        "    grid = True,\n",
        "    legend = True,\n",
        "    color = '#2c3e50',\n",
        ")\n",
        "plt.ylabel('Number of listings')\n",
        "plt.xlabel('Price in AED')\n",
        "plt.ticklabel_format(axis='x', style='plain')\n",
        "# plt.xticks(np.arange(0, 600_000, 10_000))\n",
        "plt.show()"
      ],
      "metadata": {
        "colab": {
          "base_uri": "https://localhost:8080/",
          "height": 350
        },
        "id": "g2Qpq7wyCLNM",
        "outputId": "4e9e1031-0d26-4cb8-d49e-d564e14e2322"
      },
      "execution_count": 47,
      "outputs": [
        {
          "output_type": "display_data",
          "data": {
            "text/plain": [
              "<Figure size 1080x360 with 1 Axes>"
            ],
            "image/png": "[encoded data removed]"
          },
          "metadata": {}
        }
      ]
    },
    {
      "cell_type": "markdown",
      "source": [
        "We can see outliers messing all data starting from price 500,000 and up. Most likely it's a huge apartment with many rooms and more luxurious.  \n",
        "We would need to look into more common range of prices."
      ],
      "metadata": {
        "id": "cU5oax1ILxK7"
      }
    },
    {
      "cell_type": "code",
      "source": [
        "pd.options.display.float_format = '{:.2f}'.format\n",
        "# pd.reset_option('display.float_format')"
      ],
      "metadata": {
        "id": "8UjOV9ztIET4"
      },
      "execution_count": 48,
      "outputs": []
    },
    {
      "cell_type": "code",
      "source": [
        "data['price'].describe()"
      ],
      "metadata": {
        "colab": {
          "base_uri": "https://localhost:8080/"
        },
        "id": "WsgOM45gD2AV",
        "outputId": "045d8f76-dadf-4e79-e3a1-bdd8d144ef50"
      },
      "execution_count": 49,
      "outputs": [
        {
          "output_type": "execute_result",
          "data": {
            "text/plain": [
              "count      4802.00\n",
              "mean     228229.83\n",
              "std      171535.69\n",
              "min       40000.00\n",
              "25%      120000.00\n",
              "50%      180000.00\n",
              "75%      295000.00\n",
              "max     3000000.00\n",
              "Name: price, dtype: float64"
            ]
          },
          "metadata": {},
          "execution_count": 49
        }
      ]
    },
    {
      "cell_type": "markdown",
      "source": [
        "Using method describe it's easy to see that all prices start as minimum 40,000. Enormous difference between third quartile and max value."
      ],
      "metadata": {
        "id": "2BtGZ0LfMVSV"
      }
    },
    {
      "cell_type": "code",
      "source": [
        "data['price'].plot(\n",
        "    kind='box',\n",
        "    title = \"Price boxplot\",\n",
        "    figsize = (15, 5),\n",
        "    grid = True,\n",
        "    vert = False,\n",
        ")\n",
        "plt.xlim(0, 600_000)\n",
        "plt.xlabel('Price in AED')\n",
        "plt.show()"
      ],
      "metadata": {
        "colab": {
          "base_uri": "https://localhost:8080/",
          "height": 350
        },
        "id": "bGnvcJLWHRRU",
        "outputId": "9daf1cf0-e3de-42d9-abde-6a3473e5d206"
      },
      "execution_count": 50,
      "outputs": [
        {
          "output_type": "display_data",
          "data": {
            "text/plain": [
              "<Figure size 1080x360 with 1 Axes>"
            ],
            "image/png": "[encoded data removed]"
          },
          "metadata": {}
        }
      ]
    },
    {
      "cell_type": "code",
      "source": [
        "whiskers_limits(data['price'])"
      ],
      "metadata": {
        "colab": {
          "base_uri": "https://localhost:8080/"
        },
        "id": "IkDuOCWOIaFb",
        "outputId": "4519ea0d-1349-45b0-a7ff-8f47419af4a1"
      },
      "execution_count": 51,
      "outputs": [
        {
          "output_type": "stream",
          "name": "stdout",
          "text": [
            "3333.33 - Minimum value for left 'whisker'\n",
            "557500.0 - Max value for right 'whisker',\n",
            "126 (or 2.62%) of 4802 - N elements after the right 'whisker'\n"
          ]
        }
      ]
    },
    {
      "cell_type": "code",
      "source": [
        "data['price'].plot(\n",
        "    kind = 'hist',\n",
        "    bins = 50,\n",
        "    range = (30_000, 600_000),\n",
        "    title = \"Price Histogram\",\n",
        "    figsize = (15, 5),\n",
        "    grid = True,\n",
        "    legend = True,\n",
        "    color = '#2c3e50',\n",
        ")\n",
        "plt.ylabel('Number of listings')\n",
        "plt.xlabel('Price in AED')\n",
        "plt.ticklabel_format(axis='x', style='plain')\n",
        "# plt.xticks(np.arange(30_000, 600_000, 10_000))\n",
        "plt.show()"
      ],
      "metadata": {
        "colab": {
          "base_uri": "https://localhost:8080/",
          "height": 350
        },
        "id": "JrmLAX_XKyff",
        "outputId": "324e7896-3b34-4563-d65f-dbfcb8175665"
      },
      "execution_count": 52,
      "outputs": [
        {
          "output_type": "display_data",
          "data": {
            "text/plain": [
              "<Figure size 1080x360 with 1 Axes>"
            ],
            "image/png": "[encoded data removed]"
          },
          "metadata": {}
        }
      ]
    },
    {
      "cell_type": "markdown",
      "source": [
        "Boxplot to visualise range of prices for all apartments based on number of bedrooms"
      ],
      "metadata": {
        "id": "YfX4OBKNe3DV"
      }
    },
    {
      "cell_type": "code",
      "source": [
        "sns.set(rc={'figure.figsize':(15, 7)})\n",
        "sns.boxplot(data = data.query('price < 2_000_000')[['price', 'beds']],\n",
        "            x = 'price',\n",
        "            y = 'beds',\n",
        "            orient = \"h\",\n",
        "            order = [5,4,3,2,1,0],\n",
        "            )\n",
        "plt.title('Price boxplot')\n",
        "plt.ylabel('Number of bedrooms')\n",
        "plt.xlabel('Price in AED')\n",
        "plt.xticks(np.arange(0, 1_600_000, 100_000))\n",
        "plt.show()"
      ],
      "metadata": {
        "colab": {
          "base_uri": "https://localhost:8080/",
          "height": 464
        },
        "id": "m1ZDemE8KIZN",
        "outputId": "9e46c33b-0cc2-47e5-c6ba-a402a4fc8b14"
      },
      "execution_count": 53,
      "outputs": [
        {
          "output_type": "display_data",
          "data": {
            "text/plain": [
              "<Figure size 1080x504 with 1 Axes>"
            ],
            "image/png": "[encoded data removed]"
          },
          "metadata": {}
        }
      ]
    },
    {
      "cell_type": "markdown",
      "source": [
        "- Studio and 1 bedroom apartments are almost in the same price range, maybe due to similar total area of an apartment.   \n",
        "- Difference between 1 and 2 bedrooms are well noticed, but also has some outliers, that could be listings in a new buildings or at exceptional locations. \n",
        "- Listings between 3 and 4 bedrooms has huge difference, but even 4 bedrooms  apartments itselves has very wide price range. So wide that even 5 bedrooms apartments could be cheaper.  \n",
        "\n",
        "**[!]** - Keep in mind though that all prices on this boxplot are for all apartments furnished and unfurnished, in both districts DIFC and Downtown."
      ],
      "metadata": {
        "id": "DKfGnflSfT_P"
      }
    },
    {
      "cell_type": "markdown",
      "source": [
        "### Area "
      ],
      "metadata": {
        "id": "o2UZPerVgrL-"
      }
    },
    {
      "cell_type": "code",
      "source": [
        "data['area_sqft'].plot(\n",
        "    kind = 'hist',\n",
        "    bins = 100,\n",
        "    # range = (0, 25_000_000),\n",
        "    title = \"Area in sqft Histogram\",\n",
        "    figsize = (15, 5),\n",
        "    grid = True,\n",
        "    legend = True,\n",
        "    color = '#2c3e50',\n",
        ")\n",
        "plt.ylabel('Number of listings')\n",
        "plt.xlabel('sqft')\n",
        "plt.ticklabel_format(axis='x', style='plain')\n",
        "# plt.xticks(np.arange(0, 600_000, 10_000))\n",
        "plt.show()"
      ],
      "metadata": {
        "colab": {
          "base_uri": "https://localhost:8080/",
          "height": 355
        },
        "id": "bCody3lYg0AB",
        "outputId": "95745ee1-42c6-41e5-d1aa-ac6d81d2d4b8"
      },
      "execution_count": 54,
      "outputs": [
        {
          "output_type": "display_data",
          "data": {
            "text/plain": [
              "<Figure size 1080x360 with 1 Axes>"
            ],
            "image/png": "[encoded data removed]"
          },
          "metadata": {}
        }
      ]
    },
    {
      "cell_type": "code",
      "source": [
        "data['area_sqft'].describe()"
      ],
      "metadata": {
        "colab": {
          "base_uri": "https://localhost:8080/"
        },
        "id": "yk0og3fnq20q",
        "outputId": "0695c27d-3ead-475d-a7bd-ad98b6fa9700"
      },
      "execution_count": 55,
      "outputs": [
        {
          "output_type": "execute_result",
          "data": {
            "text/plain": [
              "count   4802.00\n",
              "mean    1362.79\n",
              "std      588.71\n",
              "min       37.00\n",
              "25%      882.00\n",
              "50%     1346.00\n",
              "75%     1716.00\n",
              "max     6792.00\n",
              "Name: area_sqft, dtype: float64"
            ]
          },
          "metadata": {},
          "execution_count": 55
        }
      ]
    },
    {
      "cell_type": "markdown",
      "source": [
        "Minimum area size is 37 sqft that couldn't be right even for studio apartment. "
      ],
      "metadata": {
        "id": "r-DXmxpcrQPY"
      }
    },
    {
      "cell_type": "code",
      "source": [
        "sns.set(rc={'figure.figsize':(15, 7)})\n",
        "sns.boxplot(data = data.query('area_sqft < 5_000')[['area_sqft', 'beds']],\n",
        "            x = 'area_sqft',\n",
        "            y = 'beds',\n",
        "            orient = \"h\",\n",
        "            order = [5,4,3,2,1,0],\n",
        "            )\n",
        "plt.title('Area boxplot')\n",
        "plt.ylabel('Number of bedrooms')\n",
        "plt.xlabel('Area in sqft')\n",
        "plt.xticks(np.arange(0, 5_500, 250))\n",
        "plt.show()"
      ],
      "metadata": {
        "colab": {
          "base_uri": "https://localhost:8080/",
          "height": 464
        },
        "id": "TIGV9MTcmGfq",
        "outputId": "388bd689-9779-4052-823c-f42fb3318bdb"
      },
      "execution_count": 56,
      "outputs": [
        {
          "output_type": "display_data",
          "data": {
            "text/plain": [
              "<Figure size 1080x504 with 1 Axes>"
            ],
            "image/png": "[encoded data removed]"
          },
          "metadata": {}
        }
      ]
    },
    {
      "cell_type": "markdown",
      "source": [
        "### Number of bedrooms"
      ],
      "metadata": {
        "id": "0UtaOQ3qYM-r"
      }
    },
    {
      "cell_type": "markdown",
      "source": [
        "Number of bedrooms across all listings "
      ],
      "metadata": {
        "id": "3fey89gLvVjD"
      }
    },
    {
      "cell_type": "code",
      "source": [
        "data['beds'].plot(\n",
        "    kind = 'hist',\n",
        "    title = \"Bedrooms Histogram\",\n",
        "    bins = 6,\n",
        "    figsize = (15, 5),\n",
        "    grid = True,\n",
        "    legend = True,\n",
        "    color = '#2c3e50',\n",
        ")\n",
        "plt.ylabel('Number of listings')\n",
        "plt.xlabel('Number of bedrooms, 0 - is Studio')\n",
        "plt.ticklabel_format(axis='x', style='plain')\n",
        "plt.show()"
      ],
      "metadata": {
        "colab": {
          "base_uri": "https://localhost:8080/",
          "height": 355
        },
        "id": "f_r3446BX4Of",
        "outputId": "485a92a8-8976-490c-a2b7-3e2fbc2fe7ed"
      },
      "execution_count": 57,
      "outputs": [
        {
          "output_type": "display_data",
          "data": {
            "text/plain": [
              "<Figure size 1080x360 with 1 Axes>"
            ],
            "image/png": "[encoded data removed]"
          },
          "metadata": {}
        }
      ]
    },
    {
      "cell_type": "markdown",
      "source": [
        "From the diagram above it seams that on the market right now more apartments with two bedrooms, then with one bedroom. Very few with 4 and almost nithing with 5. \n",
        "Let's count how many listings of each exacly "
      ],
      "metadata": {
        "id": "P7uY1TJUwHDN"
      }
    },
    {
      "cell_type": "code",
      "source": [
        "data['beds'].value_counts()"
      ],
      "metadata": {
        "colab": {
          "base_uri": "https://localhost:8080/"
        },
        "id": "hnsJ0EucYeeP",
        "outputId": "3e3ec44c-cf51-4245-9b88-2154187dc42e"
      },
      "execution_count": 58,
      "outputs": [
        {
          "output_type": "execute_result",
          "data": {
            "text/plain": [
              "2    1983\n",
              "1    1474\n",
              "3     832\n",
              "0     435\n",
              "4      75\n",
              "5       3\n",
              "Name: beds, dtype: int64"
            ]
          },
          "metadata": {},
          "execution_count": 58
        }
      ]
    },
    {
      "cell_type": "markdown",
      "source": [
        "More listings of two bedroom apartemnts followed by one bedroom"
      ],
      "metadata": {
        "id": "WF5-f8vUa030"
      }
    },
    {
      "cell_type": "markdown",
      "source": [
        "#### One bedroom apartments (1BDR)"
      ],
      "metadata": {
        "id": "9-4gCqb8eDkv"
      }
    },
    {
      "cell_type": "code",
      "source": [
        "data_1BDR = data.query('beds == 1')"
      ],
      "metadata": {
        "id": "iOR5dSl8Z72u"
      },
      "execution_count": 59,
      "outputs": []
    },
    {
      "cell_type": "code",
      "source": [
        "data_1BDR['price'].plot(\n",
        "    kind = 'hist',\n",
        "    bins = 20,\n",
        "    # range = (30_000, 600_000),\n",
        "    title = \"Price Histogram for 1BDR\",\n",
        "    figsize = (15, 5),\n",
        "    grid = True,\n",
        "    legend = True,\n",
        "    color = '#2c3e50',\n",
        ")\n",
        "plt.ylabel('Number of listings')\n",
        "plt.xlabel('Price in AED')\n",
        "plt.ticklabel_format(axis='x', style='plain')\n",
        "plt.show()"
      ],
      "metadata": {
        "colab": {
          "base_uri": "https://localhost:8080/",
          "height": 355
        },
        "id": "CWJ3aiq2cH_O",
        "outputId": "42d05c3c-1174-4573-ad29-87e50476a445"
      },
      "execution_count": 60,
      "outputs": [
        {
          "output_type": "display_data",
          "data": {
            "text/plain": [
              "<Figure size 1080x360 with 1 Axes>"
            ],
            "image/png": "[encoded data removed]"
          },
          "metadata": {}
        }
      ]
    },
    {
      "cell_type": "code",
      "source": [
        "data_1BDR['price'].describe()"
      ],
      "metadata": {
        "colab": {
          "base_uri": "https://localhost:8080/"
        },
        "id": "gkjxV4Hwc5mT",
        "outputId": "41fae0c3-517d-48b4-a79e-6285f71ca5c2"
      },
      "execution_count": 61,
      "outputs": [
        {
          "output_type": "execute_result",
          "data": {
            "text/plain": [
              "count     1474.00\n",
              "mean    128599.18\n",
              "std      42612.28\n",
              "min      59998.00\n",
              "25%      95000.00\n",
              "50%     115000.00\n",
              "75%     160000.00\n",
              "max     280000.00\n",
              "Name: price, dtype: float64"
            ]
          },
          "metadata": {},
          "execution_count": 61
        }
      ]
    },
    {
      "cell_type": "code",
      "source": [
        "data_1BDR[['price', 'area_sqft', 'baths']].corr()"
      ],
      "metadata": {
        "colab": {
          "base_uri": "https://localhost:8080/",
          "height": 142
        },
        "id": "OgiAjAhsenqV",
        "outputId": "9903ab74-30ec-4d6d-a5b9-373272d19ea1"
      },
      "execution_count": 62,
      "outputs": [
        {
          "output_type": "execute_result",
          "data": {
            "text/plain": [
              "           price  area_sqft  baths\n",
              "price       1.00       0.05   0.07\n",
              "area_sqft   0.05       1.00   0.21\n",
              "baths       0.07       0.21   1.00"
            ],
            "text/html": [
              "\n",
              "  <div id=\"df-fbb8c969-0c2c-49ea-bb60-77dbaee98a54\">\n",
              "    <div class=\"colab-df-container\">\n",
              "      <div>\n",
              "<style scoped>\n",
              "    .dataframe tbody tr th:only-of-type {\n",
              "        vertical-align: middle;\n",
              "    }\n",
              "\n",
              "    .dataframe tbody tr th {\n",
              "        vertical-align: top;\n",
              "    }\n",
              "\n",
              "    .dataframe thead th {\n",
              "        text-align: right;\n",
              "    }\n",
              "</style>\n",
              "<table border=\"1\" class=\"dataframe\">\n",
              "  <thead>\n",
              "    <tr style=\"text-align: right;\">\n",
              "      <th></th>\n",
              "      <th>price</th>\n",
              "      <th>area_sqft</th>\n",
              "      <th>baths</th>\n",
              "    </tr>\n",
              "  </thead>\n",
              "  <tbody>\n",
              "    <tr>\n",
              "      <th>price</th>\n",
              "      <td>1.00</td>\n",
              "      <td>0.05</td>\n",
              "      <td>0.07</td>\n",
              "    </tr>\n",
              "    <tr>\n",
              "      <th>area_sqft</th>\n",
              "      <td>0.05</td>\n",
              "      <td>1.00</td>\n",
              "      <td>0.21</td>\n",
              "    </tr>\n",
              "    <tr>\n",
              "      <th>baths</th>\n",
              "      <td>0.07</td>\n",
              "      <td>0.21</td>\n",
              "      <td>1.00</td>\n",
              "    </tr>\n",
              "  </tbody>\n",
              "</table>\n",
              "</div>\n",
              "      <button class=\"colab-df-convert\" onclick=\"convertToInteractive('df-fbb8c969-0c2c-49ea-bb60-77dbaee98a54')\"\n",
              "              title=\"Convert this dataframe to an interactive table.\"\n",
              "              style=\"display:none;\">\n",
              "        \n",
              "  <svg xmlns=\"http://www.w3.org/2000/svg\" height=\"24px\"viewBox=\"0 0 24 24\"\n",
              "       width=\"24px\">\n",
              "    <path d=\"M0 0h24v24H0V0z\" fill=\"none\"/>\n",
              "    <path d=\"M18.56 5.44l.94 2.06.94-2.06 2.06-.94-2.06-.94-.94-2.06-.94 2.06-2.06.94zm-11 1L8.5 8.5l.94-2.06 2.06-.94-2.06-.94L8.5 2.5l-.94 2.06-2.06.94zm10 10l.94 2.06.94-2.06 2.06-.94-2.06-.94-.94-2.06-.94 2.06-2.06.94z\"/><path d=\"M17.41 7.96l-1.37-1.37c-.4-.4-.92-.59-1.43-.59-.52 0-1.04.2-1.43.59L10.3 9.45l-7.72 7.72c-.78.78-.78 2.05 0 2.83L4 21.41c.39.39.9.59 1.41.59.51 0 1.02-.2 1.41-.59l7.78-7.78 2.81-2.81c.8-.78.8-2.07 0-2.86zM5.41 20L4 18.59l7.72-7.72 1.47 1.35L5.41 20z\"/>\n",
              "  </svg>\n",
              "      </button>\n",
              "      \n",
              "  <style>\n",
              "    .colab-df-container {\n",
              "      display:flex;\n",
              "      flex-wrap:wrap;\n",
              "      gap: 12px;\n",
              "    }\n",
              "\n",
              "    .colab-df-convert {\n",
              "      background-color: #E8F0FE;\n",
              "      border: none;\n",
              "      border-radius: 50%;\n",
              "      cursor: pointer;\n",
              "      display: none;\n",
              "      fill: #1967D2;\n",
              "      height: 32px;\n",
              "      padding: 0 0 0 0;\n",
              "      width: 32px;\n",
              "    }\n",
              "\n",
              "    .colab-df-convert:hover {\n",
              "      background-color: #E2EBFA;\n",
              "      box-shadow: 0px 1px 2px rgba(60, 64, 67, 0.3), 0px 1px 3px 1px rgba(60, 64, 67, 0.15);\n",
              "      fill: #174EA6;\n",
              "    }\n",
              "\n",
              "    [theme=dark] .colab-df-convert {\n",
              "      background-color: #3B4455;\n",
              "      fill: #D2E3FC;\n",
              "    }\n",
              "\n",
              "    [theme=dark] .colab-df-convert:hover {\n",
              "      background-color: #434B5C;\n",
              "      box-shadow: 0px 1px 3px 1px rgba(0, 0, 0, 0.15);\n",
              "      filter: drop-shadow(0px 1px 2px rgba(0, 0, 0, 0.3));\n",
              "      fill: #FFFFFF;\n",
              "    }\n",
              "  </style>\n",
              "\n",
              "      <script>\n",
              "        const buttonEl =\n",
              "          document.querySelector('#df-fbb8c969-0c2c-49ea-bb60-77dbaee98a54 button.colab-df-convert');\n",
              "        buttonEl.style.display =\n",
              "          google.colab.kernel.accessAllowed ? 'block' : 'none';\n",
              "\n",
              "        async function convertToInteractive(key) {\n",
              "          const element = document.querySelector('#df-fbb8c969-0c2c-49ea-bb60-77dbaee98a54');\n",
              "          const dataTable =\n",
              "            await google.colab.kernel.invokeFunction('convertToInteractive',\n",
              "                                                     [key], {});\n",
              "          if (!dataTable) return;\n",
              "\n",
              "          const docLinkHtml = 'Like what you see? Visit the ' +\n",
              "            '<a target=\"_blank\" href=https://colab.research.google.com/notebooks/data_table.ipynb>data table notebook</a>'\n",
              "            + ' to learn more about interactive tables.';\n",
              "          element.innerHTML = '';\n",
              "          dataTable['output_type'] = 'display_data';\n",
              "          await google.colab.output.renderOutput(dataTable, element);\n",
              "          const docLink = document.createElement('div');\n",
              "          docLink.innerHTML = docLinkHtml;\n",
              "          element.appendChild(docLink);\n",
              "        }\n",
              "      </script>\n",
              "    </div>\n",
              "  </div>\n",
              "  "
            ]
          },
          "metadata": {},
          "execution_count": 62
        }
      ]
    },
    {
      "cell_type": "markdown",
      "source": [
        "## ML"
      ],
      "metadata": {
        "id": "ztBdJ2gE1n7q"
      }
    },
    {
      "cell_type": "code",
      "source": [
        "data.info()"
      ],
      "metadata": {
        "colab": {
          "base_uri": "https://localhost:8080/"
        },
        "id": "y5cx6u781uQz",
        "outputId": "aaeb7b72-106a-4e41-8458-f38be30043a3"
      },
      "execution_count": 63,
      "outputs": [
        {
          "output_type": "stream",
          "name": "stdout",
          "text": [
            "<class 'pandas.core.frame.DataFrame'>\n",
            "Int64Index: 4802 entries, 0 to 4823\n",
            "Data columns (total 21 columns):\n",
            " #   Column                Non-Null Count  Dtype         \n",
            "---  ------                --------------  -----         \n",
            " 0   price                 4802 non-null   int64         \n",
            " 1   beds                  4802 non-null   int64         \n",
            " 2   baths                 4802 non-null   int64         \n",
            " 3   area_sqft             4802 non-null   int64         \n",
            " 4   description_title     4802 non-null   object        \n",
            " 5   description           4802 non-null   object        \n",
            " 6   reference_no          4802 non-null   object        \n",
            " 7   date_added            4802 non-null   datetime64[ns]\n",
            " 8   balcony_size_sqft     4802 non-null   int64         \n",
            " 9   parking               4802 non-null   int64         \n",
            " 10  building_info_floors  4802 non-null   int64         \n",
            " 11  building_info_year    4802 non-null   int64         \n",
            " 12  furnishing            4802 non-null   int64         \n",
            " 13  features_amenities    4802 non-null   object        \n",
            " 14  address_city          4802 non-null   object        \n",
            " 15  address_area          4802 non-null   object        \n",
            " 16  address_building      4802 non-null   object        \n",
            " 17  year                  4802 non-null   int64         \n",
            " 18  month                 4802 non-null   int64         \n",
            " 19  day                   4802 non-null   int64         \n",
            " 20  weekday               4802 non-null   int64         \n",
            "dtypes: datetime64[ns](1), int64(13), object(7)\n",
            "memory usage: 825.3+ KB\n"
          ]
        }
      ]
    },
    {
      "cell_type": "code",
      "source": [
        "# data_ml = data.query('balcony_size_sqft > 0 and building_info_floors > 0 and building_info_year > 0 and furnishing > -1').copy()"
      ],
      "metadata": {
        "id": "DIf1k-QS16Lx"
      },
      "execution_count": 64,
      "outputs": []
    },
    {
      "cell_type": "code",
      "source": [
        "data_ml = data.copy()"
      ],
      "metadata": {
        "id": "LzxBr9fg-Uuj"
      },
      "execution_count": 65,
      "outputs": []
    },
    {
      "cell_type": "code",
      "source": [
        "data_ml['price_sqft'] = data_ml['price'] / data_ml['area_sqft']"
      ],
      "metadata": {
        "id": "YqegJHRr2ydf"
      },
      "execution_count": 66,
      "outputs": []
    },
    {
      "cell_type": "code",
      "source": [
        "data_ml['price_sqft'] = pd.to_numeric(round(data_ml['price_sqft']), downcast = 'integer')"
      ],
      "metadata": {
        "id": "Nj-jYGo2Dgw2"
      },
      "execution_count": 67,
      "outputs": []
    },
    {
      "cell_type": "code",
      "source": [
        "data_ml['address_area'].unique()"
      ],
      "metadata": {
        "colab": {
          "base_uri": "https://localhost:8080/"
        },
        "id": "9fssJdiP7BkR",
        "outputId": "9fe070ef-b848-433a-f13d-65f963456e73"
      },
      "execution_count": 68,
      "outputs": [
        {
          "output_type": "execute_result",
          "data": {
            "text/plain": [
              "array(['Downtown Dubai', 'DIFC'], dtype=object)"
            ]
          },
          "metadata": {},
          "execution_count": 68
        }
      ]
    },
    {
      "cell_type": "code",
      "source": [
        "data_ml['address_area'] = data_ml['address_area'].replace(\n",
        "    {'Downtown Dubai': 1,\n",
        "     'DIFC': 0,\n",
        "    }\n",
        "  ).astype(int)"
      ],
      "metadata": {
        "id": "y4eErmiPC-OP"
      },
      "execution_count": 69,
      "outputs": []
    },
    {
      "cell_type": "code",
      "source": [
        "data_ml.drop(['balcony_size_sqft',\n",
        "              'building_info_floors',\n",
        "              'building_info_year',\n",
        "              'description_title',\n",
        "              'description',\n",
        "              'reference_no',\n",
        "              'date_added',\n",
        "              'features_amenities',\n",
        "              'address_city'],\n",
        "              axis=1, inplace=True)"
      ],
      "metadata": {
        "id": "fFBfMuX15E-K"
      },
      "execution_count": 70,
      "outputs": []
    },
    {
      "cell_type": "code",
      "source": [
        "data_ml = data_ml.query('furnishing > -1')"
      ],
      "metadata": {
        "id": "oW3BNh7o3s8s"
      },
      "execution_count": 71,
      "outputs": []
    },
    {
      "cell_type": "code",
      "source": [
        "data_ml['year'].unique()"
      ],
      "metadata": {
        "colab": {
          "base_uri": "https://localhost:8080/"
        },
        "id": "qyLuHv13_lQo",
        "outputId": "e47f7c38-06c4-408a-a586-4fd5759809ac"
      },
      "execution_count": 72,
      "outputs": [
        {
          "output_type": "execute_result",
          "data": {
            "text/plain": [
              "array([2022, 2021, 2020, 2019])"
            ]
          },
          "metadata": {},
          "execution_count": 72
        }
      ]
    },
    {
      "cell_type": "code",
      "source": [
        "# data_ml['address_building'].unique()"
      ],
      "metadata": {
        "id": "WgWXfleU4Y--"
      },
      "execution_count": 73,
      "outputs": []
    },
    {
      "cell_type": "code",
      "source": [
        "data_ml[data_ml['address_building'] == 'DIFC']"
      ],
      "metadata": {
        "colab": {
          "base_uri": "https://localhost:8080/",
          "height": 496
        },
        "id": "EzYNb-S8BPo7",
        "outputId": "f2b720b9-0f54-46a7-d5f8-4f403c152b08"
      },
      "execution_count": 74,
      "outputs": [
        {
          "output_type": "execute_result",
          "data": {
            "text/plain": [
              "       price  beds  baths  area_sqft  parking  furnishing  address_area  \\\n",
              "242    92999     2      3       1400        0           0             0   \n",
              "653   110000     1      2        945        0           1             0   \n",
              "659    69999     1      2        850        0           0             0   \n",
              "1089  180000     2      2       1050        0           1             0   \n",
              "1319  125000     1      1        600        0           1             0   \n",
              "2413   70000     1      2        780        0           1             0   \n",
              "3360  125000     3      3       1800        0           0             0   \n",
              "3633   70000     1      2        780        0           1             0   \n",
              "3714  110000     1      2        945        0           1             0   \n",
              "4016  110000     1      2        945        0           1             0   \n",
              "4081   70000     1      2        780        0           1             0   \n",
              "4268  125000     3      3       1800        0           0             0   \n",
              "4662  125000     3      3       1800        0           0             0   \n",
              "\n",
              "     address_building  year  month  day  weekday  price_sqft  \n",
              "242              DIFC  2022      3   10        3          66  \n",
              "653              DIFC  2022      8    4        3         116  \n",
              "659              DIFC  2022      3   10        3          82  \n",
              "1089             DIFC  2022      5   27        4         171  \n",
              "1319             DIFC  2022      5   27        4         208  \n",
              "2413             DIFC  2022      2   25        4          90  \n",
              "3360             DIFC  2022      2   22        1          69  \n",
              "3633             DIFC  2022      2   25        4          90  \n",
              "3714             DIFC  2022      8    4        3         116  \n",
              "4016             DIFC  2022      8    4        3         116  \n",
              "4081             DIFC  2022      2   25        4          90  \n",
              "4268             DIFC  2022      2   22        1          69  \n",
              "4662             DIFC  2022      2   22        1          69  "
            ],
            "text/html": [
              "\n",
              "  <div id=\"df-92402bb0-ec7b-4931-993b-8e413cc2eaa4\">\n",
              "    <div class=\"colab-df-container\">\n",
              "      <div>\n",
              "<style scoped>\n",
              "    .dataframe tbody tr th:only-of-type {\n",
              "        vertical-align: middle;\n",
              "    }\n",
              "\n",
              "    .dataframe tbody tr th {\n",
              "        vertical-align: top;\n",
              "    }\n",
              "\n",
              "    .dataframe thead th {\n",
              "        text-align: right;\n",
              "    }\n",
              "</style>\n",
              "<table border=\"1\" class=\"dataframe\">\n",
              "  <thead>\n",
              "    <tr style=\"text-align: right;\">\n",
              "      <th></th>\n",
              "      <th>price</th>\n",
              "      <th>beds</th>\n",
              "      <th>baths</th>\n",
              "      <th>area_sqft</th>\n",
              "      <th>parking</th>\n",
              "      <th>furnishing</th>\n",
              "      <th>address_area</th>\n",
              "      <th>address_building</th>\n",
              "      <th>year</th>\n",
              "      <th>month</th>\n",
              "      <th>day</th>\n",
              "      <th>weekday</th>\n",
              "      <th>price_sqft</th>\n",
              "    </tr>\n",
              "  </thead>\n",
              "  <tbody>\n",
              "    <tr>\n",
              "      <th>242</th>\n",
              "      <td>92999</td>\n",
              "      <td>2</td>\n",
              "      <td>3</td>\n",
              "      <td>1400</td>\n",
              "      <td>0</td>\n",
              "      <td>0</td>\n",
              "      <td>0</td>\n",
              "      <td>DIFC</td>\n",
              "      <td>2022</td>\n",
              "      <td>3</td>\n",
              "      <td>10</td>\n",
              "      <td>3</td>\n",
              "      <td>66</td>\n",
              "    </tr>\n",
              "    <tr>\n",
              "      <th>653</th>\n",
              "      <td>110000</td>\n",
              "      <td>1</td>\n",
              "      <td>2</td>\n",
              "      <td>945</td>\n",
              "      <td>0</td>\n",
              "      <td>1</td>\n",
              "      <td>0</td>\n",
              "      <td>DIFC</td>\n",
              "      <td>2022</td>\n",
              "      <td>8</td>\n",
              "      <td>4</td>\n",
              "      <td>3</td>\n",
              "      <td>116</td>\n",
              "    </tr>\n",
              "    <tr>\n",
              "      <th>659</th>\n",
              "      <td>69999</td>\n",
              "      <td>1</td>\n",
              "      <td>2</td>\n",
              "      <td>850</td>\n",
              "      <td>0</td>\n",
              "      <td>0</td>\n",
              "      <td>0</td>\n",
              "      <td>DIFC</td>\n",
              "      <td>2022</td>\n",
              "      <td>3</td>\n",
              "      <td>10</td>\n",
              "      <td>3</td>\n",
              "      <td>82</td>\n",
              "    </tr>\n",
              "    <tr>\n",
              "      <th>1089</th>\n",
              "      <td>180000</td>\n",
              "      <td>2</td>\n",
              "      <td>2</td>\n",
              "      <td>1050</td>\n",
              "      <td>0</td>\n",
              "      <td>1</td>\n",
              "      <td>0</td>\n",
              "      <td>DIFC</td>\n",
              "      <td>2022</td>\n",
              "      <td>5</td>\n",
              "      <td>27</td>\n",
              "      <td>4</td>\n",
              "      <td>171</td>\n",
              "    </tr>\n",
              "    <tr>\n",
              "      <th>1319</th>\n",
              "      <td>125000</td>\n",
              "      <td>1</td>\n",
              "      <td>1</td>\n",
              "      <td>600</td>\n",
              "      <td>0</td>\n",
              "      <td>1</td>\n",
              "      <td>0</td>\n",
              "      <td>DIFC</td>\n",
              "      <td>2022</td>\n",
              "      <td>5</td>\n",
              "      <td>27</td>\n",
              "      <td>4</td>\n",
              "      <td>208</td>\n",
              "    </tr>\n",
              "    <tr>\n",
              "      <th>2413</th>\n",
              "      <td>70000</td>\n",
              "      <td>1</td>\n",
              "      <td>2</td>\n",
              "      <td>780</td>\n",
              "      <td>0</td>\n",
              "      <td>1</td>\n",
              "      <td>0</td>\n",
              "      <td>DIFC</td>\n",
              "      <td>2022</td>\n",
              "      <td>2</td>\n",
              "      <td>25</td>\n",
              "      <td>4</td>\n",
              "      <td>90</td>\n",
              "    </tr>\n",
              "    <tr>\n",
              "      <th>3360</th>\n",
              "      <td>125000</td>\n",
              "      <td>3</td>\n",
              "      <td>3</td>\n",
              "      <td>1800</td>\n",
              "      <td>0</td>\n",
              "      <td>0</td>\n",
              "      <td>0</td>\n",
              "      <td>DIFC</td>\n",
              "      <td>2022</td>\n",
              "      <td>2</td>\n",
              "      <td>22</td>\n",
              "      <td>1</td>\n",
              "      <td>69</td>\n",
              "    </tr>\n",
              "    <tr>\n",
              "      <th>3633</th>\n",
              "      <td>70000</td>\n",
              "      <td>1</td>\n",
              "      <td>2</td>\n",
              "      <td>780</td>\n",
              "      <td>0</td>\n",
              "      <td>1</td>\n",
              "      <td>0</td>\n",
              "      <td>DIFC</td>\n",
              "      <td>2022</td>\n",
              "      <td>2</td>\n",
              "      <td>25</td>\n",
              "      <td>4</td>\n",
              "      <td>90</td>\n",
              "    </tr>\n",
              "    <tr>\n",
              "      <th>3714</th>\n",
              "      <td>110000</td>\n",
              "      <td>1</td>\n",
              "      <td>2</td>\n",
              "      <td>945</td>\n",
              "      <td>0</td>\n",
              "      <td>1</td>\n",
              "      <td>0</td>\n",
              "      <td>DIFC</td>\n",
              "      <td>2022</td>\n",
              "      <td>8</td>\n",
              "      <td>4</td>\n",
              "      <td>3</td>\n",
              "      <td>116</td>\n",
              "    </tr>\n",
              "    <tr>\n",
              "      <th>4016</th>\n",
              "      <td>110000</td>\n",
              "      <td>1</td>\n",
              "      <td>2</td>\n",
              "      <td>945</td>\n",
              "      <td>0</td>\n",
              "      <td>1</td>\n",
              "      <td>0</td>\n",
              "      <td>DIFC</td>\n",
              "      <td>2022</td>\n",
              "      <td>8</td>\n",
              "      <td>4</td>\n",
              "      <td>3</td>\n",
              "      <td>116</td>\n",
              "    </tr>\n",
              "    <tr>\n",
              "      <th>4081</th>\n",
              "      <td>70000</td>\n",
              "      <td>1</td>\n",
              "      <td>2</td>\n",
              "      <td>780</td>\n",
              "      <td>0</td>\n",
              "      <td>1</td>\n",
              "      <td>0</td>\n",
              "      <td>DIFC</td>\n",
              "      <td>2022</td>\n",
              "      <td>2</td>\n",
              "      <td>25</td>\n",
              "      <td>4</td>\n",
              "      <td>90</td>\n",
              "    </tr>\n",
              "    <tr>\n",
              "      <th>4268</th>\n",
              "      <td>125000</td>\n",
              "      <td>3</td>\n",
              "      <td>3</td>\n",
              "      <td>1800</td>\n",
              "      <td>0</td>\n",
              "      <td>0</td>\n",
              "      <td>0</td>\n",
              "      <td>DIFC</td>\n",
              "      <td>2022</td>\n",
              "      <td>2</td>\n",
              "      <td>22</td>\n",
              "      <td>1</td>\n",
              "      <td>69</td>\n",
              "    </tr>\n",
              "    <tr>\n",
              "      <th>4662</th>\n",
              "      <td>125000</td>\n",
              "      <td>3</td>\n",
              "      <td>3</td>\n",
              "      <td>1800</td>\n",
              "      <td>0</td>\n",
              "      <td>0</td>\n",
              "      <td>0</td>\n",
              "      <td>DIFC</td>\n",
              "      <td>2022</td>\n",
              "      <td>2</td>\n",
              "      <td>22</td>\n",
              "      <td>1</td>\n",
              "      <td>69</td>\n",
              "    </tr>\n",
              "  </tbody>\n",
              "</table>\n",
              "</div>\n",
              "      <button class=\"colab-df-convert\" onclick=\"convertToInteractive('df-92402bb0-ec7b-4931-993b-8e413cc2eaa4')\"\n",
              "              title=\"Convert this dataframe to an interactive table.\"\n",
              "              style=\"display:none;\">\n",
              "        \n",
              "  <svg xmlns=\"http://www.w3.org/2000/svg\" height=\"24px\"viewBox=\"0 0 24 24\"\n",
              "       width=\"24px\">\n",
              "    <path d=\"M0 0h24v24H0V0z\" fill=\"none\"/>\n",
              "    <path d=\"M18.56 5.44l.94 2.06.94-2.06 2.06-.94-2.06-.94-.94-2.06-.94 2.06-2.06.94zm-11 1L8.5 8.5l.94-2.06 2.06-.94-2.06-.94L8.5 2.5l-.94 2.06-2.06.94zm10 10l.94 2.06.94-2.06 2.06-.94-2.06-.94-.94-2.06-.94 2.06-2.06.94z\"/><path d=\"M17.41 7.96l-1.37-1.37c-.4-.4-.92-.59-1.43-.59-.52 0-1.04.2-1.43.59L10.3 9.45l-7.72 7.72c-.78.78-.78 2.05 0 2.83L4 21.41c.39.39.9.59 1.41.59.51 0 1.02-.2 1.41-.59l7.78-7.78 2.81-2.81c.8-.78.8-2.07 0-2.86zM5.41 20L4 18.59l7.72-7.72 1.47 1.35L5.41 20z\"/>\n",
              "  </svg>\n",
              "      </button>\n",
              "      \n",
              "  <style>\n",
              "    .colab-df-container {\n",
              "      display:flex;\n",
              "      flex-wrap:wrap;\n",
              "      gap: 12px;\n",
              "    }\n",
              "\n",
              "    .colab-df-convert {\n",
              "      background-color: #E8F0FE;\n",
              "      border: none;\n",
              "      border-radius: 50%;\n",
              "      cursor: pointer;\n",
              "      display: none;\n",
              "      fill: #1967D2;\n",
              "      height: 32px;\n",
              "      padding: 0 0 0 0;\n",
              "      width: 32px;\n",
              "    }\n",
              "\n",
              "    .colab-df-convert:hover {\n",
              "      background-color: #E2EBFA;\n",
              "      box-shadow: 0px 1px 2px rgba(60, 64, 67, 0.3), 0px 1px 3px 1px rgba(60, 64, 67, 0.15);\n",
              "      fill: #174EA6;\n",
              "    }\n",
              "\n",
              "    [theme=dark] .colab-df-convert {\n",
              "      background-color: #3B4455;\n",
              "      fill: #D2E3FC;\n",
              "    }\n",
              "\n",
              "    [theme=dark] .colab-df-convert:hover {\n",
              "      background-color: #434B5C;\n",
              "      box-shadow: 0px 1px 3px 1px rgba(0, 0, 0, 0.15);\n",
              "      filter: drop-shadow(0px 1px 2px rgba(0, 0, 0, 0.3));\n",
              "      fill: #FFFFFF;\n",
              "    }\n",
              "  </style>\n",
              "\n",
              "      <script>\n",
              "        const buttonEl =\n",
              "          document.querySelector('#df-92402bb0-ec7b-4931-993b-8e413cc2eaa4 button.colab-df-convert');\n",
              "        buttonEl.style.display =\n",
              "          google.colab.kernel.accessAllowed ? 'block' : 'none';\n",
              "\n",
              "        async function convertToInteractive(key) {\n",
              "          const element = document.querySelector('#df-92402bb0-ec7b-4931-993b-8e413cc2eaa4');\n",
              "          const dataTable =\n",
              "            await google.colab.kernel.invokeFunction('convertToInteractive',\n",
              "                                                     [key], {});\n",
              "          if (!dataTable) return;\n",
              "\n",
              "          const docLinkHtml = 'Like what you see? Visit the ' +\n",
              "            '<a target=\"_blank\" href=https://colab.research.google.com/notebooks/data_table.ipynb>data table notebook</a>'\n",
              "            + ' to learn more about interactive tables.';\n",
              "          element.innerHTML = '';\n",
              "          dataTable['output_type'] = 'display_data';\n",
              "          await google.colab.output.renderOutput(dataTable, element);\n",
              "          const docLink = document.createElement('div');\n",
              "          docLink.innerHTML = docLinkHtml;\n",
              "          element.appendChild(docLink);\n",
              "        }\n",
              "      </script>\n",
              "    </div>\n",
              "  </div>\n",
              "  "
            ]
          },
          "metadata": {},
          "execution_count": 74
        }
      ]
    },
    {
      "cell_type": "code",
      "source": [
        "data_ml.info()"
      ],
      "metadata": {
        "colab": {
          "base_uri": "https://localhost:8080/"
        },
        "id": "WQkCvRc47-D3",
        "outputId": "7cf1c696-ef73-4077-e8f3-ebfed624bbe8"
      },
      "execution_count": 75,
      "outputs": [
        {
          "output_type": "stream",
          "name": "stdout",
          "text": [
            "<class 'pandas.core.frame.DataFrame'>\n",
            "Int64Index: 3287 entries, 0 to 4823\n",
            "Data columns (total 13 columns):\n",
            " #   Column            Non-Null Count  Dtype \n",
            "---  ------            --------------  ----- \n",
            " 0   price             3287 non-null   int64 \n",
            " 1   beds              3287 non-null   int64 \n",
            " 2   baths             3287 non-null   int64 \n",
            " 3   area_sqft         3287 non-null   int64 \n",
            " 4   parking           3287 non-null   int64 \n",
            " 5   furnishing        3287 non-null   int64 \n",
            " 6   address_area      3287 non-null   int64 \n",
            " 7   address_building  3287 non-null   object\n",
            " 8   year              3287 non-null   int64 \n",
            " 9   month             3287 non-null   int64 \n",
            " 10  day               3287 non-null   int64 \n",
            " 11  weekday           3287 non-null   int64 \n",
            " 12  price_sqft        3287 non-null   int16 \n",
            "dtypes: int16(1), int64(11), object(1)\n",
            "memory usage: 340.3+ KB\n"
          ]
        }
      ]
    },
    {
      "cell_type": "code",
      "source": [
        ""
      ],
      "metadata": {
        "id": "l3bEqobb8wRD"
      },
      "execution_count": 75,
      "outputs": []
    }
  ]
}